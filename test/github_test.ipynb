{
 "cells": [
  {
   "cell_type": "code",
   "execution_count": 1,
   "metadata": {},
   "outputs": [
    {
     "name": "stderr",
     "output_type": "stream",
     "text": [
      "ERROR:root:Login Failed\n"
     ]
    },
    {
     "name": "stdout",
     "output_type": "stream",
     "text": [
      "[('C1ae.small', '0.0'), ('C1ae.medium', '1.0'), ('M1ae.small', '2.0'), ('M1ae.medium', '3.0'), ('M1ae.large', '4.0'), ('M1ae.xlarge', '5.0'), ('M1ae.2xlarge', '6.0'), ('M1ae.3xlarge', '6.5'), ('M2ae.small', '7.0'), ('M2ae.medium', '8.0'), ('M2ae.large', '8.5'), ('M2ae.xlarge', '9.0'), ('G1ae.small', '10.0'), ('G1ae.medium', '11.0'), ('G1ae.large', '12.0'), ('G1ae.xlarge', '13.0'), ('G2ae.small', '9.0'), ('G2ae.medium', '10.0'), ('G2ae.large', '11.0'), ('G2ae.lxarge', '12.0'), ('Hpc1ae.small', '14.0'), ('Hpc1ae.medium', '16.0'), ('Hpc1ae.large', '18.0'), ('Hpc1ae.xlarge', '20.0'), ('Hpc1ae.2xlarge', '21.0'), ('Hpc1ae.3xlarge', '21.0'), ('T1ae.small', '32.0'), ('T1ae.medium', '36.0'), ('T1ae.large', '40.0'), ('T1ae.xlarge', '42.0'), ('T1ae.2xlarge', '48.0'), ('T1ae.3xlarge', '50.0'), ('Hpc2ae.small', '22.0'), ('Hpc2ae.medium', '24.0'), ('Hpc2ae.large', '26.0'), ('Hpc2ae.xlarge', '28.0'), ('P1ae.small', '30.0'), ('P1ae.medium', '32.0'), ('P1ae.large', '40.0'), ('P1ae.xlarge', '45.0'), ('T1az.large', '52.0'), ('T1az.xlarge', '55.0'), ('T1az.2xlarge', '60.0'), ('T1az.3xlarge', '62.0'), ('T1az.4xlarge', '65.0'), ('T1az.5xlarge', '68.0'), ('T1az.6xlarge', '70.0'), ('T1az.7xlarge', '72.0'), ('T1az.8xlarge', '75.0'), ('T1az.9xlarge', '90.0'), ('T1az.10xlarge', '80.0'), ('T2az.large', '62.0'), ('T2az.xlarge', '65.0'), ('T2az.2xlarge', '70.0'), ('T2az.3xlarge', '72.0'), ('T2az.4xlarge', '75.0'), ('T2az.5xlarge', '78.0'), ('T2az.6xlarge', '80.0'), ('T2az.7xlarge', '82.0'), ('T2az.8xlarge', '85.0'), ('T2az.9xlarge', '100.0'), ('T2az.10xlarge', '90.0'), ('Hpc2ad.small', '16.0'), ('Hpc2ad.medium', '18.0'), ('Hpc2ad.large', '20.0'), ('Hpc2ad.xlarge', '21.0'), ('Hpc2ad.1xlarge', '22.0'), ('Hpc2az.small', '21.0'), ('Hpc2az.medium', '23.0'), ('Hpc2az.large', '25.0'), ('Hpc2az.xlarge', '26.0'), ('Hpc2az.1xlarge', '27.0'), ('R1ae.small', '12.0'), ('R1ae.medium', '22.0'), ('R1ae.large', '30.0'), ('R2ae.small', '35.0'), ('R2ae.medium', '38.0'), ('R2ae.large', '50.0'), ('R2ae.xlarge', '52.0'), ('R2ae.1xlarge', '54.0'), ('R2ae.2xlarge', '56.0'), ('R2ae.3xlarge', '58.0')]\n"
     ]
    },
    {
     "name": "stderr",
     "output_type": "stream",
     "text": [
      "mar8s1:   0%|          | 0.00/1.68k [00:00<?, ?B/s]"
     ]
    },
    {
     "name": "stdout",
     "output_type": "stream",
     "text": [
      "https://plutotest.acl.swanipfs.com/ipfs/Qmcrvr8S86MwhmSTRJzLg4EdFvr1c22HFEbTdcsc7p1Y7E\n"
     ]
    }
   ],
   "source": [
    "import sys\n",
    "sys.path.insert(0, '..')\n",
    "\n",
    "import os\n",
    "from dotenv import load_dotenv\n",
    "load_dotenv()\n",
    "\n",
    "from swan import SwanAPI\n",
    "\n",
    "api_key = os.getenv('API_KEY')\n",
    "swan_api = SwanAPI(api_key)\n",
    "\n",
    "hardwares = swan_api.get_hardware_config()\n",
    "price_list = [(hardware.name, hardware.price) for hardware in hardwares]\n",
    "print(price_list)\n",
    "\n",
    "from swan import MCSAPI\n",
    "\n",
    "api_key = os.getenv('MCS_API_KEY')\n",
    "w = os.getenv('WALLET')\n",
    "mcs_api = MCSAPI(api_key)\n",
    "mcs_api.token\n",
    "\n",
    "from swan.object.source_uri import GithubRepo\n",
    "\n",
    "lag = GithubRepo(\"ZihangChenNBAI\", \"hello\", \"main\", w, hardwares[0])\n",
    "\n",
    "lag.get_github_tree()\n",
    "\n",
    "# Upload Directory to MCS\n",
    "response = lag.generate_source_uri('swan_test', 'mar8s1', './source.json', mcs_client = mcs_api)\n",
    "\n",
    "print(lag.source_uri)"
   ]
  }
 ],
 "metadata": {
  "kernelspec": {
   "display_name": "venv",
   "language": "python",
   "name": "python3"
  },
  "language_info": {
   "codemirror_mode": {
    "name": "ipython",
    "version": 3
   },
   "file_extension": ".py",
   "mimetype": "text/x-python",
   "name": "python",
   "nbconvert_exporter": "python",
   "pygments_lexer": "ipython3",
   "version": "3.8.9"
  }
 },
 "nbformat": 4,
 "nbformat_minor": 2
}
