{
 "cells": [
  {
   "cell_type": "markdown",
   "metadata": {},
   "source": [
    "## Demo for SDK (Lite Version)\n",
    "\n",
    "This example shows how to use SDK to deploy a task using a pre-defined repo source."
   ]
  },
  {
   "cell_type": "markdown",
   "metadata": {},
   "source": [
    "- [Getting Started](#Getting-Started)\n",
    "- [Creating And Deploying Task](#Creating-And-Deploying-Task)\n",
    "    - [Create task](#create-task)\n",
    "- [View Deployed Task Results](#View-Deployed-Task-Results)\n",
    "    - [Follow up task status](#follow-up-task-status-optional)\n",
    "    - [Show result](#show-result)\n",
    "- [Update Task](#update-task-optional)\n",
    "    - [Renew task](#renew-task-optional)\n",
    "    - [Terminate task](#terminate-task-optional)"
   ]
  },
  {
   "cell_type": "markdown",
   "metadata": {},
   "source": [
    "# Getting Started"
   ]
  },
  {
   "cell_type": "markdown",
   "metadata": {},
   "source": [
    "\n",
    "### Initialization\n",
    "\n",
    "To use this SDK, you need to add environment file `.env` in your local directory, including the following parameters (`PK` is private key):\n",
    "\n",
    "```\n",
    "API_KEY=\n",
    "WALLET=\n",
    "PK=\n",
    "```"
   ]
  },
  {
   "cell_type": "code",
   "execution_count": 1,
   "metadata": {},
   "outputs": [],
   "source": [
    "import sys\n",
    "sys.path.insert(0, '..') \n",
    "\n",
    "import os\n",
    "import time\n",
    "import dotenv\n",
    "import json\n",
    "dotenv.load_dotenv()\n",
    "\n",
    "import swan\n",
    "\n",
    "wallet_address = os.getenv('WALLET')\n",
    "private_key = os.getenv('PK')\n",
    "api_key = os.getenv('API_KEY')\n",
    "\n",
    "# for testnet dev\n",
    "# orchestrator = swan.resource(\n",
    "#     api_key=api_key, \n",
    "#     service_name='Orchestrator', \n",
    "#     login_url='https://swanhub-cali.swanchain.io',      # dev version for testnet login url\n",
    "#     url_endpoint='https://swanhub-cali.swanchain.io'    # dev version for testnet\n",
    "# )\n",
    "\n",
    "# # for testnet prod\n",
    "orchestrator = swan.resource(\n",
    "    api_key=api_key, \n",
    "    service_name='Orchestrator'\n",
    ")\n",
    "\n",
    "# # for mainnet\n",
    "# orchestrator = swan.resource(\n",
    "#     api_key=api_key, \n",
    "#     service_name='Orchestrator',\n",
    "#     network='mainnet'\n",
    "# )\n"
   ]
  },
  {
   "cell_type": "markdown",
   "metadata": {},
   "source": [
    "## Creating And Deploying Task"
   ]
  },
  {
   "cell_type": "markdown",
   "metadata": {},
   "source": [
    "Show repository image of pre-defined applications (optional)"
   ]
  },
  {
   "cell_type": "markdown",
   "metadata": {},
   "source": [
    "### Create task\n",
    "\n",
    "Choose a application repository image name from the above list, and provide wallet address and private key to `create_task` interface to deploy a task."
   ]
  },
  {
   "cell_type": "code",
   "execution_count": 12,
   "metadata": {},
   "outputs": [
    {
     "name": "stdout",
     "output_type": "stream",
     "text": [
      "Using C1ae.medium machine\n",
      "{\n",
      "  \"data\": {\n",
      "    \"config_id\": 2,\n",
      "    \"created_at\": 1720027285,\n",
      "    \"duration\": 3600,\n",
      "    \"ended_at\": null,\n",
      "    \"error_code\": null,\n",
      "    \"id\": 27214,\n",
      "    \"order_type\": \"Creation\",\n",
      "    \"refund_tx_hash\": null,\n",
      "    \"region\": \"global\",\n",
      "    \"space_id\": null,\n",
      "    \"start_in\": 300,\n",
      "    \"started_at\": 1720027285,\n",
      "    \"status\": \"pending_payment_confirm\",\n",
      "    \"task_uuid\": \"cf30a605-d29f-412e-a0ac-4e5adf477c0f\",\n",
      "    \"tx_hash\": \"0x82e196533ceb366850928b0bdefff9d52654bc29ac647442c827e8c4013d70ea\",\n",
      "    \"updated_at\": 1720027297,\n",
      "    \"uuid\": \"7f979d56-8f77-49b5-ad52-fbf29a62914d\"\n",
      "  },\n",
      "  \"message\": \"Query order status success.\",\n",
      "  \"status\": \"success\",\n",
      "  \"tx_hash\": \"0x82e196533ceb366850928b0bdefff9d52654bc29ac647442c827e8c4013d70ea\",\n",
      "  \"id\": \"cf30a605-d29f-412e-a0ac-4e5adf477c0f\"\n",
      "}\n"
     ]
    }
   ],
   "source": [
    "result = orchestrator.create_task(\n",
    "    wallet_address=wallet_address,\n",
    "    # app_repo_image='tetris',\n",
    "    repo_uri='https://github.com/alphaflows/tetris-docker-image',\n",
    "    private_key=private_key,\n",
    "    hardware_id=1,\n",
    "    auto_pay=True,\n",
    ")\n",
    "\n",
    "print(json.dumps(result, indent=2))\n",
    "task_uuid = result['id']"
   ]
  },
  {
   "cell_type": "markdown",
   "metadata": {},
   "source": [
    "If completed steps above, please go to [View Deployed Task Results](#View-Deployed-Task-Results) to view results, or [terminate task](#terminate-task) for more functions related to tasks"
   ]
  },
  {
   "cell_type": "markdown",
   "metadata": {},
   "source": [
    "## View Deployed Task Results"
   ]
  },
  {
   "cell_type": "markdown",
   "metadata": {},
   "source": [
    "### follow up task status (optional)\n",
    "The following step is optional, shows information when waiting for task being deployed."
   ]
  },
  {
   "cell_type": "code",
   "execution_count": 3,
   "metadata": {},
   "outputs": [
    {
     "ename": "NameError",
     "evalue": "name 'task_uuid' is not defined",
     "output_type": "error",
     "traceback": [
      "\u001b[0;31m---------------------------------------------------------------------------\u001b[0m",
      "\u001b[0;31mNameError\u001b[0m                                 Traceback (most recent call last)",
      "Cell \u001b[0;32mIn[3], line 2\u001b[0m\n\u001b[1;32m      1\u001b[0m \u001b[38;5;66;03m# Check task info\u001b[39;00m\n\u001b[0;32m----> 2\u001b[0m info \u001b[38;5;241m=\u001b[39m orchestrator\u001b[38;5;241m.\u001b[39mget_deployment_info(task_uuid\u001b[38;5;241m=\u001b[39m\u001b[43mtask_uuid\u001b[49m)\n\u001b[1;32m      3\u001b[0m \u001b[38;5;28mprint\u001b[39m(json\u001b[38;5;241m.\u001b[39mdumps(info, indent\u001b[38;5;241m=\u001b[39m\u001b[38;5;241m2\u001b[39m))\n",
      "\u001b[0;31mNameError\u001b[0m: name 'task_uuid' is not defined"
     ]
    }
   ],
   "source": [
    "# Check task info\n",
    "info = orchestrator.get_deployment_info(task_uuid=task_uuid)\n",
    "print(json.dumps(info, indent=2))"
   ]
  },
  {
   "cell_type": "markdown",
   "metadata": {},
   "source": [
    "### Show result\n",
    "\n",
    "`job_real_uri` is for show the result of application you deployed. Click the url to view application in browser."
   ]
  },
  {
   "cell_type": "code",
   "execution_count": 6,
   "metadata": {},
   "outputs": [
    {
     "name": "stdout",
     "output_type": "stream",
     "text": [
      "['https://9j5dby1c20.cp6.node.study', 'https://xtocnd4jap.tiaokong.top', 'https://mnbv8y9lg0.cp5.node.study']\n"
     ]
    }
   ],
   "source": [
    "result_url = orchestrator.get_real_url(task_uuid)\n",
    "print(result_url)"
   ]
  },
  {
   "cell_type": "markdown",
   "metadata": {},
   "source": [
    "## Update Task (optional)\n",
    "\n",
    "### Renew task (optional)\n",
    "\n",
    "Extend `task_uuid` by `duration`. Using auto pay automatically makes a transaction to SWAN contract and extends the task."
   ]
  },
  {
   "cell_type": "code",
   "execution_count": 7,
   "metadata": {},
   "outputs": [
    {
     "name": "stdout",
     "output_type": "stream",
     "text": [
      "successfully renewed task\n"
     ]
    }
   ],
   "source": [
    "renew_task = orchestrator.renew_task(\n",
    "    task_uuid=task_uuid, \n",
    "    duration=66, # Optional: Defaults to 3600 seconds (1 hour)\n",
    "    auto_pay=True, # Optional: Defaults to False, in this demo path set to True\n",
    "    private_key=private_key\n",
    ")\n",
    "\n",
    "if renew_task and renew_task['status'] == 'success':\n",
    "    print(f\"successfully renewed task\")"
   ]
  },
  {
   "cell_type": "markdown",
   "metadata": {},
   "source": [
    "### Terminate task (Optional)\n",
    "\n",
    "Terminate the task `task_uuid` and get a refund for remaining time"
   ]
  },
  {
   "cell_type": "code",
   "execution_count": 9,
   "metadata": {},
   "outputs": [
    {
     "name": "stdout",
     "output_type": "stream",
     "text": [
      "Terminated 31d4b3b3-f748-4dde-8dbb-0d060288c5fc successfully\n"
     ]
    }
   ],
   "source": [
    "terminate_status = orchestrator.terminate_task(task_uuid)\n",
    "if terminate_status['status'] == 'success':\n",
    "    print(f\"Terminated {task_uuid} successfully\")\n",
    "else:\n",
    "    print(f\"Failed to terminate {task_uuid}\")"
   ]
  },
  {
   "cell_type": "code",
   "execution_count": null,
   "metadata": {},
   "outputs": [],
   "source": []
  }
 ],
 "metadata": {
  "kernelspec": {
   "display_name": "swanchain",
   "language": "python",
   "name": "python3"
  },
  "language_info": {
   "codemirror_mode": {
    "name": "ipython",
    "version": 3
   },
   "file_extension": ".py",
   "mimetype": "text/x-python",
   "name": "python",
   "nbconvert_exporter": "python",
   "pygments_lexer": "ipython3",
   "version": "3.10.14"
  }
 },
 "nbformat": 4,
 "nbformat_minor": 2
}
