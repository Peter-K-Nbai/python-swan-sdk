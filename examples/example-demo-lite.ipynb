{
 "cells": [
  {
   "cell_type": "markdown",
   "metadata": {},
   "source": [
    "## Demo for SDK (Lite Version)\n",
    "\n",
    "This example shows how to use SDK to deploy a task using a pre-defined repo source."
   ]
  },
  {
   "cell_type": "markdown",
   "metadata": {},
   "source": [
    "- [Getting Started](#Getting-Started)\n",
    "- [Creating And Deploying Task](#Creating-And-Deploying-Task)\n",
    "    - [Create task](#create-task)\n",
    "- [View Deployed Task Results](#View-Deployed-Task-Results)\n",
    "    - [Follow up task status](#follow-up-task-status-optional)\n",
    "    - [Show result](#show-result)\n",
    "- [Update Task](#update-task-optional)\n",
    "    - [Renew task](#renew-task-optional)\n",
    "    - [Terminate task](#terminate-task-optional)"
   ]
  },
  {
   "cell_type": "markdown",
   "metadata": {},
   "source": [
    "# Getting Started"
   ]
  },
  {
   "cell_type": "markdown",
   "metadata": {},
   "source": [
    "\n",
    "### Initialization\n",
    "\n",
    "To use this SDK, you need to add environment file `.env` in your local directory, including the following parameters (`PK` is private key):\n",
    "\n",
    "```\n",
    "API_KEY=\n",
    "WALLET=\n",
    "PK=\n",
    "```"
   ]
  },
  {
   "cell_type": "code",
   "execution_count": 1,
   "metadata": {},
   "outputs": [],
   "source": [
    "import sys\n",
    "sys.path.insert(0, '..') \n",
    "\n",
    "import os\n",
    "import time\n",
    "import dotenv\n",
    "import json\n",
    "dotenv.load_dotenv()\n",
    "\n",
    "import swan\n",
    "\n",
    "wallet_address = os.getenv('WALLET')\n",
    "private_key = os.getenv('PK')\n",
    "api_key = os.getenv('API_KEY')\n",
    "\n",
    "# for testnet dev\n",
    "orchestrator = swan.resource(\n",
    "    api_key=api_key, \n",
    "    service_name='Orchestrator', \n",
    "    login_url='https://swanhub-cali.swanchain.io',      # dev version for testnet login url\n",
    "    url_endpoint='https://swanhub-cali.swanchain.io'    # dev version for testnet\n",
    ")\n",
    "\n",
    "# # for testnet prod\n",
    "# orchestrator = swan.resource(\n",
    "#     api_key=api_key, \n",
    "#     service_name='Orchestrator'\n",
    "# )\n",
    "\n",
    "# # for mainnet\n",
    "# orchestrator = swan.resource(\n",
    "#     api_key=api_key, \n",
    "#     service_name='Orchestrator',\n",
    "#     network='mainnet'\n",
    "# )\n"
   ]
  },
  {
   "cell_type": "markdown",
   "metadata": {},
   "source": [
    "## Creating And Deploying Task"
   ]
  },
  {
   "cell_type": "markdown",
   "metadata": {},
   "source": [
    "Show repository image of pre-defined applications (optional)"
   ]
  },
  {
   "cell_type": "code",
   "execution_count": 2,
   "metadata": {},
   "outputs": [
    {
     "name": "stdout",
     "output_type": "stream",
     "text": [
      "{\n",
      "  \"data\": [\n",
      "    {\n",
      "      \"name\": \"hello-world\",\n",
      "      \"url\": \"https://github.com/alphaflows/hello.git\"\n",
      "    },\n",
      "    {\n",
      "      \"name\": \"tetris\",\n",
      "      \"url\": \"https://github.com/alphaflows/tetris-docker-image\"\n",
      "    }\n",
      "  ],\n",
      "  \"message\": \"Getting all example code mappings successfully\",\n",
      "  \"status\": \"success\"\n",
      "}\n"
     ]
    }
   ],
   "source": [
    "repos = orchestrator.get_premade_image()\n",
    "print(json.dumps(repos, indent=2))"
   ]
  },
  {
   "cell_type": "markdown",
   "metadata": {},
   "source": [
    "### Create task\n",
    "\n",
    "Choose a application repository image name from the above list, and provide wallet address and private key to `create_task` interface to deploy a task."
   ]
  },
  {
   "cell_type": "code",
   "execution_count": 3,
   "metadata": {},
   "outputs": [
    {
     "name": "stdout",
     "output_type": "stream",
     "text": [
      "{\n",
      "  \"data\": {\n",
      "    \"config_id\": 1,\n",
      "    \"created_at\": 1719956467,\n",
      "    \"duration\": 3600,\n",
      "    \"ended_at\": null,\n",
      "    \"error_code\": null,\n",
      "    \"id\": 2491,\n",
      "    \"order_type\": \"Creation\",\n",
      "    \"refund_tx_hash\": null,\n",
      "    \"region\": \"global\",\n",
      "    \"space_id\": null,\n",
      "    \"start_in\": 300,\n",
      "    \"started_at\": 1719956467,\n",
      "    \"status\": \"pending_payment_confirm\",\n",
      "    \"task_uuid\": \"12f50986-5a9d-4a25-b8ef-aec362454f94\",\n",
      "    \"tx_hash\": \"0xb43c2943a53cfcfcf4f0696fa907dc1f1549f569eaafaa16b2203e65b4d06f53\",\n",
      "    \"updated_at\": 1719956479,\n",
      "    \"uuid\": \"198ffcd1-2a10-4bc7-a45b-488c9fccaa09\"\n",
      "  },\n",
      "  \"message\": \"Query order status success.\",\n",
      "  \"status\": \"success\",\n",
      "  \"tx_hash\": \"0xb43c2943a53cfcfcf4f0696fa907dc1f1549f569eaafaa16b2203e65b4d06f53\",\n",
      "  \"id\": \"12f50986-5a9d-4a25-b8ef-aec362454f94\"\n",
      "}\n"
     ]
    }
   ],
   "source": [
    "result = orchestrator.create_task(\n",
    "    wallet_address=wallet_address,\n",
    "    app_repo_image='tetris',\n",
    "    private_key=private_key\n",
    ")\n",
    "\n",
    "print(json.dumps(result, indent=2))\n",
    "task_uuid = result['id']"
   ]
  },
  {
   "cell_type": "markdown",
   "metadata": {},
   "source": [
    "If completed steps above, please go to [View Deployed Task Results](#View-Deployed-Task-Results) to view results, or [terminate task](#terminate-task) for more functions related to tasks"
   ]
  },
  {
   "cell_type": "markdown",
   "metadata": {},
   "source": [
    "## View Deployed Task Results"
   ]
  },
  {
   "cell_type": "markdown",
   "metadata": {},
   "source": [
    "### follow up task status (optional)\n",
    "The following step is optional, shows information when waiting for task being deployed."
   ]
  },
  {
   "cell_type": "code",
   "execution_count": 4,
   "metadata": {},
   "outputs": [
    {
     "name": "stdout",
     "output_type": "stream",
     "text": [
      "{\n",
      "  \"data\": {\n",
      "    \"computing_providers\": [],\n",
      "    \"jobs\": [],\n",
      "    \"task\": {\n",
      "      \"comments\": \"all CPs failed\",\n",
      "      \"created_at\": 1719956467,\n",
      "      \"end_at\": 1719960067,\n",
      "      \"id\": 4463,\n",
      "      \"leading_job_id\": null,\n",
      "      \"refund_amount\": null,\n",
      "      \"refund_wallet\": \"0xaA5812Fb31fAA6C073285acD4cB185dDbeBDC224\",\n",
      "      \"source\": \"v2\",\n",
      "      \"start_at\": 1719956467,\n",
      "      \"start_in\": 300,\n",
      "      \"status\": \"failed\",\n",
      "      \"task_detail\": {\n",
      "        \"amount\": 0.0,\n",
      "        \"bidder_limit\": 3,\n",
      "        \"created_at\": 1719956467,\n",
      "        \"duration\": 3600,\n",
      "        \"end_at\": 1719960067,\n",
      "        \"hardware\": \"C1ae.small\",\n",
      "        \"job_result_uri\": null,\n",
      "        \"job_source_uri\": \"https://plutotest.acl.swanipfs.com/ipfs/Qmbs7fcQPmQnJt25Ubv4wpi2hnAckQyV8j5eDFibFWsaRR\",\n",
      "        \"price_per_hour\": \"0.0\",\n",
      "        \"requirements\": {\n",
      "          \"hardware\": \"None\",\n",
      "          \"hardware_type\": \"CPU\",\n",
      "          \"memory\": \"2\",\n",
      "          \"region\": \"global\",\n",
      "          \"vcpu\": \"2\"\n",
      "        },\n",
      "        \"start_at\": 1719956467,\n",
      "        \"status\": \"paid\",\n",
      "        \"storage_source\": \"swanhub\",\n",
      "        \"type\": \"instance\",\n",
      "        \"updated_at\": 1719956467\n",
      "      },\n",
      "      \"task_detail_cid\": \"https://plutotest.acl.swanipfs.com/ipfs/QmUFCcbhaadych4szfLXqwoS9hcn4mjWKzKJtEbaSqwTZ3\",\n",
      "      \"tx_hash\": null,\n",
      "      \"type\": null,\n",
      "      \"updated_at\": 1719956483,\n",
      "      \"user_id\": 94,\n",
      "      \"uuid\": \"12f50986-5a9d-4a25-b8ef-aec362454f94\"\n",
      "    }\n",
      "  },\n",
      "  \"message\": \"fetch task info for task_uuid='12f50986-5a9d-4a25-b8ef-aec362454f94' successfully\",\n",
      "  \"status\": \"success\"\n",
      "}\n"
     ]
    }
   ],
   "source": [
    "# Check task info\n",
    "info = orchestrator.get_deployment_info(task_uuid=task_uuid)\n",
    "print(json.dumps(info, indent=2))"
   ]
  },
  {
   "cell_type": "markdown",
   "metadata": {},
   "source": [
    "### Show result\n",
    "\n",
    "`job_real_uri` is for show the result of application you deployed. Click the url to view application in browser."
   ]
  },
  {
   "cell_type": "code",
   "execution_count": 5,
   "metadata": {},
   "outputs": [
    {
     "name": "stdout",
     "output_type": "stream",
     "text": [
      "[]\n"
     ]
    }
   ],
   "source": [
    "result_url = orchestrator.get_real_url(task_uuid)\n",
    "print(result_url)"
   ]
  },
  {
   "cell_type": "markdown",
   "metadata": {},
   "source": [
    "## Update Task (optional)\n",
    "\n",
    "### Renew task (optional)\n",
    "\n",
    "Extend `task_uuid` by `duration`. Using auto pay automatically makes a transaction to SWAN contract and extends the task."
   ]
  },
  {
   "cell_type": "code",
   "execution_count": null,
   "metadata": {},
   "outputs": [],
   "source": [
    "renew_task = orchestrator.renew_task(\n",
    "    task_uuid=task_uuid, \n",
    "    duration=60, # Optional: Defaults to 3600 seconds (1 hour)\n",
    "    auto_pay=True, # Optional: Defaults to False, in this demo path set to True\n",
    "    private_key=private_key\n",
    ")\n",
    "\n",
    "if renew_task and renew_task['status'] == 'success':\n",
    "    print(f\"successfully renewed task\")"
   ]
  },
  {
   "cell_type": "markdown",
   "metadata": {},
   "source": [
    "### Terminate task (Optional)\n",
    "\n",
    "Terminate the task `task_uuid` and get a refund for remaining time"
   ]
  },
  {
   "cell_type": "code",
   "execution_count": null,
   "metadata": {},
   "outputs": [],
   "source": [
    "terminate_status = orchestrator.terminate_task(task_uuid)\n",
    "if terminate_status['status'] == 'success':\n",
    "    print(f\"Terminated {task_uuid} successfully\")\n",
    "else:\n",
    "    print(f\"Failed to terminate {task_uuid}\")"
   ]
  }
 ],
 "metadata": {
  "kernelspec": {
   "display_name": "swanchain",
   "language": "python",
   "name": "python3"
  },
  "language_info": {
   "codemirror_mode": {
    "name": "ipython",
    "version": 3
   },
   "file_extension": ".py",
   "mimetype": "text/x-python",
   "name": "python",
   "nbconvert_exporter": "python",
   "pygments_lexer": "ipython3",
   "version": "3.10.14"
  }
 },
 "nbformat": 4,
 "nbformat_minor": 2
}
