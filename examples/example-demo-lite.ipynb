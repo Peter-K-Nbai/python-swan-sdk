{
 "cells": [
  {
   "cell_type": "markdown",
   "metadata": {},
   "source": [
    "## Demo for SDK (Lite Version)\n",
    "\n",
    "This example shows how to use SDK to deploy a task using a pre-defined repo source."
   ]
  },
  {
   "cell_type": "markdown",
   "metadata": {},
   "source": [
    "- [Getting Started](#Getting-Started)\n",
    "- [Creating And Deploying Task](#Creating-And-Deploying-Task)\n",
    "    - [Create task](#create-task)\n",
    "    - [Renew task](#renew-task-optional)\n",
    "    - [Terminate task](#terminate-task-optional)\n",
    "- [View Deployed Task Results](#View-Deployed-Task-Results)\n",
    "    - [Follow up task status](#follow-up-task-status-optional)\n",
    "    - [Show result](#show-result)"
   ]
  },
  {
   "cell_type": "markdown",
   "metadata": {},
   "source": [
    "# Getting Started"
   ]
  },
  {
   "cell_type": "markdown",
   "metadata": {},
   "source": [
    "\n",
    "### Initialization\n",
    "\n",
    "To use this SDK, you need to add environment file `.env` in your local directory, including the following parameters (`PK` is private key):\n",
    "\n",
    "```\n",
    "API_KEY=\n",
    "WALLET=\n",
    "PK=\n",
    "```"
   ]
  },
  {
   "cell_type": "code",
   "execution_count": 3,
   "metadata": {},
   "outputs": [],
   "source": [
    "import sys\n",
    "sys.path.insert(0, '..') \n",
    "\n",
    "import os\n",
    "import time\n",
    "import dotenv\n",
    "import json\n",
    "dotenv.load_dotenv()\n",
    "\n",
    "import swan\n",
    "\n",
    "wallet_address = os.getenv('WALLET')\n",
    "private_key = os.getenv('PK')\n",
    "api_key = os.getenv('API_KEY')\n",
    "\n",
    "# for testnet dev\n",
    "orchestrator = swan.resource(\n",
    "    api_key=api_key, \n",
    "    service_name='Orchestrator', \n",
    "    login_url='https://swanhub-cali.swanchain.io',      # dev version for testnet login url\n",
    "    url_endpoint='https://swanhub-cali.swanchain.io'    # dev version for testnet\n",
    ")\n",
    "\n",
    "# # for testnet prod\n",
    "# orchestrator = swan.resource(\n",
    "#     api_key=api_key, \n",
    "#     service_name='Orchestrator'\n",
    "# )\n",
    "\n",
    "# # for mainnet\n",
    "# orchestrator = swan.resource(\n",
    "#     api_key=api_key, \n",
    "#     service_name='Orchestrator',\n",
    "#     network='mainnet'\n",
    "# )\n"
   ]
  },
  {
   "cell_type": "markdown",
   "metadata": {},
   "source": [
    "# Creating And Deploying Task"
   ]
  },
  {
   "cell_type": "markdown",
   "metadata": {},
   "source": [
    "Show repository image of pre-defined applications (optional)"
   ]
  },
  {
   "cell_type": "code",
   "execution_count": 6,
   "metadata": {},
   "outputs": [
    {
     "data": {
      "text/plain": [
       "{'data': [{'name': 'hello-world',\n",
       "   'url': 'https://github.com/alphaflows/hello.git'},\n",
       "  {'name': 'tetris',\n",
       "   'url': 'https://github.com/alphaflows/tetris-docker-image'}],\n",
       " 'message': 'Getting all example code mappings successfully',\n",
       " 'status': 'success'}"
      ]
     },
     "execution_count": 6,
     "metadata": {},
     "output_type": "execute_result"
    }
   ],
   "source": [
    "repos = orchestrator.get_premade_image()\n",
    "print(json.dumps(repos, indent=2))"
   ]
  },
  {
   "cell_type": "markdown",
   "metadata": {},
   "source": [
    "### Create task\n",
    "\n",
    "Choose a application repository image name from the above list, and provide wallet address and private key to `create_task` interface to deploy a task."
   ]
  },
  {
   "cell_type": "code",
   "execution_count": null,
   "metadata": {},
   "outputs": [
    {
     "name": "stdout",
     "output_type": "stream",
     "text": [
      "{\n",
      "  \"data\": {\n",
      "    \"config_id\": 1,\n",
      "    \"created_at\": 1719954752,\n",
      "    \"duration\": 3600,\n",
      "    \"ended_at\": null,\n",
      "    \"error_code\": null,\n",
      "    \"id\": 2490,\n",
      "    \"order_type\": \"Creation\",\n",
      "    \"refund_tx_hash\": null,\n",
      "    \"region\": \"global\",\n",
      "    \"space_id\": null,\n",
      "    \"start_in\": 300,\n",
      "    \"started_at\": 1719954752,\n",
      "    \"status\": \"pending_payment_confirm\",\n",
      "    \"task_uuid\": \"5179bd8d-b737-4253-89ff-364990f17ff3\",\n",
      "    \"tx_hash\": \"0x7da95010c8fce2a7b3eccc0bd5cd51992f68e2c0812b6091448a111cd8e5090e\",\n",
      "    \"updated_at\": 1719954763,\n",
      "    \"uuid\": \"174dc18b-6f29-4fa7-a70c-14b52ab186b7\"\n",
      "  },\n",
      "  \"message\": \"Query order status success.\",\n",
      "  \"status\": \"success\",\n",
      "  \"tx_hash\": \"0x7da95010c8fce2a7b3eccc0bd5cd51992f68e2c0812b6091448a111cd8e5090e\",\n",
      "  \"id\": \"5179bd8d-b737-4253-89ff-364990f17ff3\"\n",
      "}\n"
     ]
    }
   ],
   "source": [
    "result = orchestrator.create_task(\n",
    "    wallet_address=wallet_address,\n",
    "    app_repo_image='tetris',\n",
    "    private_key=private_key\n",
    ")\n",
    "\n",
    "print(json.dumps(result, indent=2))\n",
    "task_uuid = result['id']"
   ]
  },
  {
   "cell_type": "markdown",
   "metadata": {},
   "source": [
    "Follow up the status of deployed task:"
   ]
  },
  {
   "cell_type": "markdown",
   "metadata": {},
   "source": [
    "### Renew task (optional)\n",
    "\n",
    "Extend `task_uuid` by `duration`. Using auto pay automatically makes a transaction to SWAN contract and extends the task."
   ]
  },
  {
   "cell_type": "code",
   "execution_count": 7,
   "metadata": {},
   "outputs": [
    {
     "name": "stdout",
     "output_type": "stream",
     "text": [
      "successfully renewed task\n"
     ]
    }
   ],
   "source": [
    "renew_task = orchestrator.renew_task(\n",
    "    task_uuid=task_uuid, \n",
    "    duration=60, # Optional: Defaults to 3600 seconds (1 hour)\n",
    "    auto_pay=True, # Optional: Defaults to False, in this demo path set to True\n",
    "    private_key=private_key\n",
    ")\n",
    "\n",
    "if renew_task and renew_task['status'] == 'success':\n",
    "    print(f\"successfully renewed task\")"
   ]
  },
  {
   "cell_type": "markdown",
   "metadata": {},
   "source": [
    "If completed steps above, please go to [View Deployed Task Results](#View-Deployed-Task-Results) to view results, or [terminate task](#terminate-task) for more functions related to tasks"
   ]
  },
  {
   "cell_type": "markdown",
   "metadata": {},
   "source": [
    "### Terminate task (Optional)\n",
    "\n",
    "Terminate the task `task_uuid` and get a refund for remaining time"
   ]
  },
  {
   "cell_type": "code",
   "execution_count": null,
   "metadata": {},
   "outputs": [],
   "source": [
    "terminate_status = orchestrator.terminate_task(task_uuid)\n",
    "if terminate_status['status'] == 'success':\n",
    "    print(f\"Terminated {task_uuid} successfully\")\n",
    "else:\n",
    "    print(f\"Failed to terminate {task_uuid}\")"
   ]
  },
  {
   "cell_type": "markdown",
   "metadata": {},
   "source": [
    "## View Deployed Task Results"
   ]
  },
  {
   "cell_type": "markdown",
   "metadata": {},
   "source": [
    "### follow up task status (optional)\n",
    "The following step is optional, shows information when waiting for task being deployed."
   ]
  },
  {
   "cell_type": "code",
   "execution_count": 8,
   "metadata": {},
   "outputs": [
    {
     "name": "stdout",
     "output_type": "stream",
     "text": [
      "{\n",
      "  \"data\": {\n",
      "    \"computing_providers\": [\n",
      "      {\n",
      "        \"beneficiary\": \"0x2c03538AEeD876198d8f376F3556857d1B118AbC\",\n",
      "        \"cp_account_address\": \"0x3eFb0f95bB5a1Eb3c9868e9c535C6aBf19dD2876\",\n",
      "        \"created_at\": 1718266434,\n",
      "        \"id\": 66,\n",
      "        \"lat\": 22.3193,\n",
      "        \"lon\": 114.169,\n",
      "        \"multi_address\": [\n",
      "          \"/ip4/103.201.24.47/tcp/8091\"\n",
      "        ],\n",
      "        \"node_id\": \"04e0961444d2f1856f6ebccf3b02f855bde584a9a5bb72fa60ab5ec8418a0a200236d2673acd025093eba0fb8f7c7ebbaceab433b0343181eca93d5e8d7d7466d9\",\n",
      "        \"online\": 1,\n",
      "        \"owner_address\": \"0x2c03538AEeD876198d8f376F3556857d1B118AbC\",\n",
      "        \"region\": \"Kowloon-HK\",\n",
      "        \"task_types\": \"[1, 2, 3, 4]\",\n",
      "        \"updated_at\": 1719612153,\n",
      "        \"version\": \"2.0\",\n",
      "        \"worker_address\": \"0x2c03538AEeD876198d8f376F3556857d1B118AbC\"\n",
      "      },\n",
      "      {\n",
      "        \"beneficiary\": \"0x8c68475E62B21d42B8a35206658F2B0f0a165174\",\n",
      "        \"cp_account_address\": \"0x49992952342e848d2048B09b85E877e6d39Ee869\",\n",
      "        \"created_at\": 1718255094,\n",
      "        \"id\": 14,\n",
      "        \"lat\": 22.3668,\n",
      "        \"lon\": 114.13,\n",
      "        \"multi_address\": [\n",
      "          \"/ip4/160.20.59.167/tcp/8085\"\n",
      "        ],\n",
      "        \"node_id\": \"044b5ee3a179cc0f3ceacafabec2cdc35b635ad47768a4e06ecc1746d204f6cfe1a3e5cfed33111e33de4f1a3ca9ed03a4a5fb411aa98e0def8857e954d1b561f8\",\n",
      "        \"online\": 1,\n",
      "        \"owner_address\": \"0x8c68475E62B21d42B8a35206658F2B0f0a165174\",\n",
      "        \"region\": \"Kwai Tsing-HK\",\n",
      "        \"task_types\": \"[3]\",\n",
      "        \"updated_at\": 1719612068,\n",
      "        \"version\": \"2.0\",\n",
      "        \"worker_address\": \"0x8c68475E62B21d42B8a35206658F2B0f0a165174\"\n",
      "      },\n",
      "      {\n",
      "        \"beneficiary\": \"0x675d7Fe3a7b9C15f6F09fd3b48B6AAc1a708a0fe\",\n",
      "        \"cp_account_address\": \"0xAe1b62e7a3F11a79f3CDA3c681f3460E5850742F\",\n",
      "        \"created_at\": 1718852929,\n",
      "        \"id\": 1763,\n",
      "        \"lat\": 22.2944,\n",
      "        \"lon\": 114.16,\n",
      "        \"multi_address\": [\n",
      "          \"/ip4/162.219.87.212/tcp/9085\"\n",
      "        ],\n",
      "        \"node_id\": \"041e28ae229d694af482f83aa5219c78d13f5cdd8d1076bb99284e7a33c6e4533803779427091b314dc0d3fe667117cf38deb1bb01bcda380f3eec4476c93e7016\",\n",
      "        \"online\": 1,\n",
      "        \"owner_address\": \"0x675d7Fe3a7b9C15f6F09fd3b48B6AAc1a708a0fe\",\n",
      "        \"region\": \"Kowloon City-HK\",\n",
      "        \"task_types\": \"[1, 2, 3, 4]\",\n",
      "        \"updated_at\": 1719611943,\n",
      "        \"version\": \"2.0\",\n",
      "        \"worker_address\": \"0x31CF5ba83905c4C7c894F1DE1268D3958a70dd0a\"\n",
      "      }\n",
      "    ],\n",
      "    \"jobs\": [\n",
      "      {\n",
      "        \"build_log\": \"wss://log.zzz.storefrontiers.cn:8091/api/v1/computing/lagrange/spaces/log?space_id=QmacTTg9nYycQKHov2AgnLhqFEErT4wZB1pmEWfYowxYvm&type=build\",\n",
      "        \"comments\": null,\n",
      "        \"container_log\": \"wss://log.zzz.storefrontiers.cn:8091/api/v1/computing/lagrange/spaces/log?space_id=QmacTTg9nYycQKHov2AgnLhqFEErT4wZB1pmEWfYowxYvm&type=container\",\n",
      "        \"cp_account_address\": \"0x3eFb0f95bB5a1Eb3c9868e9c535C6aBf19dD2876\",\n",
      "        \"created_at\": 1719612556,\n",
      "        \"duration\": 3660,\n",
      "        \"ended_at\": null,\n",
      "        \"hardware\": \"C1ae.small\",\n",
      "        \"id\": 7249,\n",
      "        \"job_real_uri\": \"https://a4pvvz4psu.zzz.storefrontiers.cn\",\n",
      "        \"job_result_uri\": null,\n",
      "        \"job_source_uri\": \"https://data.mcs.lagrangedao.org/ipfs/QmacTTg9nYycQKHov2AgnLhqFEErT4wZB1pmEWfYowxYvm\",\n",
      "        \"name\": \"Job-bb2f3a28-910e-4e37-ac01-9977b166aeb9\",\n",
      "        \"node_id\": \"04e0961444d2f1856f6ebccf3b02f855bde584a9a5bb72fa60ab5ec8418a0a200236d2673acd025093eba0fb8f7c7ebbaceab433b0343181eca93d5e8d7d7466d9\",\n",
      "        \"start_at\": 1719612559,\n",
      "        \"status\": \"Submitted\",\n",
      "        \"storage_source\": \"swanhub\",\n",
      "        \"task_uuid\": \"680ff6df-a377-451e-a91a-c68973fcd5de\",\n",
      "        \"type\": null,\n",
      "        \"updated_at\": 1719612569,\n",
      "        \"uuid\": \"bb2f3a28-910e-4e37-ac01-9977b166aeb9\"\n",
      "      },\n",
      "      {\n",
      "        \"build_log\": \"wss://log.tiaokong.top:8085/api/v1/computing/lagrange/spaces/log?space_id=QmacTTg9nYycQKHov2AgnLhqFEErT4wZB1pmEWfYowxYvm&type=build\",\n",
      "        \"comments\": null,\n",
      "        \"container_log\": \"wss://log.tiaokong.top:8085/api/v1/computing/lagrange/spaces/log?space_id=QmacTTg9nYycQKHov2AgnLhqFEErT4wZB1pmEWfYowxYvm&type=container\",\n",
      "        \"cp_account_address\": \"0x49992952342e848d2048B09b85E877e6d39Ee869\",\n",
      "        \"created_at\": 1719612559,\n",
      "        \"duration\": 3660,\n",
      "        \"ended_at\": null,\n",
      "        \"hardware\": \"C1ae.small\",\n",
      "        \"id\": 7250,\n",
      "        \"job_real_uri\": \"https://f08bx9434r.tiaokong.top\",\n",
      "        \"job_result_uri\": null,\n",
      "        \"job_source_uri\": \"https://data.mcs.lagrangedao.org/ipfs/QmacTTg9nYycQKHov2AgnLhqFEErT4wZB1pmEWfYowxYvm\",\n",
      "        \"name\": \"Job-7d9e5b18-5961-4f07-b0d8-64bda210ffe9\",\n",
      "        \"node_id\": \"044b5ee3a179cc0f3ceacafabec2cdc35b635ad47768a4e06ecc1746d204f6cfe1a3e5cfed33111e33de4f1a3ca9ed03a4a5fb411aa98e0def8857e954d1b561f8\",\n",
      "        \"start_at\": 1719612561,\n",
      "        \"status\": \"Submitted\",\n",
      "        \"storage_source\": \"swanhub\",\n",
      "        \"task_uuid\": \"680ff6df-a377-451e-a91a-c68973fcd5de\",\n",
      "        \"type\": null,\n",
      "        \"updated_at\": 1719612570,\n",
      "        \"uuid\": \"7d9e5b18-5961-4f07-b0d8-64bda210ffe9\"\n",
      "      },\n",
      "      {\n",
      "        \"build_log\": \"wss://log.:9085/api/v1/computing/lagrange/spaces/log?space_id=QmacTTg9nYycQKHov2AgnLhqFEErT4wZB1pmEWfYowxYvm&type=build\",\n",
      "        \"comments\": null,\n",
      "        \"container_log\": \"wss://log.:9085/api/v1/computing/lagrange/spaces/log?space_id=QmacTTg9nYycQKHov2AgnLhqFEErT4wZB1pmEWfYowxYvm&type=container\",\n",
      "        \"cp_account_address\": \"0xAe1b62e7a3F11a79f3CDA3c681f3460E5850742F\",\n",
      "        \"created_at\": 1719612561,\n",
      "        \"duration\": 3660,\n",
      "        \"ended_at\": null,\n",
      "        \"hardware\": \"C1ae.small\",\n",
      "        \"id\": 7251,\n",
      "        \"job_real_uri\": \"https://rmu8z4fnbq.\",\n",
      "        \"job_result_uri\": null,\n",
      "        \"job_source_uri\": \"https://data.mcs.lagrangedao.org/ipfs/QmacTTg9nYycQKHov2AgnLhqFEErT4wZB1pmEWfYowxYvm\",\n",
      "        \"name\": \"Job-e83cbdc6-0da5-4781-9739-6cadc002be7c\",\n",
      "        \"node_id\": \"041e28ae229d694af482f83aa5219c78d13f5cdd8d1076bb99284e7a33c6e4533803779427091b314dc0d3fe667117cf38deb1bb01bcda380f3eec4476c93e7016\",\n",
      "        \"start_at\": 1719612563,\n",
      "        \"status\": \"Submitted\",\n",
      "        \"storage_source\": \"swanhub\",\n",
      "        \"task_uuid\": \"680ff6df-a377-451e-a91a-c68973fcd5de\",\n",
      "        \"type\": null,\n",
      "        \"updated_at\": 1719612570,\n",
      "        \"uuid\": \"e83cbdc6-0da5-4781-9739-6cadc002be7c\"\n",
      "      }\n",
      "    ],\n",
      "    \"task\": {\n",
      "      \"comments\": null,\n",
      "      \"created_at\": 1719612537,\n",
      "      \"end_at\": 1719616197,\n",
      "      \"id\": 26645,\n",
      "      \"leading_job_id\": \"bb2f3a28-910e-4e37-ac01-9977b166aeb9\",\n",
      "      \"refund_amount\": null,\n",
      "      \"refund_wallet\": \"0x662aC7c5BA4193744224ee507298b4e5f92D6fDd\",\n",
      "      \"source\": \"v2\",\n",
      "      \"start_at\": 1719612537,\n",
      "      \"start_in\": 300,\n",
      "      \"status\": \"completed\",\n",
      "      \"task_detail\": {\n",
      "        \"amount\": 0.0,\n",
      "        \"bidder_limit\": 3,\n",
      "        \"created_at\": 1719612537,\n",
      "        \"duration\": 3600,\n",
      "        \"end_at\": 1719616137,\n",
      "        \"hardware\": \"C1ae.small\",\n",
      "        \"job_result_uri\": null,\n",
      "        \"job_source_uri\": \"https://data.mcs.lagrangedao.org/ipfs/QmacTTg9nYycQKHov2AgnLhqFEErT4wZB1pmEWfYowxYvm\",\n",
      "        \"price_per_hour\": \"0.0\",\n",
      "        \"requirements\": {\n",
      "          \"hardware\": \"None\",\n",
      "          \"hardware_type\": \"CPU\",\n",
      "          \"memory\": \"2\",\n",
      "          \"region\": \"global\",\n",
      "          \"vcpu\": \"2\"\n",
      "        },\n",
      "        \"start_at\": 1719612537,\n",
      "        \"status\": \"paid\",\n",
      "        \"storage_source\": \"swanhub\",\n",
      "        \"type\": \"instance\",\n",
      "        \"updated_at\": 1719612537\n",
      "      },\n",
      "      \"task_detail_cid\": \"https://data.mcs.lagrangedao.org/ipfs/QmQBiBB4sr8r4hZMB2RDcDQtUMxc8nYMV9EeWX5qi7ioJJ\",\n",
      "      \"tx_hash\": null,\n",
      "      \"type\": null,\n",
      "      \"updated_at\": 1719612570,\n",
      "      \"user_id\": 1986,\n",
      "      \"uuid\": \"680ff6df-a377-451e-a91a-c68973fcd5de\"\n",
      "    }\n",
      "  },\n",
      "  \"message\": \"fetch task info for task_uuid='680ff6df-a377-451e-a91a-c68973fcd5de' successfully\",\n",
      "  \"status\": \"success\"\n",
      "}\n"
     ]
    }
   ],
   "source": [
    "# Check task info\n",
    "info = orchestrator.get_deployment_info(task_uuid=task_uuid)\n",
    "print(json.dumps(info, indent=2))"
   ]
  },
  {
   "cell_type": "markdown",
   "metadata": {},
   "source": [
    "### Show result\n",
    "\n",
    "`job_real_uri` is for show the result of application you deployed. Click the url to view application in browser."
   ]
  },
  {
   "cell_type": "code",
   "execution_count": 10,
   "metadata": {},
   "outputs": [
    {
     "name": "stdout",
     "output_type": "stream",
     "text": [
      "['https://1plae5glhc.cp.filezoo.com.cn']\n"
     ]
    }
   ],
   "source": [
    "result_url = orchestrator.get_real_url(task_uuid)\n",
    "print(result_url)"
   ]
  }
 ],
 "metadata": {
  "kernelspec": {
   "display_name": "swanchain",
   "language": "python",
   "name": "python3"
  },
  "language_info": {
   "codemirror_mode": {
    "name": "ipython",
    "version": 3
   },
   "file_extension": ".py",
   "mimetype": "text/x-python",
   "name": "python",
   "nbconvert_exporter": "python",
   "pygments_lexer": "ipython3",
   "version": "3.10.14"
  }
 },
 "nbformat": 4,
 "nbformat_minor": 2
}
