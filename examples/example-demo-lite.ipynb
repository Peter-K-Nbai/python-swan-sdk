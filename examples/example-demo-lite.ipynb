{
 "cells": [
  {
   "cell_type": "markdown",
   "metadata": {},
   "source": [
    "## Demo for SDK (Lite Version)\n",
    "\n",
    "This example shows how to use SDK to deploy a task using a pre-defined repo source."
   ]
  },
  {
   "cell_type": "markdown",
   "metadata": {},
   "source": [
    "- [Getting Started](#Getting-Started)\n",
    "- [Creating And Deploying Task](#Creating-And-Deploying-Task)\n",
    "    - [Create task](#create-task)\n",
    "- [View Deployed Task Results](#View-Deployed-Task-Results)\n",
    "    - [Follow up task status](#follow-up-task-status-optional)\n",
    "    - [Show result](#show-result)\n",
    "- [Update Task](#update-task-optional)\n",
    "    - [Renew task](#renew-task-optional)\n",
    "    - [Terminate task](#terminate-task-optional)"
   ]
  },
  {
   "cell_type": "markdown",
   "metadata": {},
   "source": [
    "# Getting Started"
   ]
  },
  {
   "cell_type": "markdown",
   "metadata": {},
   "source": [
    "\n",
    "### Initialization\n",
    "\n",
    "To use this SDK, you need to add environment file `.env` in your local directory, including the following parameters (`PK` is private key):\n",
    "\n",
    "```\n",
    "API_KEY=\n",
    "WALLET=\n",
    "PK=\n",
    "```"
   ]
  },
  {
   "cell_type": "code",
   "execution_count": 1,
   "metadata": {},
   "outputs": [
    {
     "name": "stderr",
     "output_type": "stream",
     "text": [
      "2024-07-05 14:51:29,345 - INFO - Login Successfully!\n",
      "2024-07-05 14:51:29,346 - INFO - Using Testnet\n"
     ]
    }
   ],
   "source": [
    "import sys\n",
    "sys.path.insert(0, '..') \n",
    "\n",
    "import os\n",
    "import time\n",
    "import dotenv\n",
    "import json\n",
    "dotenv.load_dotenv()\n",
    "\n",
    "import swan\n",
    "\n",
    "wallet_address = os.getenv('WALLET')\n",
    "private_key = os.getenv('PK')\n",
    "api_key = os.getenv('API_KEY')\n",
    "\n",
    "# # for testnet prod (proxima)\n",
    "orchestrator = swan.resource(\n",
    "    api_key=api_key, \n",
    "    service_name='Orchestrator'\n",
    ")\n",
    "\n",
    "# # for mainnet\n",
    "# orchestrator = swan.resource(\n",
    "#     api_key=api_key, \n",
    "#     service_name='Orchestrator',\n",
    "#     network='mainnet'\n",
    "# )\n"
   ]
  },
  {
   "cell_type": "markdown",
   "metadata": {},
   "source": [
    "## Creating And Deploying Task"
   ]
  },
  {
   "cell_type": "markdown",
   "metadata": {},
   "source": [
    "Show repository image of pre-defined applications (optional)"
   ]
  },
  {
   "cell_type": "markdown",
   "metadata": {},
   "source": [
    "### Create task\n",
    "\n",
    "Choose a application repository image name from the above list, and provide wallet address and private key to `create_task` interface to deploy a task."
   ]
  },
  {
   "cell_type": "code",
   "execution_count": 2,
   "metadata": {},
   "outputs": [
    {
     "name": "stderr",
     "output_type": "stream",
     "text": [
      "2024-07-05 13:50:42,525 - INFO - Using C1ae.small machine, hardware_id=0 region='global'\n",
      "2024-07-05 13:51:09,373 - INFO - Task created successfully, task_uuid='e6c31186-c864-4f2a-a42e-e2152d18c122'\n"
     ]
    }
   ],
   "source": [
    "result = orchestrator.create_task(\n",
    "    wallet_address=wallet_address,\n",
    "    app_repo_image='hello-world',\n",
    "    private_key=private_key\n",
    ")\n",
    "\n",
    "# print(json.dumps(result, indent=2))\n",
    "# task_uuid = result['id']"
   ]
  },
  {
   "cell_type": "code",
   "execution_count": 3,
   "metadata": {},
   "outputs": [],
   "source": [
    "task_uuid = result['id']"
   ]
  },
  {
   "cell_type": "markdown",
   "metadata": {},
   "source": [
    "If completed steps above, please go to [View Deployed Task Results](#View-Deployed-Task-Results) to view results, or [terminate task](#terminate-task) for more functions related to tasks"
   ]
  },
  {
   "cell_type": "markdown",
   "metadata": {},
   "source": [
    "## View Deployed Task Results"
   ]
  },
  {
   "cell_type": "markdown",
   "metadata": {},
   "source": [
    "### follow up task status (optional)\n",
    "The following step is optional, shows information when waiting for task being deployed."
   ]
  },
  {
   "cell_type": "code",
   "execution_count": 4,
   "metadata": {},
   "outputs": [
    {
     "name": "stdout",
     "output_type": "stream",
     "text": [
      "{\n",
      "  \"data\": {\n",
      "    \"computing_providers\": [\n",
      "      {\n",
      "        \"beneficiary\": \"0x62B64CCbf7464cd8083A21F9f8044a3f279c95C1\",\n",
      "        \"cp_account_address\": \"0xdA96fEe6D6765EC9Bc7560a3Fa3aFB918b379c5c\",\n",
      "        \"created_at\": 1718436641,\n",
      "        \"id\": 853,\n",
      "        \"lat\": 23.1317,\n",
      "        \"lon\": 113.266,\n",
      "        \"multi_address\": [\n",
      "          \"/ip4/14.18.234.172/tcp/8085\"\n",
      "        ],\n",
      "        \"node_id\": \"0479674238e8cd678f3f0c1c2b06b041b3fab7a2a3594822997154126cc62695d54e5d9300697393057ed2ae632f27ea7b77d87f6aa560b2266252d506a0356b09\",\n",
      "        \"online\": 1,\n",
      "        \"owner_address\": \"0x62B64CCbf7464cd8083A21F9f8044a3f279c95C1\",\n",
      "        \"region\": \"Guangdong-CN\",\n",
      "        \"task_types\": \"[1, 2, 3, 4]\",\n",
      "        \"updated_at\": 1720201710,\n",
      "        \"version\": \"2.0\",\n",
      "        \"worker_address\": \"0x62B64CCbf7464cd8083A21F9f8044a3f279c95C1\"\n",
      "      },\n",
      "      {\n",
      "        \"beneficiary\": \"0xFbc1d38a2127D81BFe3EA347bec7310a1cfa2373\",\n",
      "        \"cp_account_address\": \"0x0162Fa3A4B650aB5ECb19d66C973835b9eBF0990\",\n",
      "        \"created_at\": 1718263923,\n",
      "        \"id\": 39,\n",
      "        \"lat\": 37.5147,\n",
      "        \"lon\": -77.5034,\n",
      "        \"multi_address\": [\n",
      "          \"/ip4/207.254.208.84/tcp/8088\"\n",
      "        ],\n",
      "        \"node_id\": \"043695d740dd63aed018942135075c4d9e2009279bcaeed4a603f153a1db95e7a924e2ec710053e3134984c043f941172e6127282b239a250d9d43e0be20fb1ba8\",\n",
      "        \"online\": 1,\n",
      "        \"owner_address\": \"0xFbc1d38a2127D81BFe3EA347bec7310a1cfa2373\",\n",
      "        \"region\": \"Virginia-US\",\n",
      "        \"task_types\": \"[3]\",\n",
      "        \"updated_at\": 1720202136,\n",
      "        \"version\": \"2.0\",\n",
      "        \"worker_address\": \"0xFbc1d38a2127D81BFe3EA347bec7310a1cfa2373\"\n",
      "      },\n",
      "      {\n",
      "        \"beneficiary\": \"0x1f35e17624Cb434Ce4dceb1de616DFC4A7b9Db18\",\n",
      "        \"cp_account_address\": \"0x12e167142dde4731F47C287c06c99915A727Ac26\",\n",
      "        \"created_at\": 1718498201,\n",
      "        \"id\": 1160,\n",
      "        \"lat\": 22.3964,\n",
      "        \"lon\": 114.109,\n",
      "        \"multi_address\": [\n",
      "          \"/ip4/18.166.29.39/tcp/8091\"\n",
      "        ],\n",
      "        \"node_id\": \"04ccb8f0075b2af5430e74450a13dba5ae952633fbb6ac90e7b72b5985371540c08f564b6ba80404d745870c7b3951ae17a7aa13096a294455d1dd26a77acedfc9\",\n",
      "        \"online\": 1,\n",
      "        \"owner_address\": \"0x1f35e17624Cb434Ce4dceb1de616DFC4A7b9Db18\",\n",
      "        \"region\": \"Central and Western-HK\",\n",
      "        \"task_types\": \"[1, 2, 3, 4]\",\n",
      "        \"updated_at\": 1720201746,\n",
      "        \"version\": \"2.0\",\n",
      "        \"worker_address\": \"0x1f35e17624Cb434Ce4dceb1de616DFC4A7b9Db18\"\n",
      "      }\n",
      "    ],\n",
      "    \"jobs\": [\n",
      "      {\n",
      "        \"build_log\": \"wss://log.0197.com:8085/api/v1/computing/lagrange/spaces/log?space_id=QmbVgeKWKd3k2SsjKgZsLy378pWK3Z75jgX52wxAXucXdP&type=build\",\n",
      "        \"comments\": \"buildImage: updated job_result_uri..\",\n",
      "        \"container_log\": \"wss://log.0197.com:8085/api/v1/computing/lagrange/spaces/log?space_id=QmbVgeKWKd3k2SsjKgZsLy378pWK3Z75jgX52wxAXucXdP&type=container\",\n",
      "        \"cp_account_address\": \"0xdA96fEe6D6765EC9Bc7560a3Fa3aFB918b379c5c\",\n",
      "        \"created_at\": 1720201883,\n",
      "        \"duration\": 3600,\n",
      "        \"ended_at\": null,\n",
      "        \"hardware\": \"C1ae.small\",\n",
      "        \"id\": 10468,\n",
      "        \"job_real_uri\": \"https://uyil2agt3y.0197.com\",\n",
      "        \"job_result_uri\": \"https://05813e273178.acl.swanipfs.com/ipfs/QmSSrTk4qZ7A3S3WAY2gjTR4TgRqYzYxcezKuE3Jt7hfVF\",\n",
      "        \"job_source_uri\": \"https://data.mcs.lagrangedao.org/ipfs/QmbVgeKWKd3k2SsjKgZsLy378pWK3Z75jgX52wxAXucXdP\",\n",
      "        \"name\": \"Job-e2a2838b-e168-4727-abf6-9cdc7464454d\",\n",
      "        \"node_id\": \"0479674238e8cd678f3f0c1c2b06b041b3fab7a2a3594822997154126cc62695d54e5d9300697393057ed2ae632f27ea7b77d87f6aa560b2266252d506a0356b09\",\n",
      "        \"start_at\": 1720201884,\n",
      "        \"status\": \"buildImage\",\n",
      "        \"storage_source\": \"swanhub\",\n",
      "        \"task_uuid\": \"e6c31186-c864-4f2a-a42e-e2152d18c122\",\n",
      "        \"type\": null,\n",
      "        \"updated_at\": 1720201991,\n",
      "        \"uuid\": \"e2a2838b-e168-4727-abf6-9cdc7464454d\"\n",
      "      },\n",
      "      {\n",
      "        \"build_log\": \"wss://log.computing.nebulablock.com:8088/api/v1/computing/lagrange/spaces/log?space_id=QmbVgeKWKd3k2SsjKgZsLy378pWK3Z75jgX52wxAXucXdP&type=build\",\n",
      "        \"comments\": \"deployToK8s: updated job_result_uri..\",\n",
      "        \"container_log\": \"wss://log.computing.nebulablock.com:8088/api/v1/computing/lagrange/spaces/log?space_id=QmbVgeKWKd3k2SsjKgZsLy378pWK3Z75jgX52wxAXucXdP&type=container\",\n",
      "        \"cp_account_address\": \"0x0162Fa3A4B650aB5ECb19d66C973835b9eBF0990\",\n",
      "        \"created_at\": 1720201884,\n",
      "        \"duration\": 3600,\n",
      "        \"ended_at\": null,\n",
      "        \"hardware\": \"C1ae.small\",\n",
      "        \"id\": 10469,\n",
      "        \"job_real_uri\": \"https://ki7cfmeln7.computing.nebulablock.com\",\n",
      "        \"job_result_uri\": \"https://286cb2c989.acl.swanipfs.com/ipfs/QmRP8jBmVFPJ29pWnsQwHznX1ydz17rLfkqjzZbpAGA3tg\",\n",
      "        \"job_source_uri\": \"https://data.mcs.lagrangedao.org/ipfs/QmbVgeKWKd3k2SsjKgZsLy378pWK3Z75jgX52wxAXucXdP\",\n",
      "        \"name\": \"Job-a2406106-d7cc-4b3d-a7df-d496e9e767af\",\n",
      "        \"node_id\": \"043695d740dd63aed018942135075c4d9e2009279bcaeed4a603f153a1db95e7a924e2ec710053e3134984c043f941172e6127282b239a250d9d43e0be20fb1ba8\",\n",
      "        \"start_at\": 1720201885,\n",
      "        \"status\": \"deployToK8s\",\n",
      "        \"storage_source\": \"swanhub\",\n",
      "        \"task_uuid\": \"e6c31186-c864-4f2a-a42e-e2152d18c122\",\n",
      "        \"type\": null,\n",
      "        \"updated_at\": 1720201991,\n",
      "        \"uuid\": \"a2406106-d7cc-4b3d-a7df-d496e9e767af\"\n",
      "      },\n",
      "      {\n",
      "        \"build_log\": \"wss://log.codepulse.mutalabs.xyz:8091/api/v1/computing/lagrange/spaces/log?space_id=QmbVgeKWKd3k2SsjKgZsLy378pWK3Z75jgX52wxAXucXdP&type=build\",\n",
      "        \"comments\": \"deployToK8s: updated job_result_uri..\",\n",
      "        \"container_log\": \"wss://log.codepulse.mutalabs.xyz:8091/api/v1/computing/lagrange/spaces/log?space_id=QmbVgeKWKd3k2SsjKgZsLy378pWK3Z75jgX52wxAXucXdP&type=container\",\n",
      "        \"cp_account_address\": \"0x12e167142dde4731F47C287c06c99915A727Ac26\",\n",
      "        \"created_at\": 1720201885,\n",
      "        \"duration\": 3600,\n",
      "        \"ended_at\": null,\n",
      "        \"hardware\": \"C1ae.small\",\n",
      "        \"id\": 10470,\n",
      "        \"job_real_uri\": \"https://ioezsl0nu5.codepulse.mutalabs.xyz\",\n",
      "        \"job_result_uri\": \"https://775e6dbf3335.acl.swanipfs.com/ipfs/QmayiZFpGcxkukU6N8yjiPcpAEfCaskSpWZDcixvPZ3Sh6\",\n",
      "        \"job_source_uri\": \"https://data.mcs.lagrangedao.org/ipfs/QmbVgeKWKd3k2SsjKgZsLy378pWK3Z75jgX52wxAXucXdP\",\n",
      "        \"name\": \"Job-bb394452-ae6b-4994-b071-98b304e57be4\",\n",
      "        \"node_id\": \"04ccb8f0075b2af5430e74450a13dba5ae952633fbb6ac90e7b72b5985371540c08f564b6ba80404d745870c7b3951ae17a7aa13096a294455d1dd26a77acedfc9\",\n",
      "        \"start_at\": 1720201887,\n",
      "        \"status\": \"deployToK8s\",\n",
      "        \"storage_source\": \"swanhub\",\n",
      "        \"task_uuid\": \"e6c31186-c864-4f2a-a42e-e2152d18c122\",\n",
      "        \"type\": null,\n",
      "        \"updated_at\": 1720201992,\n",
      "        \"uuid\": \"bb394452-ae6b-4994-b071-98b304e57be4\"\n",
      "      }\n",
      "    ],\n",
      "    \"task\": {\n",
      "      \"comments\": null,\n",
      "      \"created_at\": 1720201848,\n",
      "      \"end_at\": 1720205448,\n",
      "      \"id\": 27868,\n",
      "      \"leading_job_id\": \"e2a2838b-e168-4727-abf6-9cdc7464454d\",\n",
      "      \"refund_amount\": null,\n",
      "      \"refund_wallet\": \"0xaA5812Fb31fAA6C073285acD4cB185dDbeBDC224\",\n",
      "      \"source\": \"v2\",\n",
      "      \"start_at\": 1720201848,\n",
      "      \"start_in\": 300,\n",
      "      \"status\": \"completed\",\n",
      "      \"task_detail\": {\n",
      "        \"amount\": 0.0,\n",
      "        \"bidder_limit\": 3,\n",
      "        \"created_at\": 1720201848,\n",
      "        \"duration\": 3600,\n",
      "        \"end_at\": 1720205448,\n",
      "        \"hardware\": \"C1ae.small\",\n",
      "        \"job_result_uri\": null,\n",
      "        \"job_source_uri\": \"https://data.mcs.lagrangedao.org/ipfs/QmbVgeKWKd3k2SsjKgZsLy378pWK3Z75jgX52wxAXucXdP\",\n",
      "        \"price_per_hour\": \"0.0\",\n",
      "        \"requirements\": {\n",
      "          \"hardware\": \"None\",\n",
      "          \"hardware_type\": \"CPU\",\n",
      "          \"memory\": \"2\",\n",
      "          \"region\": \"global\",\n",
      "          \"vcpu\": \"2\"\n",
      "        },\n",
      "        \"start_at\": 1720201848,\n",
      "        \"status\": \"paid\",\n",
      "        \"storage_source\": \"swanhub\",\n",
      "        \"type\": \"instance\",\n",
      "        \"updated_at\": 1720201848\n",
      "      },\n",
      "      \"task_detail_cid\": \"https://data.mcs.lagrangedao.org/ipfs/QmaxhBtonE8Nu33RLL3ercUy7JuiAz6Yvf5BqQffXEHftV\",\n",
      "      \"tx_hash\": null,\n",
      "      \"type\": null,\n",
      "      \"updated_at\": 1720201890,\n",
      "      \"user_id\": 1180,\n",
      "      \"uuid\": \"e6c31186-c864-4f2a-a42e-e2152d18c122\"\n",
      "    }\n",
      "  },\n",
      "  \"message\": \"fetch task info for task_uuid='e6c31186-c864-4f2a-a42e-e2152d18c122' successfully\",\n",
      "  \"status\": \"success\"\n",
      "}\n"
     ]
    }
   ],
   "source": [
    "# Check task info\n",
    "info = orchestrator.get_deployment_info(task_uuid=task_uuid)\n",
    "print(json.dumps(info, indent=2))"
   ]
  },
  {
   "cell_type": "markdown",
   "metadata": {},
   "source": [
    "### Show result\n",
    "\n",
    "`job_real_uri` is for show the result of application you deployed. Click the url to view application in browser."
   ]
  },
  {
   "cell_type": "code",
   "execution_count": 5,
   "metadata": {},
   "outputs": [
    {
     "name": "stdout",
     "output_type": "stream",
     "text": [
      "['https://uyil2agt3y.0197.com', 'https://ki7cfmeln7.computing.nebulablock.com', 'https://ioezsl0nu5.codepulse.mutalabs.xyz']\n"
     ]
    }
   ],
   "source": [
    "result_url = orchestrator.get_real_url(task_uuid)\n",
    "print(result_url)"
   ]
  },
  {
   "cell_type": "markdown",
   "metadata": {},
   "source": [
    "## Update Task (optional)\n",
    "\n",
    "### Renew task (optional)\n",
    "\n",
    "Extend `task_uuid` by `duration`. Using auto pay automatically makes a transaction to SWAN contract and extends the task."
   ]
  },
  {
   "cell_type": "code",
   "execution_count": 6,
   "metadata": {},
   "outputs": [
    {
     "name": "stdout",
     "output_type": "stream",
     "text": [
      "successfully renewed task\n"
     ]
    }
   ],
   "source": [
    "renew_task = orchestrator.renew_task(\n",
    "    task_uuid=task_uuid, \n",
    "    duration=66, # Optional: Defaults to 3600 seconds (1 hour)\n",
    "    auto_pay=True, # Optional: Defaults to False, in this demo path set to True\n",
    "    private_key=private_key\n",
    ")\n",
    "\n",
    "if renew_task and renew_task['status'] == 'success':\n",
    "    print(f\"successfully renewed task\")"
   ]
  },
  {
   "cell_type": "markdown",
   "metadata": {},
   "source": [
    "### Terminate task (Optional)\n",
    "\n",
    "Terminate the task `task_uuid` and get a refund for remaining time"
   ]
  },
  {
   "cell_type": "code",
   "execution_count": null,
   "metadata": {},
   "outputs": [],
   "source": [
    "terminate_status = orchestrator.terminate_task(task_uuid)\n",
    "if terminate_status['status'] == 'success':\n",
    "    print(f\"Terminated {task_uuid} successfully\")\n",
    "else:\n",
    "    print(f\"Failed to terminate {task_uuid}\")"
   ]
  }
 ],
 "metadata": {
  "kernelspec": {
   "display_name": "swanchain",
   "language": "python",
   "name": "python3"
  },
  "language_info": {
   "codemirror_mode": {
    "name": "ipython",
    "version": 3
   },
   "file_extension": ".py",
   "mimetype": "text/x-python",
   "name": "python",
   "nbconvert_exporter": "python",
   "pygments_lexer": "ipython3",
   "version": "3.10.14"
  }
 },
 "nbformat": 4,
 "nbformat_minor": 2
}
