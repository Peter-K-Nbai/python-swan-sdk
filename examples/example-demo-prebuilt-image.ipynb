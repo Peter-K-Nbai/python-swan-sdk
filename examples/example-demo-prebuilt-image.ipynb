{
 "cells": [
  {
   "cell_type": "markdown",
   "metadata": {},
   "source": [
    "## Demo for SDK\n",
    "\n",
    "This example shows how to use SDK to deploy a task. The demo notebook includes the following steps:\n",
    "- [initialization](#initialization)\n",
    "- [show available hardware info list](#show-available-hardware-information)\n",
    "- [choose hardware config](#choose-hardware-config)\n",
    "- [get `job_source_uri`](#get-job_source_uri)\n",
    "- [estimate payment amount](#estimate-payment-amount)\n",
    "- [create task to get `task_uuid`](#create-task)\n",
    "- [submit payment](#submit-payment)\n",
    "- [validate payment](#validate-payment-to-deploy-task)\n",
    "- [follow up task status](#follow-up-task-status-optional)\n",
    "- [show result](#show-result)\n"
   ]
  },
  {
   "cell_type": "markdown",
   "metadata": {},
   "source": [
    "\n",
    "### Initialization\n",
    "\n",
    "#### get an `API_KEY`\n",
    "\n",
    "- For test version, get `API_KEY` in dashboard page: https://orchestrator-test.swanchain.io\n",
    "- For prod version, get `API_KEY` in dashboard page: https://orchestrator.swanchain.io\n",
    "\n",
    "If use this repository to test on your local machine, add `sys.path.insert(0, '..')` at the beginning, and run code in the root directory of this repository.\n",
    "\n",
    "To use this SDK, you need to add environment file `.env` in your local directory, including the following parameters (`PK` is private key):\n",
    "\n",
    "```\n",
    "API_KEY=\n",
    "WALLET=\n",
    "PK=\n",
    "```"
   ]
  },
  {
   "cell_type": "code",
   "execution_count": 1,
   "metadata": {},
   "outputs": [],
   "source": [
    "import sys\n",
    "sys.path.insert(0, '..') \n",
    "\n",
    "import os\n",
    "import time\n",
    "import dotenv\n",
    "import json\n",
    "dotenv.load_dotenv()\n",
    "\n",
    "import swan\n",
    "\n",
    "wallet_address = os.getenv('WALLET')\n",
    "primary_key = os.getenv('PK')\n",
    "swan_orchestrator = swan.resource(service_name='Orchestrator')"
   ]
  },
  {
   "cell_type": "markdown",
   "metadata": {},
   "source": [
    "### Show available hardware information"
   ]
  },
  {
   "cell_type": "code",
   "execution_count": 2,
   "metadata": {},
   "outputs": [
    {
     "data": {
      "text/plain": [
       "[{'id': 0,\n",
       "  'name': 'C1ae.small',\n",
       "  'description': 'CPU only · 2 vCPU · 2 GiB',\n",
       "  'type': 'CPU',\n",
       "  'region': ['Quebec-CA', 'North Carolina-US'],\n",
       "  'price': '0.0',\n",
       "  'status': 'available'},\n",
       " {'id': 1,\n",
       "  'name': 'C1ae.medium',\n",
       "  'description': 'CPU only · 4 vCPU · 4 GiB',\n",
       "  'type': 'CPU',\n",
       "  'region': ['Quebec-CA', 'North Carolina-US'],\n",
       "  'price': '1.0',\n",
       "  'status': 'available'},\n",
       " {'id': 12,\n",
       "  'name': 'G1ae.small',\n",
       "  'description': 'Nvidia 3080 · 4 vCPU · 8 GiB',\n",
       "  'type': 'GPU',\n",
       "  'region': ['Quebec-CA', 'North Carolina-US'],\n",
       "  'price': '10.0',\n",
       "  'status': 'available'},\n",
       " {'id': 13,\n",
       "  'name': 'G1ae.medium',\n",
       "  'description': 'Nvidia 3080 · 8 vCPU · 16 GiB',\n",
       "  'type': 'GPU',\n",
       "  'region': ['Quebec-CA', 'North Carolina-US'],\n",
       "  'price': '11.0',\n",
       "  'status': 'available'},\n",
       " {'id': 20,\n",
       "  'name': 'Hpc1ae.small',\n",
       "  'description': 'Nvidia 3090 · 4 vCPU · 8 GiB',\n",
       "  'type': 'GPU',\n",
       "  'region': ['Quebec-CA'],\n",
       "  'price': '14.0',\n",
       "  'status': 'available'},\n",
       " {'id': 21,\n",
       "  'name': 'Hpc1ae.medium',\n",
       "  'description': 'Nvidia 3090 · 8 vCPU · 16 GiB',\n",
       "  'type': 'GPU',\n",
       "  'region': ['Quebec-CA'],\n",
       "  'price': '16.0',\n",
       "  'status': 'available'},\n",
       " {'id': 73,\n",
       "  'name': 'R1ae.medium',\n",
       "  'description': 'Nvidia 3080 · 8 vCPU · 32 GiB',\n",
       "  'type': 'GPU',\n",
       "  'region': ['Quebec-CA', 'North Carolina-US'],\n",
       "  'price': '22.0',\n",
       "  'status': 'available'},\n",
       " {'id': 74,\n",
       "  'name': 'R1ae.large',\n",
       "  'description': 'Nvidia 3090 · 8 vCPU · 32 GiB',\n",
       "  'type': 'GPU',\n",
       "  'region': ['Quebec-CA'],\n",
       "  'price': '30.0',\n",
       "  'status': 'available'}]"
      ]
     },
     "execution_count": 2,
     "metadata": {},
     "output_type": "execute_result"
    }
   ],
   "source": [
    "hardwares_info = swan_orchestrator.get_hardware_config()\n",
    "hardwares_info"
   ]
  },
  {
   "cell_type": "markdown",
   "metadata": {},
   "source": [
    "### Create task\n",
    "\n",
    "This step uses above information to create task, and get `task_uuid`, which is useful in submit payment step."
   ]
  },
  {
   "cell_type": "code",
   "execution_count": 3,
   "metadata": {},
   "outputs": [
    {
     "name": "stdout",
     "output_type": "stream",
     "text": [
      "{'tx_hash': '0xc4e4f87a95d55401fb0032feb33af2d98851ba799be0d99734ddb04b6cc7f3eb', 'task_uuid': '8eab3244-4f9d-4947-8db1-0bbf6a98579d'}\n",
      "{\n",
      "  \"data\": {\n",
      "    \"task\": {\n",
      "      \"comments\": null,\n",
      "      \"created_at\": 1719524874,\n",
      "      \"end_at\": 1719528474,\n",
      "      \"id\": 4410,\n",
      "      \"leading_job_id\": null,\n",
      "      \"refund_amount\": null,\n",
      "      \"refund_wallet\": \"0x00165Ca5Ab193c4D2709F94A5418165bA04394E6\",\n",
      "      \"source\": \"v2\",\n",
      "      \"start_at\": 1719524874,\n",
      "      \"start_in\": 300,\n",
      "      \"status\": \"created\",\n",
      "      \"task_detail\": {\n",
      "        \"amount\": 0.0,\n",
      "        \"bidder_limit\": 3,\n",
      "        \"created_at\": 1719524874,\n",
      "        \"duration\": 3600,\n",
      "        \"end_at\": 1719528474,\n",
      "        \"hardware\": \"C1ae.small\",\n",
      "        \"job_result_uri\": null,\n",
      "        \"job_source_uri\": \"https://plutotest.acl.swanipfs.com/ipfs/QmVpRohoDXLis1QLZrZKrYMD5dyo4Z4rP8G59F8aKFSsKY\",\n",
      "        \"price_per_hour\": \"0.0\",\n",
      "        \"requirements\": {\n",
      "          \"hardware\": \"None\",\n",
      "          \"hardware_type\": \"CPU\",\n",
      "          \"memory\": \"2\",\n",
      "          \"region\": \"global\",\n",
      "          \"vcpu\": \"2\"\n",
      "        },\n",
      "        \"start_at\": 1719524874,\n",
      "        \"status\": \"paid\",\n",
      "        \"storage_source\": \"swanhub\",\n",
      "        \"type\": \"instance\",\n",
      "        \"updated_at\": 1719524874\n",
      "      },\n",
      "      \"task_detail_cid\": \"https://plutotest.acl.swanipfs.com/ipfs/QmZyttXfoFjS7fCet37XqB3Mt1NDv9Qe7fK4fFhAevjzNh\",\n",
      "      \"tx_hash\": null,\n",
      "      \"type\": null,\n",
      "      \"updated_at\": 1719524882,\n",
      "      \"user_id\": 99,\n",
      "      \"uuid\": \"8eab3244-4f9d-4947-8db1-0bbf6a98579d\"\n",
      "    }\n",
      "  },\n",
      "  \"message\": \"Task payment validated successfully.\",\n",
      "  \"status\": \"success\",\n",
      "  \"id\": \"8eab3244-4f9d-4947-8db1-0bbf6a98579d\"\n",
      "}\n"
     ]
    }
   ],
   "source": [
    "result = swan_orchestrator.create_task(\n",
    "    image_name=\"hello-world\",\n",
    "    # hardware_id=hardware_id,\n",
    "    wallet_address=wallet_address,\n",
    "    primary_key=primary_key,\n",
    "    # region='North Carolina-US',\n",
    "    # duration=duration\n",
    "    # auto_pay=False,\n",
    "    # image_name=\"hello world\"\n",
    ")\n",
    "print(json.dumps(result, indent=2))\n",
    "task_uuid = result['id']"
   ]
  },
  {
   "cell_type": "markdown",
   "metadata": {},
   "source": [
    "### follow up task status (optional)\n",
    "The following step is optional, shows information when waiting for task being deployed."
   ]
  },
  {
   "cell_type": "code",
   "execution_count": 4,
   "metadata": {},
   "outputs": [
    {
     "name": "stdout",
     "output_type": "stream",
     "text": [
      "{\n",
      "  \"data\": {\n",
      "    \"computing_providers\": [\n",
      "      {\n",
      "        \"beneficiary\": \"0x1AE8665873565C9089753920A0866C49Bd35DCC9\",\n",
      "        \"cp_account_address\": \"0xd63853b23Af4cc3b37377368dd33F09b8567aCea\",\n",
      "        \"created_at\": 1718386123,\n",
      "        \"id\": 71,\n",
      "        \"lat\": 35.8639,\n",
      "        \"lon\": -78.535,\n",
      "        \"multi_address\": [\n",
      "          \"/ip4/provider.cp.filezoo.com.cn/tcp/9087\"\n",
      "        ],\n",
      "        \"node_id\": \"0475e6cb8909e125db8b233e9d2c8237e28e8d852fb4dcf1d5f9b5eead94931d8ed84c5f08e4e88a53b24d80bb3bb3b181389fcddf0114ac93f2866d769cc8ff18\",\n",
      "        \"online\": 1,\n",
      "        \"owner_address\": \"0x1AE8665873565C9089753920A0866C49Bd35DCC9\",\n",
      "        \"region\": \"North Carolina-US\",\n",
      "        \"task_types\": \"[3]\",\n",
      "        \"updated_at\": 1719524881,\n",
      "        \"version\": \"2.0\",\n",
      "        \"worker_address\": \"0x1AE8665873565C9089753920A0866C49Bd35DCC9\"\n",
      "      },\n",
      "      {\n",
      "        \"beneficiary\": \"0xFbc1d38a2127D81BFe3EA347bec7310a1cfa2373\",\n",
      "        \"cp_account_address\": \"0x4D81F4277667862046802bDdcdB667704bEFbbAB\",\n",
      "        \"created_at\": 1718385670,\n",
      "        \"id\": 66,\n",
      "        \"lat\": 45.5075,\n",
      "        \"lon\": -73.5887,\n",
      "        \"multi_address\": [\n",
      "          \"/ip4/38.140.46.60/tcp/8086\"\n",
      "        ],\n",
      "        \"node_id\": \"0478a886cb6e191a0531fb6f8a7da4c0fbf0ec220af6d49e622f7e2da514f0ea205ed77918796c66ae642f0996dbf0ecc4bb7f1dd949705d1306abd1c14b60fb8a\",\n",
      "        \"online\": 1,\n",
      "        \"owner_address\": \"0xFbc1d38a2127D81BFe3EA347bec7310a1cfa2373\",\n",
      "        \"region\": \"Quebec-CA\",\n",
      "        \"task_types\": \"[1, 2, 3]\",\n",
      "        \"updated_at\": 1719524880,\n",
      "        \"version\": \"2.0\",\n",
      "        \"worker_address\": \"0xFbc1d38a2127D81BFe3EA347bec7310a1cfa2373\"\n",
      "      }\n",
      "    ],\n",
      "    \"jobs\": [\n",
      "      {\n",
      "        \"build_log\": \"wss://log.cp.filezoo.com.cn:9087/api/v1/computing/lagrange/spaces/log?space_id=QmVpRohoDXLis1QLZrZKrYMD5dyo4Z4rP8G59F8aKFSsKY&type=build\",\n",
      "        \"comments\": null,\n",
      "        \"container_log\": \"wss://log.cp.filezoo.com.cn:9087/api/v1/computing/lagrange/spaces/log?space_id=QmVpRohoDXLis1QLZrZKrYMD5dyo4Z4rP8G59F8aKFSsKY&type=container\",\n",
      "        \"cp_account_address\": \"0xd63853b23Af4cc3b37377368dd33F09b8567aCea\",\n",
      "        \"created_at\": 1719524883,\n",
      "        \"duration\": 3600,\n",
      "        \"ended_at\": null,\n",
      "        \"hardware\": \"C1ae.small\",\n",
      "        \"id\": 4497,\n",
      "        \"job_real_uri\": \"https://ifn55bbpx2.cp.filezoo.com.cn\",\n",
      "        \"job_result_uri\": null,\n",
      "        \"job_source_uri\": \"https://plutotest.acl.swanipfs.com/ipfs/QmVpRohoDXLis1QLZrZKrYMD5dyo4Z4rP8G59F8aKFSsKY\",\n",
      "        \"name\": \"Job-406ecd2b-4572-40a7-ba28-de67eb14242b\",\n",
      "        \"node_id\": \"0475e6cb8909e125db8b233e9d2c8237e28e8d852fb4dcf1d5f9b5eead94931d8ed84c5f08e4e88a53b24d80bb3bb3b181389fcddf0114ac93f2866d769cc8ff18\",\n",
      "        \"start_at\": 1719524883,\n",
      "        \"status\": \"Submitted\",\n",
      "        \"storage_source\": \"swanhub\",\n",
      "        \"task_uuid\": \"8eab3244-4f9d-4947-8db1-0bbf6a98579d\",\n",
      "        \"type\": null,\n",
      "        \"updated_at\": 1719524883,\n",
      "        \"uuid\": \"406ecd2b-4572-40a7-ba28-de67eb14242b\"\n",
      "      },\n",
      "      {\n",
      "        \"build_log\": \"wss://log.dev2.crosschain.computer:8086/api/v1/computing/lagrange/spaces/log?space_id=QmVpRohoDXLis1QLZrZKrYMD5dyo4Z4rP8G59F8aKFSsKY&type=build\",\n",
      "        \"comments\": null,\n",
      "        \"container_log\": \"wss://log.dev2.crosschain.computer:8086/api/v1/computing/lagrange/spaces/log?space_id=QmVpRohoDXLis1QLZrZKrYMD5dyo4Z4rP8G59F8aKFSsKY&type=container\",\n",
      "        \"cp_account_address\": \"0x4D81F4277667862046802bDdcdB667704bEFbbAB\",\n",
      "        \"created_at\": 1719524883,\n",
      "        \"duration\": 3600,\n",
      "        \"ended_at\": null,\n",
      "        \"hardware\": \"C1ae.small\",\n",
      "        \"id\": 4498,\n",
      "        \"job_real_uri\": \"https://9tl0erm1k9.dev2.crosschain.computer\",\n",
      "        \"job_result_uri\": null,\n",
      "        \"job_source_uri\": \"https://plutotest.acl.swanipfs.com/ipfs/QmVpRohoDXLis1QLZrZKrYMD5dyo4Z4rP8G59F8aKFSsKY\",\n",
      "        \"name\": \"Job-12d49219-f039-4b64-8671-cef151627041\",\n",
      "        \"node_id\": \"0478a886cb6e191a0531fb6f8a7da4c0fbf0ec220af6d49e622f7e2da514f0ea205ed77918796c66ae642f0996dbf0ecc4bb7f1dd949705d1306abd1c14b60fb8a\",\n",
      "        \"start_at\": 1719524883,\n",
      "        \"status\": \"Submitted\",\n",
      "        \"storage_source\": \"swanhub\",\n",
      "        \"task_uuid\": \"8eab3244-4f9d-4947-8db1-0bbf6a98579d\",\n",
      "        \"type\": null,\n",
      "        \"updated_at\": 1719524883,\n",
      "        \"uuid\": \"12d49219-f039-4b64-8671-cef151627041\"\n",
      "      }\n",
      "    ],\n",
      "    \"task\": {\n",
      "      \"comments\": null,\n",
      "      \"created_at\": 1719524874,\n",
      "      \"end_at\": 1719528474,\n",
      "      \"id\": 4410,\n",
      "      \"leading_job_id\": \"406ecd2b-4572-40a7-ba28-de67eb14242b\",\n",
      "      \"refund_amount\": null,\n",
      "      \"refund_wallet\": \"0x00165Ca5Ab193c4D2709F94A5418165bA04394E6\",\n",
      "      \"source\": \"v2\",\n",
      "      \"start_at\": 1719524874,\n",
      "      \"start_in\": 300,\n",
      "      \"status\": \"completed\",\n",
      "      \"task_detail\": {\n",
      "        \"amount\": 0.0,\n",
      "        \"bidder_limit\": 3,\n",
      "        \"created_at\": 1719524874,\n",
      "        \"duration\": 3600,\n",
      "        \"end_at\": 1719528474,\n",
      "        \"hardware\": \"C1ae.small\",\n",
      "        \"job_result_uri\": null,\n",
      "        \"job_source_uri\": \"https://plutotest.acl.swanipfs.com/ipfs/QmVpRohoDXLis1QLZrZKrYMD5dyo4Z4rP8G59F8aKFSsKY\",\n",
      "        \"price_per_hour\": \"0.0\",\n",
      "        \"requirements\": {\n",
      "          \"hardware\": \"None\",\n",
      "          \"hardware_type\": \"CPU\",\n",
      "          \"memory\": \"2\",\n",
      "          \"region\": \"global\",\n",
      "          \"vcpu\": \"2\"\n",
      "        },\n",
      "        \"start_at\": 1719524874,\n",
      "        \"status\": \"paid\",\n",
      "        \"storage_source\": \"swanhub\",\n",
      "        \"type\": \"instance\",\n",
      "        \"updated_at\": 1719524874\n",
      "      },\n",
      "      \"task_detail_cid\": \"https://plutotest.acl.swanipfs.com/ipfs/QmZyttXfoFjS7fCet37XqB3Mt1NDv9Qe7fK4fFhAevjzNh\",\n",
      "      \"tx_hash\": null,\n",
      "      \"type\": null,\n",
      "      \"updated_at\": 1719524886,\n",
      "      \"user_id\": 99,\n",
      "      \"uuid\": \"8eab3244-4f9d-4947-8db1-0bbf6a98579d\"\n",
      "    }\n",
      "  },\n",
      "  \"message\": \"fetch task info for task_uuid='8eab3244-4f9d-4947-8db1-0bbf6a98579d' successfully\",\n",
      "  \"status\": \"success\"\n",
      "}\n"
     ]
    }
   ],
   "source": [
    "# Check task info\n",
    "info = swan_orchestrator.get_deployment_info(task_uuid=task_uuid)\n",
    "print(json.dumps(info, indent=2))"
   ]
  },
  {
   "cell_type": "markdown",
   "metadata": {},
   "source": [
    "### Show result\n",
    "\n",
    "`job_real_uri` is for show the result of application you deployed.  \n",
    "You can put it into the web browser to view application."
   ]
  },
  {
   "cell_type": "code",
   "execution_count": 5,
   "metadata": {},
   "outputs": [
    {
     "name": "stdout",
     "output_type": "stream",
     "text": [
      "['https://ifn55bbpx2.cp.filezoo.com.cn', 'https://9tl0erm1k9.dev2.crosschain.computer']\n"
     ]
    }
   ],
   "source": [
    "r = swan_orchestrator.get_real_url(task_uuid)\n",
    "print(r)"
   ]
  },
  {
   "cell_type": "code",
   "execution_count": 6,
   "metadata": {},
   "outputs": [
    {
     "name": "stdout",
     "output_type": "stream",
     "text": [
      "{'data': {'job': [{'build_log': 'wss://log.cp.filezoo.com.cn:9087/api/v1/computing/lagrange/spaces/log?space_id=QmVpRohoDXLis1QLZrZKrYMD5dyo4Z4rP8G59F8aKFSsKY&type=build', 'comments': 'buildImage: updated job_result_uri..', 'container_log': 'wss://log.cp.filezoo.com.cn:9087/api/v1/computing/lagrange/spaces/log?space_id=QmVpRohoDXLis1QLZrZKrYMD5dyo4Z4rP8G59F8aKFSsKY&type=container', 'cp_account_address': '0xd63853b23Af4cc3b37377368dd33F09b8567aCea', 'created_at': 1719524883, 'duration': 10800, 'ended_at': None, 'hardware': 'C1ae.small', 'id': 4497, 'job_real_uri': 'https://ifn55bbpx2.cp.filezoo.com.cn', 'job_result_uri': 'https://42f6d9f62851.acl.swanipfs.com/ipfs/QmZQqPMG5Ho921vDk3DmXaUJ4ETPmKpGY3XM831xideGAz', 'job_source_uri': 'https://plutotest.acl.swanipfs.com/ipfs/QmVpRohoDXLis1QLZrZKrYMD5dyo4Z4rP8G59F8aKFSsKY', 'name': 'Job-406ecd2b-4572-40a7-ba28-de67eb14242b', 'node_id': '0475e6cb8909e125db8b233e9d2c8237e28e8d852fb4dcf1d5f9b5eead94931d8ed84c5f08e4e88a53b24d80bb3bb3b181389fcddf0114ac93f2866d769cc8ff18', 'start_at': 1719524883, 'status': 'deployToK8s', 'storage_source': 'swanhub', 'task_uuid': '8eab3244-4f9d-4947-8db1-0bbf6a98579d', 'type': None, 'updated_at': 1719524922, 'uuid': '406ecd2b-4572-40a7-ba28-de67eb14242b'}, {'build_log': 'wss://log.dev2.crosschain.computer:8086/api/v1/computing/lagrange/spaces/log?space_id=QmVpRohoDXLis1QLZrZKrYMD5dyo4Z4rP8G59F8aKFSsKY&type=build', 'comments': 'buildImage: updated job_result_uri..', 'container_log': 'wss://log.dev2.crosschain.computer:8086/api/v1/computing/lagrange/spaces/log?space_id=QmVpRohoDXLis1QLZrZKrYMD5dyo4Z4rP8G59F8aKFSsKY&type=container', 'cp_account_address': '0x4D81F4277667862046802bDdcdB667704bEFbbAB', 'created_at': 1719524883, 'duration': 10800, 'ended_at': None, 'hardware': 'C1ae.small', 'id': 4498, 'job_real_uri': 'https://9tl0erm1k9.dev2.crosschain.computer', 'job_result_uri': 'https://42f6d9f62851.acl.swanipfs.com/ipfs/QmVtsCwtMWa95Dd8VU5zZHXhWAPJUPs59Mfi4nQkdu4RnH', 'job_source_uri': 'https://plutotest.acl.swanipfs.com/ipfs/QmVpRohoDXLis1QLZrZKrYMD5dyo4Z4rP8G59F8aKFSsKY', 'name': 'Job-12d49219-f039-4b64-8671-cef151627041', 'node_id': '0478a886cb6e191a0531fb6f8a7da4c0fbf0ec220af6d49e622f7e2da514f0ea205ed77918796c66ae642f0996dbf0ecc4bb7f1dd949705d1306abd1c14b60fb8a', 'start_at': 1719524883, 'status': 'deployToK8s', 'storage_source': 'swanhub', 'task_uuid': '8eab3244-4f9d-4947-8db1-0bbf6a98579d', 'type': None, 'updated_at': 1719524922, 'uuid': '12d49219-f039-4b64-8671-cef151627041'}], 'task': {'comments': None, 'created_at': 1719524874, 'end_at': 1719535674, 'id': 4410, 'leading_job_id': '406ecd2b-4572-40a7-ba28-de67eb14242b', 'refund_amount': None, 'refund_wallet': '0x00165Ca5Ab193c4D2709F94A5418165bA04394E6', 'source': 'v2', 'start_at': 1719524874, 'start_in': 300, 'status': 'completed', 'task_detail': {'amount': 0.0, 'bidder_limit': 3, 'created_at': 1719524874, 'duration': 3600, 'end_at': 1719528474, 'hardware': 'C1ae.small', 'job_result_uri': None, 'job_source_uri': 'https://plutotest.acl.swanipfs.com/ipfs/QmVpRohoDXLis1QLZrZKrYMD5dyo4Z4rP8G59F8aKFSsKY', 'price_per_hour': '0.0', 'requirements': {'hardware': 'None', 'hardware_type': 'CPU', 'memory': '2', 'region': 'global', 'vcpu': '2'}, 'start_at': 1719524874, 'status': 'paid', 'storage_source': 'swanhub', 'type': 'instance', 'updated_at': 1719524874}, 'task_detail_cid': 'https://plutotest.acl.swanipfs.com/ipfs/QmZyttXfoFjS7fCet37XqB3Mt1NDv9Qe7fK4fFhAevjzNh', 'tx_hash': None, 'type': None, 'updated_at': 1719524922, 'user_id': 99, 'uuid': '8eab3244-4f9d-4947-8db1-0bbf6a98579d'}}, 'message': 'All jobs and orders have been successfully extended', 'status': 'success'}\n"
     ]
    }
   ],
   "source": [
    "duration = 3600\n",
    "renew_task = swan_orchestrator.renew_task(task_uuid=task_uuid, \n",
    "                                 duration=duration * 2,\n",
    "                                 primary_key=primary_key\n",
    "                                 # hardware_id=hardware_id\n",
    "                                )\n",
    "print(renew_task)"
   ]
  },
  {
   "cell_type": "code",
   "execution_count": 9,
   "metadata": {},
   "outputs": [
    {
     "name": "stdout",
     "output_type": "stream",
     "text": [
      "{'data': {'retryable': False, 'task_status': 'terminate_pending'}, 'message': 'Task termination is queued', 'status': 'success'}\n"
     ]
    }
   ],
   "source": [
    "r = swan_orchestrator.terminate_task(task_uuid=task_uuid)\n",
    "print(r)"
   ]
  },
  {
   "cell_type": "code",
   "execution_count": 8,
   "metadata": {},
   "outputs": [
    {
     "name": "stdout",
     "output_type": "stream",
     "text": [
      "Expecting value: line 1 column 1 (char 0)\n",
      "<Response [200]>\n"
     ]
    }
   ],
   "source": [
    "import requests\n",
    "import json\n",
    "\n",
    "headers = {\n",
    "    'Content-Type': 'application/json',\n",
    "}\n",
    "\n",
    "response = requests.get(r[0], headers=headers)\n",
    "\n",
    "try:\n",
    "    print(json.dumps(response.json(), indent=4))\n",
    "except Exception as e:\n",
    "    print(e)\n",
    "    print(response)\n"
   ]
  }
 ],
 "metadata": {
  "kernelspec": {
   "display_name": "swanchain",
   "language": "python",
   "name": "python3"
  },
  "language_info": {
   "codemirror_mode": {
    "name": "ipython",
    "version": 3
   },
   "file_extension": ".py",
   "mimetype": "text/x-python",
   "name": "python",
   "nbconvert_exporter": "python",
   "pygments_lexer": "ipython3",
   "version": "3.10.0"
  }
 },
 "nbformat": 4,
 "nbformat_minor": 2
}
