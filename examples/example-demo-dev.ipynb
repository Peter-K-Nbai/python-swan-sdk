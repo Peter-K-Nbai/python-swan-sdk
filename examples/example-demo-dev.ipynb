{
 "cells": [
  {
   "cell_type": "markdown",
   "metadata": {},
   "source": [
    "## Demo for SDK\n",
    "\n",
    "This example shows how to use SDK to deploy a task. The demo notebook includes the following steps:\n",
    "- [initialization](#initialization)\n",
    "- [show available hardware info list](#show-available-hardware-information)\n",
    "- [choose hardware config](#choose-hardware-config)\n",
    "- [get `job_source_uri`](#get-job_source_uri)\n",
    "- [estimate payment amount](#estimate-payment-amount)\n",
    "- [create task to get `task_uuid`](#create-task)\n",
    "- [submit payment](#submit-payment)\n",
    "- [validate payment](#validate-payment-to-deploy-task)\n",
    "- [follow up task status](#follow-up-task-status-optional)\n",
    "- [show result](#show-result)\n"
   ]
  },
  {
   "cell_type": "markdown",
   "metadata": {},
   "source": [
    "\n",
    "### Initialization\n",
    "\n",
    "#### get an `API_KEY`\n",
    "\n",
    "- For test version, get `API_KEY` in dashboard page: https://orchestrator-test.swanchain.io\n",
    "- For prod version, get `API_KEY` in dashboard page: https://orchestrator.swanchain.io\n",
    "\n",
    "If use this repository to test on your local machine, add `sys.path.insert(0, '..')` at the beginning, and run code in the root directory of this repository.\n",
    "\n",
    "To use this SDK, you need to add environment file `.env` in your local directory, including the following parameters (`PK` is private key):\n",
    "\n",
    "```\n",
    "API_KEY=\n",
    "WALLET=\n",
    "PK=\n",
    "```"
   ]
  },
  {
   "cell_type": "code",
   "execution_count": 1,
   "metadata": {},
   "outputs": [],
   "source": [
    "import sys\n",
    "sys.path.insert(0, '..') \n",
    "\n",
    "import os\n",
    "import time\n",
    "import dotenv\n",
    "import json\n",
    "dotenv.load_dotenv()\n",
    "\n",
    "import swan\n",
    "\n",
    "# dev_url = \"https://swanhub-cali.swanchain.io\"\n",
    "# swan.setup_default_session(login_url=dev_url)\n",
    "# session = swan._get_default_session()"
   ]
  },
  {
   "cell_type": "code",
   "execution_count": 2,
   "metadata": {},
   "outputs": [],
   "source": [
    "wallet_address = os.getenv('WALLET')\n",
    "primary_key = os.getenv('PK')\n",
    "swan_orchestrator = swan.resource(service_name='Orchestrator')"
   ]
  },
  {
   "cell_type": "code",
   "execution_count": null,
   "metadata": {},
   "outputs": [],
   "source": [
    "r = swan_orchestrator.get_premade_image(\"hello-world\")\n",
    "print(json.dumps(r, indent=2))"
   ]
  },
  {
   "cell_type": "code",
   "execution_count": 2,
   "metadata": {},
   "outputs": [
    {
     "ename": "NameError",
     "evalue": "name 'dev_url' is not defined",
     "output_type": "error",
     "traceback": [
      "\u001b[1;31m---------------------------------------------------------------------------\u001b[0m",
      "\u001b[1;31mNameError\u001b[0m                                 Traceback (most recent call last)",
      "Cell \u001b[1;32mIn[2], line 1\u001b[0m\n\u001b[1;32m----> 1\u001b[0m swan_orchestrator \u001b[38;5;241m=\u001b[39m swan\u001b[38;5;241m.\u001b[39mresource(\u001b[38;5;124m'\u001b[39m\u001b[38;5;124mOrchestrator\u001b[39m\u001b[38;5;124m'\u001b[39m, url_endpoint\u001b[38;5;241m=\u001b[39m\u001b[43mdev_url\u001b[49m)\n",
      "\u001b[1;31mNameError\u001b[0m: name 'dev_url' is not defined"
     ]
    }
   ],
   "source": [
    "swan_orchestrator = swan.resource(service_name='Orchestrator', url_endpoint=dev_url)"
   ]
  },
  {
   "cell_type": "code",
   "execution_count": 4,
   "metadata": {},
   "outputs": [],
   "source": [
    "swan_orchestrator = swan.resource(os.getenv(\"API\"), 'Orchestrator')"
   ]
  },
  {
   "cell_type": "code",
   "execution_count": 3,
   "metadata": {},
   "outputs": [],
   "source": []
  },
  {
   "cell_type": "code",
   "execution_count": 3,
   "metadata": {},
   "outputs": [
    {
     "name": "stdout",
     "output_type": "stream",
     "text": [
      "{\n",
      "  \"client_contract_address\": \"0x9c5397F804f6663326151c81bBD82bb1451059E8\",\n",
      "  \"payment_contract_address\": \"0xB48c5D1c025655BA79Ac4E10C0F19523dB97c816\",\n",
      "  \"rpc_url\": \"https://rpc-atom-internal.swanchain.io\",\n",
      "  \"swan_token_contract_address\": \"0x91B25A65b295F0405552A4bbB77879ab5e38166c\"\n",
      "}\n"
     ]
    }
   ],
   "source": [
    "r = swan_orchestrator.contract_info\n",
    "print(json.dumps(r, indent=2))"
   ]
  },
  {
   "cell_type": "markdown",
   "metadata": {},
   "source": [
    "### Show available hardware information"
   ]
  },
  {
   "cell_type": "code",
   "execution_count": 5,
   "metadata": {},
   "outputs": [
    {
     "data": {
      "text/plain": [
       "[{'id': 0,\n",
       "  'name': 'C1ae.small',\n",
       "  'description': 'CPU only · 2 vCPU · 2 GiB',\n",
       "  'type': 'CPU',\n",
       "  'region': ['Quebec-CA', 'North Carolina-US'],\n",
       "  'price': '0.0',\n",
       "  'status': 'available'},\n",
       " {'id': 1,\n",
       "  'name': 'C1ae.medium',\n",
       "  'description': 'CPU only · 4 vCPU · 4 GiB',\n",
       "  'type': 'CPU',\n",
       "  'region': ['Quebec-CA', 'North Carolina-US'],\n",
       "  'price': '1.0',\n",
       "  'status': 'available'},\n",
       " {'id': 12,\n",
       "  'name': 'G1ae.small',\n",
       "  'description': 'Nvidia 3080 · 4 vCPU · 8 GiB',\n",
       "  'type': 'GPU',\n",
       "  'region': ['Quebec-CA', 'North Carolina-US'],\n",
       "  'price': '10.0',\n",
       "  'status': 'available'},\n",
       " {'id': 13,\n",
       "  'name': 'G1ae.medium',\n",
       "  'description': 'Nvidia 3080 · 8 vCPU · 16 GiB',\n",
       "  'type': 'GPU',\n",
       "  'region': ['Quebec-CA', 'North Carolina-US'],\n",
       "  'price': '11.0',\n",
       "  'status': 'available'},\n",
       " {'id': 20,\n",
       "  'name': 'Hpc1ae.small',\n",
       "  'description': 'Nvidia 3090 · 4 vCPU · 8 GiB',\n",
       "  'type': 'GPU',\n",
       "  'region': ['Quebec-CA'],\n",
       "  'price': '14.0',\n",
       "  'status': 'available'},\n",
       " {'id': 21,\n",
       "  'name': 'Hpc1ae.medium',\n",
       "  'description': 'Nvidia 3090 · 8 vCPU · 16 GiB',\n",
       "  'type': 'GPU',\n",
       "  'region': ['Quebec-CA'],\n",
       "  'price': '16.0',\n",
       "  'status': 'available'},\n",
       " {'id': 73,\n",
       "  'name': 'R1ae.medium',\n",
       "  'description': 'Nvidia 3080 · 8 vCPU · 32 GiB',\n",
       "  'type': 'GPU',\n",
       "  'region': ['Quebec-CA', 'North Carolina-US'],\n",
       "  'price': '22.0',\n",
       "  'status': 'available'},\n",
       " {'id': 74,\n",
       "  'name': 'R1ae.large',\n",
       "  'description': 'Nvidia 3090 · 8 vCPU · 32 GiB',\n",
       "  'type': 'GPU',\n",
       "  'region': ['Quebec-CA'],\n",
       "  'price': '30.0',\n",
       "  'status': 'available'}]"
      ]
     },
     "execution_count": 5,
     "metadata": {},
     "output_type": "execute_result"
    }
   ],
   "source": [
    "hardwares_info = swan_orchestrator.get_hardware_config()\n",
    "hardwares_info"
   ]
  },
  {
   "cell_type": "markdown",
   "metadata": {},
   "source": [
    "### Choose hardware config\n",
    "\n",
    "choose the hardware with its config name or hardware id\n",
    "\n",
    "in hardware config, `cfg_name` and `hardware_id` will be used in the steps to deploy task (create task and submit payment)"
   ]
  },
  {
   "cell_type": "code",
   "execution_count": 3,
   "metadata": {},
   "outputs": [
    {
     "name": "stdout",
     "output_type": "stream",
     "text": [
      "Successfully set up default task configuration\n"
     ]
    }
   ],
   "source": [
    "hardware_id = 0 # 'C1ae.small'\n",
    "region = 'North Carolina-US' #'Quebec-CA'\n",
    "if swan_orchestrator.set_default_task_config(hardware_id, region):\n",
    "    print(\"Successfully set up default task configuration\")"
   ]
  },
  {
   "cell_type": "markdown",
   "metadata": {},
   "source": [
    "### Get `job_source_uri`\n",
    "\n",
    "We can use the `get_source_uri` interface to get a `job_source_uri` for creating task."
   ]
  },
  {
   "cell_type": "code",
   "execution_count": 4,
   "metadata": {},
   "outputs": [],
   "source": [
    "\n",
    "job_source_uri = swan_orchestrator.get_source_uri(\n",
    "    repo_uri='https://github.com/alphaflows/tetris-docker-image.git',\n",
    "    wallet_address=wallet_address\n",
    "    # hardware_id=hardware_id,\n",
    ")"
   ]
  },
  {
   "cell_type": "code",
   "execution_count": 5,
   "metadata": {},
   "outputs": [
    {
     "data": {
      "text/plain": [
       "'https://plutotest.acl.swanipfs.com/ipfs/QmUiWh2HuJT43RND6TJKmo87poQgDMX9uBu3LDmNnWvuJW'"
      ]
     },
     "execution_count": 5,
     "metadata": {},
     "output_type": "execute_result"
    }
   ],
   "source": [
    "job_source_uri"
   ]
  },
  {
   "cell_type": "markdown",
   "metadata": {},
   "source": [
    "### Estimate Payment amount"
   ]
  },
  {
   "cell_type": "code",
   "execution_count": 7,
   "metadata": {},
   "outputs": [
    {
     "name": "stdout",
     "output_type": "stream",
     "text": [
      "0\n"
     ]
    }
   ],
   "source": [
    "duration_hour = 1 # hour\n",
    "amount = swan_orchestrator.estimate_payment(\n",
    "    duration_hour=duration_hour\n",
    "    # hardware_id=hardware_id, \n",
    ")\n",
    "print(amount)\n",
    "duration=3600*duration_hour"
   ]
  },
  {
   "cell_type": "markdown",
   "metadata": {},
   "source": [
    "### Create task\n",
    "\n",
    "This step uses above information to create task, and get `task_uuid`, which is useful in submit payment step."
   ]
  },
  {
   "cell_type": "code",
   "execution_count": 4,
   "metadata": {},
   "outputs": [],
   "source": [
    "job_source_uri = 'https://github.com/alphaflows/tetris-docker-image.git'"
   ]
  },
  {
   "cell_type": "code",
   "execution_count": 5,
   "metadata": {},
   "outputs": [
    {
     "name": "stdout",
     "output_type": "stream",
     "text": [
      "0\n",
      "https://plutotest.acl.swanipfs.com/ipfs/QmWDDBnYg2qdqLQ4o5WBvrjYL7ghTZeaKdKTqPyqcySBx3\n",
      "{\n",
      "  \"data\": {\n",
      "    \"task\": {\n",
      "      \"comments\": null,\n",
      "      \"created_at\": 1719522313,\n",
      "      \"end_at\": 1719525913,\n",
      "      \"id\": 4407,\n",
      "      \"leading_job_id\": null,\n",
      "      \"refund_amount\": null,\n",
      "      \"refund_wallet\": \"0x00165Ca5Ab193c4D2709F94A5418165bA04394E6\",\n",
      "      \"source\": \"v2\",\n",
      "      \"start_at\": 1719522313,\n",
      "      \"start_in\": 300,\n",
      "      \"status\": \"initialized\",\n",
      "      \"task_detail\": {\n",
      "        \"amount\": 0.0,\n",
      "        \"bidder_limit\": 3,\n",
      "        \"created_at\": 1719522313,\n",
      "        \"duration\": 3600,\n",
      "        \"end_at\": 1719525913,\n",
      "        \"hardware\": \"C1ae.small\",\n",
      "        \"job_result_uri\": null,\n",
      "        \"job_source_uri\": \"https://plutotest.acl.swanipfs.com/ipfs/QmWDDBnYg2qdqLQ4o5WBvrjYL7ghTZeaKdKTqPyqcySBx3\",\n",
      "        \"price_per_hour\": \"0.0\",\n",
      "        \"requirements\": {\n",
      "          \"hardware\": \"None\",\n",
      "          \"hardware_type\": \"CPU\",\n",
      "          \"memory\": \"2\",\n",
      "          \"region\": \"global\",\n",
      "          \"vcpu\": \"2\"\n",
      "        },\n",
      "        \"start_at\": 1719522313,\n",
      "        \"status\": \"paid\",\n",
      "        \"storage_source\": \"swanhub\",\n",
      "        \"type\": \"instance\",\n",
      "        \"updated_at\": 1719522313\n",
      "      },\n",
      "      \"task_detail_cid\": null,\n",
      "      \"tx_hash\": null,\n",
      "      \"type\": null,\n",
      "      \"updated_at\": 1719522313,\n",
      "      \"user_id\": 99,\n",
      "      \"uuid\": \"91dfd96c-8c33-4353-acfb-94c20d257bad\"\n",
      "    }\n",
      "  },\n",
      "  \"message\": \"Task_uuid initialized.\",\n",
      "  \"status\": \"success\",\n",
      "  \"id\": \"91dfd96c-8c33-4353-acfb-94c20d257bad\"\n",
      "}\n"
     ]
    }
   ],
   "source": [
    "result = swan_orchestrator.create_task( \n",
    "    job_source_uri=job_source_uri,\n",
    "    # hardware_id=hardware_id,\n",
    "    wallet_address=wallet_address,\n",
    "    # region='North Carolina-US',\n",
    "    # duration=duration\n",
    "    auto_pay=False,\n",
    "    # image_name=\"hello world\"\n",
    ")\n",
    "print(json.dumps(result, indent=2))\n",
    "task_uuid = result['data']['task']['uuid']"
   ]
  },
  {
   "cell_type": "markdown",
   "metadata": {},
   "source": [
    "### Submit Payment\n",
    "\n",
    "This step is using `task_uuid`, `hardware_id` and `duration` to submit payment via **ClientPayment** contract."
   ]
  },
  {
   "cell_type": "code",
   "execution_count": 11,
   "metadata": {},
   "outputs": [],
   "source": [
    "# tx_hash = contract.submit_payment(task_uuid, hardware_id, duration)\n",
    "# print(tx_hash)"
   ]
  },
  {
   "cell_type": "markdown",
   "metadata": {},
   "source": [
    "### Validate Payment to deploy task\n",
    "\n",
    "This step will validate the payment and then make task eligible for assigning if validation successful"
   ]
  },
  {
   "cell_type": "code",
   "execution_count": 12,
   "metadata": {},
   "outputs": [],
   "source": [
    "# if result_validation := swan_api.validate_payment(\n",
    "#     tx_hash=tx_hash,\n",
    "#     task_uuid=task_uuid\n",
    "# ):\n",
    "#     print(json.dumps(result_validation, indent=2))\n",
    "# else:\n",
    "#     print('validation failed')"
   ]
  },
  {
   "cell_type": "markdown",
   "metadata": {},
   "source": [
    "### Make Payment to deploy task\n",
    "\n",
    "This step will make the payment and then make task eligible for assigning if payment successful"
   ]
  },
  {
   "cell_type": "code",
   "execution_count": 6,
   "metadata": {},
   "outputs": [
    {
     "name": "stdout",
     "output_type": "stream",
     "text": [
      "hardware id is 0\n",
      "{'tx_hash': '0x23ca76a7faa7be3362cd15e651c12d571f933c724d1397f369bc6e5501372d8d', 'task_uuid': '91dfd96c-8c33-4353-acfb-94c20d257bad'}\n",
      "{\n",
      "  \"data\": {\n",
      "    \"task\": {\n",
      "      \"comments\": null,\n",
      "      \"created_at\": 1719522313,\n",
      "      \"end_at\": 1719525913,\n",
      "      \"id\": 4407,\n",
      "      \"leading_job_id\": null,\n",
      "      \"refund_amount\": null,\n",
      "      \"refund_wallet\": \"0x00165Ca5Ab193c4D2709F94A5418165bA04394E6\",\n",
      "      \"source\": \"v2\",\n",
      "      \"start_at\": 1719522313,\n",
      "      \"start_in\": 300,\n",
      "      \"status\": \"created\",\n",
      "      \"task_detail\": {\n",
      "        \"amount\": 0.0,\n",
      "        \"bidder_limit\": 3,\n",
      "        \"created_at\": 1719522313,\n",
      "        \"duration\": 3600,\n",
      "        \"end_at\": 1719525913,\n",
      "        \"hardware\": \"C1ae.small\",\n",
      "        \"job_result_uri\": null,\n",
      "        \"job_source_uri\": \"https://plutotest.acl.swanipfs.com/ipfs/QmWDDBnYg2qdqLQ4o5WBvrjYL7ghTZeaKdKTqPyqcySBx3\",\n",
      "        \"price_per_hour\": \"0.0\",\n",
      "        \"requirements\": {\n",
      "          \"hardware\": \"None\",\n",
      "          \"hardware_type\": \"CPU\",\n",
      "          \"memory\": \"2\",\n",
      "          \"region\": \"global\",\n",
      "          \"vcpu\": \"2\"\n",
      "        },\n",
      "        \"start_at\": 1719522313,\n",
      "        \"status\": \"paid\",\n",
      "        \"storage_source\": \"swanhub\",\n",
      "        \"type\": \"instance\",\n",
      "        \"updated_at\": 1719522313\n",
      "      },\n",
      "      \"task_detail_cid\": \"https://plutotest.acl.swanipfs.com/ipfs/QmdBEC8rFtxjXS11cGcwbwQukPjsodHYCMJCg2WuMetTWA\",\n",
      "      \"tx_hash\": null,\n",
      "      \"type\": null,\n",
      "      \"updated_at\": 1719522324,\n",
      "      \"user_id\": 99,\n",
      "      \"uuid\": \"91dfd96c-8c33-4353-acfb-94c20d257bad\"\n",
      "    }\n",
      "  },\n",
      "  \"message\": \"Task payment validated successfully.\",\n",
      "  \"status\": \"success\"\n",
      "}\n"
     ]
    }
   ],
   "source": [
    "duration=3600\n",
    "if result_validation := swan_orchestrator.make_payment(task_uuid=task_uuid, \n",
    "                                              duration=duration, \n",
    "                                              primary_key=primary_key\n",
    "                                              # hardware_id=hardware_id\n",
    "                                              ):\n",
    "    print(json.dumps(result_validation, indent=2))\n",
    "else:\n",
    "    print('validation failed')"
   ]
  },
  {
   "cell_type": "markdown",
   "metadata": {},
   "source": [
    "### follow up task status (optional)\n",
    "The following step is optional, shows information when waiting for task being deployed."
   ]
  },
  {
   "cell_type": "code",
   "execution_count": 8,
   "metadata": {},
   "outputs": [
    {
     "name": "stdout",
     "output_type": "stream",
     "text": [
      "{\n",
      "  \"data\": {\n",
      "    \"computing_providers\": [\n",
      "      {\n",
      "        \"beneficiary\": \"0xFbc1d38a2127D81BFe3EA347bec7310a1cfa2373\",\n",
      "        \"cp_account_address\": \"0x4D81F4277667862046802bDdcdB667704bEFbbAB\",\n",
      "        \"created_at\": 1718385670,\n",
      "        \"id\": 66,\n",
      "        \"lat\": 45.5075,\n",
      "        \"lon\": -73.5887,\n",
      "        \"multi_address\": [\n",
      "          \"/ip4/38.140.46.60/tcp/8086\"\n",
      "        ],\n",
      "        \"node_id\": \"0478a886cb6e191a0531fb6f8a7da4c0fbf0ec220af6d49e622f7e2da514f0ea205ed77918796c66ae642f0996dbf0ecc4bb7f1dd949705d1306abd1c14b60fb8a\",\n",
      "        \"online\": 1,\n",
      "        \"owner_address\": \"0xFbc1d38a2127D81BFe3EA347bec7310a1cfa2373\",\n",
      "        \"region\": \"Quebec-CA\",\n",
      "        \"task_types\": \"[1, 2, 3]\",\n",
      "        \"updated_at\": 1719522331,\n",
      "        \"version\": \"2.0\",\n",
      "        \"worker_address\": \"0xFbc1d38a2127D81BFe3EA347bec7310a1cfa2373\"\n",
      "      },\n",
      "      {\n",
      "        \"beneficiary\": \"0x1AE8665873565C9089753920A0866C49Bd35DCC9\",\n",
      "        \"cp_account_address\": \"0xd63853b23Af4cc3b37377368dd33F09b8567aCea\",\n",
      "        \"created_at\": 1718386123,\n",
      "        \"id\": 71,\n",
      "        \"lat\": 35.8639,\n",
      "        \"lon\": -78.535,\n",
      "        \"multi_address\": [\n",
      "          \"/ip4/provider.cp.filezoo.com.cn/tcp/9087\"\n",
      "        ],\n",
      "        \"node_id\": \"0475e6cb8909e125db8b233e9d2c8237e28e8d852fb4dcf1d5f9b5eead94931d8ed84c5f08e4e88a53b24d80bb3bb3b181389fcddf0114ac93f2866d769cc8ff18\",\n",
      "        \"online\": 1,\n",
      "        \"owner_address\": \"0x1AE8665873565C9089753920A0866C49Bd35DCC9\",\n",
      "        \"region\": \"North Carolina-US\",\n",
      "        \"task_types\": \"[3]\",\n",
      "        \"updated_at\": 1719522331,\n",
      "        \"version\": \"2.0\",\n",
      "        \"worker_address\": \"0x1AE8665873565C9089753920A0866C49Bd35DCC9\"\n",
      "      }\n",
      "    ],\n",
      "    \"jobs\": [\n",
      "      {\n",
      "        \"build_log\": \"wss://log.dev2.crosschain.computer:8086/api/v1/computing/lagrange/spaces/log?space_id=QmWDDBnYg2qdqLQ4o5WBvrjYL7ghTZeaKdKTqPyqcySBx3&type=build\",\n",
      "        \"comments\": \"downloadSource: no job_result_uri from api..\",\n",
      "        \"container_log\": \"wss://log.dev2.crosschain.computer:8086/api/v1/computing/lagrange/spaces/log?space_id=QmWDDBnYg2qdqLQ4o5WBvrjYL7ghTZeaKdKTqPyqcySBx3&type=container\",\n",
      "        \"cp_account_address\": \"0x4D81F4277667862046802bDdcdB667704bEFbbAB\",\n",
      "        \"created_at\": 1719522327,\n",
      "        \"duration\": 3600,\n",
      "        \"ended_at\": null,\n",
      "        \"hardware\": \"C1ae.small\",\n",
      "        \"id\": 4492,\n",
      "        \"job_real_uri\": \"https://j4hjf5ky4d.dev2.crosschain.computer\",\n",
      "        \"job_result_uri\": null,\n",
      "        \"job_source_uri\": \"https://plutotest.acl.swanipfs.com/ipfs/QmWDDBnYg2qdqLQ4o5WBvrjYL7ghTZeaKdKTqPyqcySBx3\",\n",
      "        \"name\": \"Job-79a729cb-642d-4631-be84-9fd16b09f6a3\",\n",
      "        \"node_id\": \"0478a886cb6e191a0531fb6f8a7da4c0fbf0ec220af6d49e622f7e2da514f0ea205ed77918796c66ae642f0996dbf0ecc4bb7f1dd949705d1306abd1c14b60fb8a\",\n",
      "        \"start_at\": 1719522327,\n",
      "        \"status\": \"downloadSource\",\n",
      "        \"storage_source\": \"swanhub\",\n",
      "        \"task_uuid\": \"91dfd96c-8c33-4353-acfb-94c20d257bad\",\n",
      "        \"type\": null,\n",
      "        \"updated_at\": 1719522331,\n",
      "        \"uuid\": \"79a729cb-642d-4631-be84-9fd16b09f6a3\"\n",
      "      },\n",
      "      {\n",
      "        \"build_log\": \"wss://log.cp.filezoo.com.cn:9087/api/v1/computing/lagrange/spaces/log?space_id=QmWDDBnYg2qdqLQ4o5WBvrjYL7ghTZeaKdKTqPyqcySBx3&type=build\",\n",
      "        \"comments\": \"downloadSource: no job_result_uri from api..\",\n",
      "        \"container_log\": \"wss://log.cp.filezoo.com.cn:9087/api/v1/computing/lagrange/spaces/log?space_id=QmWDDBnYg2qdqLQ4o5WBvrjYL7ghTZeaKdKTqPyqcySBx3&type=container\",\n",
      "        \"cp_account_address\": \"0xd63853b23Af4cc3b37377368dd33F09b8567aCea\",\n",
      "        \"created_at\": 1719522327,\n",
      "        \"duration\": 3600,\n",
      "        \"ended_at\": null,\n",
      "        \"hardware\": \"C1ae.small\",\n",
      "        \"id\": 4493,\n",
      "        \"job_real_uri\": \"https://igmlg02rty.cp.filezoo.com.cn\",\n",
      "        \"job_result_uri\": null,\n",
      "        \"job_source_uri\": \"https://plutotest.acl.swanipfs.com/ipfs/QmWDDBnYg2qdqLQ4o5WBvrjYL7ghTZeaKdKTqPyqcySBx3\",\n",
      "        \"name\": \"Job-570b47df-6629-44af-831d-e7132ea06271\",\n",
      "        \"node_id\": \"0475e6cb8909e125db8b233e9d2c8237e28e8d852fb4dcf1d5f9b5eead94931d8ed84c5f08e4e88a53b24d80bb3bb3b181389fcddf0114ac93f2866d769cc8ff18\",\n",
      "        \"start_at\": 1719522327,\n",
      "        \"status\": \"downloadSource\",\n",
      "        \"storage_source\": \"swanhub\",\n",
      "        \"task_uuid\": \"91dfd96c-8c33-4353-acfb-94c20d257bad\",\n",
      "        \"type\": null,\n",
      "        \"updated_at\": 1719522331,\n",
      "        \"uuid\": \"570b47df-6629-44af-831d-e7132ea06271\"\n",
      "      }\n",
      "    ],\n",
      "    \"task\": {\n",
      "      \"comments\": null,\n",
      "      \"created_at\": 1719522313,\n",
      "      \"end_at\": 1719525913,\n",
      "      \"id\": 4407,\n",
      "      \"leading_job_id\": \"79a729cb-642d-4631-be84-9fd16b09f6a3\",\n",
      "      \"refund_amount\": null,\n",
      "      \"refund_wallet\": \"0x00165Ca5Ab193c4D2709F94A5418165bA04394E6\",\n",
      "      \"source\": \"v2\",\n",
      "      \"start_at\": 1719522313,\n",
      "      \"start_in\": 300,\n",
      "      \"status\": \"completed\",\n",
      "      \"task_detail\": {\n",
      "        \"amount\": 0.0,\n",
      "        \"bidder_limit\": 3,\n",
      "        \"created_at\": 1719522313,\n",
      "        \"duration\": 3600,\n",
      "        \"end_at\": 1719525913,\n",
      "        \"hardware\": \"C1ae.small\",\n",
      "        \"job_result_uri\": null,\n",
      "        \"job_source_uri\": \"https://plutotest.acl.swanipfs.com/ipfs/QmWDDBnYg2qdqLQ4o5WBvrjYL7ghTZeaKdKTqPyqcySBx3\",\n",
      "        \"price_per_hour\": \"0.0\",\n",
      "        \"requirements\": {\n",
      "          \"hardware\": \"None\",\n",
      "          \"hardware_type\": \"CPU\",\n",
      "          \"memory\": \"2\",\n",
      "          \"region\": \"global\",\n",
      "          \"vcpu\": \"2\"\n",
      "        },\n",
      "        \"start_at\": 1719522313,\n",
      "        \"status\": \"paid\",\n",
      "        \"storage_source\": \"swanhub\",\n",
      "        \"type\": \"instance\",\n",
      "        \"updated_at\": 1719522313\n",
      "      },\n",
      "      \"task_detail_cid\": \"https://plutotest.acl.swanipfs.com/ipfs/QmdBEC8rFtxjXS11cGcwbwQukPjsodHYCMJCg2WuMetTWA\",\n",
      "      \"tx_hash\": null,\n",
      "      \"type\": null,\n",
      "      \"updated_at\": 1719522330,\n",
      "      \"user_id\": 99,\n",
      "      \"uuid\": \"91dfd96c-8c33-4353-acfb-94c20d257bad\"\n",
      "    }\n",
      "  },\n",
      "  \"message\": \"fetch task info for task_uuid='91dfd96c-8c33-4353-acfb-94c20d257bad' successfully\",\n",
      "  \"status\": \"success\"\n",
      "}\n"
     ]
    }
   ],
   "source": [
    "# Check task info\n",
    "info = swan_orchestrator.get_deployment_info(task_uuid=task_uuid)\n",
    "print(json.dumps(info, indent=2))"
   ]
  },
  {
   "cell_type": "markdown",
   "metadata": {},
   "source": [
    "### Show result\n",
    "\n",
    "`job_real_uri` is for show the result of application you deployed.  \n",
    "You can put it into the web browser to view application."
   ]
  },
  {
   "cell_type": "code",
   "execution_count": 9,
   "metadata": {},
   "outputs": [
    {
     "name": "stdout",
     "output_type": "stream",
     "text": [
      "['https://j4hjf5ky4d.dev2.crosschain.computer', 'https://igmlg02rty.cp.filezoo.com.cn']\n"
     ]
    }
   ],
   "source": [
    "r = swan_orchestrator.get_real_url(task_uuid)\n",
    "print(r)"
   ]
  },
  {
   "cell_type": "code",
   "execution_count": 11,
   "metadata": {},
   "outputs": [
    {
     "name": "stderr",
     "output_type": "stream",
     "text": [
      "ERROR:root:SwanAPIRequestException: Invalid hardware_id, please provide a hardware_id or set with set_configTraceback (most recent call last):\n",
      "  File \"c:\\Users\\GeorgeMo\\Documents\\python-swan-sdk\\examples\\..\\swan\\api\\swan_api.py\", line 539, in renew_task\n",
      "    raise SwanAPIException(f\"Invalid hardware_id, please provide a hardware_id or set with set_config\")\n",
      "swan.common.exception.SwanAPIException: SwanAPIRequestException: Invalid hardware_id, please provide a hardware_id or set with set_config\n",
      "\n"
     ]
    },
    {
     "name": "stdout",
     "output_type": "stream",
     "text": [
      "None\n"
     ]
    }
   ],
   "source": [
    "renew_task = swan_orchestrator.renew_task(task_uuid=task_uuid, \n",
    "                                 duration=duration * 2,\n",
    "                                 # hardware_id=hardware_id\n",
    "                                )\n",
    "print(renew_task)"
   ]
  },
  {
   "cell_type": "code",
   "execution_count": 12,
   "metadata": {},
   "outputs": [
    {
     "name": "stdout",
     "output_type": "stream",
     "text": [
      "{'data': {'retryable': False, 'task_status': 'terminate_pending'}, 'message': 'Task termination is queued', 'status': 'success'}\n"
     ]
    }
   ],
   "source": [
    "r = swan_orchestrator.terminate_task(task_uuid)\n",
    "print(r)"
   ]
  },
  {
   "cell_type": "code",
   "execution_count": 21,
   "metadata": {},
   "outputs": [
    {
     "name": "stdout",
     "output_type": "stream",
     "text": [
      "{'data': {'error_code': 1022}, 'message': \"task_uuid='a5bc7071-7f3f-46c8-9df6-732bc781addb' all payments (completed) not in cooling down status, cannot claim review\", 'status': 'failed'}\n"
     ]
    }
   ],
   "source": [
    "claim_review = swan_orchestrator.claim_review(task_uuid)\n",
    "print(claim_review)"
   ]
  },
  {
   "cell_type": "code",
   "execution_count": 10,
   "metadata": {},
   "outputs": [
    {
     "name": "stdout",
     "output_type": "stream",
     "text": [
      "Expecting value: line 1 column 1 (char 0)\n",
      "<Response [200]>\n"
     ]
    }
   ],
   "source": [
    "import requests\n",
    "import json\n",
    "\n",
    "headers = {\n",
    "    'Content-Type': 'application/json',\n",
    "}\n",
    "\n",
    "response = requests.get(r[0], headers=headers)\n",
    "\n",
    "try:\n",
    "    print(json.dumps(response.json(), indent=4))\n",
    "except Exception as e:\n",
    "    print(e)\n",
    "    print(response)\n"
   ]
  }
 ],
 "metadata": {
  "kernelspec": {
   "display_name": "swanchain",
   "language": "python",
   "name": "python3"
  },
  "language_info": {
   "codemirror_mode": {
    "name": "ipython",
    "version": 3
   },
   "file_extension": ".py",
   "mimetype": "text/x-python",
   "name": "python",
   "nbconvert_exporter": "python",
   "pygments_lexer": "ipython3",
   "version": "3.10.0"
  }
 },
 "nbformat": 4,
 "nbformat_minor": 2
}
