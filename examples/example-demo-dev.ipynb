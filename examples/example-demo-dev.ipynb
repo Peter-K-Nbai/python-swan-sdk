{
 "cells": [
  {
   "cell_type": "markdown",
   "metadata": {},
   "source": [
    "## Demo for SDK\n",
    "\n",
    "This example shows how to use SDK to deploy a task. The demo notebook includes the following steps:\n",
    "\n",
    "- [Getting Started](#Getting-Started)\n",
    "    - [initialization](#initialization)\n",
    "    - [show available hardware info list](#show-available-hardware-information)\n",
    "    - [choose hardware config](#Set-default-hardware-config-(Optional))\n",
    "- [Creating And Deploying Task](#Creating-And-Deploying-Task)\n",
    "    - [estimate payment amount](#estimate-payment-amount-optional)\n",
    "    - [Auto Pay Path](#Auto-Pay-Path)\n",
    "        - [create task with auto_pay](#Create-task-(auto_pay))\n",
    "        - [renew task with auto-pay](#renew-task-auto-pay-optional)\n",
    "    - [No Auto Pay Path](#No-Auto-Pay-Path)\n",
    "        - [create task with no auto_pay to get `task_uuid`](#Create-task-(No-auto_pay))\n",
    "        - [make payment](#make-payment-(Optional))\n",
    "        - [validate payment](#validate-payment-to-deploy-task)\n",
    "        - [renew task](#renew-task-(no-auto-pay)-optional)\n",
    "    - [terminate task](#terminate-task-optional)\n",
    "    - [claim review](#claim-review-optional)\n",
    "- [View Deployed Task Results](#View-Deployed-Task-Results)\n",
    "    - [follow up task status](#follow-up-task-status-optional)\n",
    "    - [show result](#show-result)\n"
   ]
  },
  {
   "cell_type": "markdown",
   "metadata": {},
   "source": [
    "# Getting Started"
   ]
  },
  {
   "cell_type": "markdown",
   "metadata": {},
   "source": [
    "\n",
    "### Initialization\n",
    "\n",
    "#### get an `API_KEY`\n",
    "\n",
    "- For test version, get `API_KEY` in dashboard page: https://orchestrator-test.swanchain.io\n",
    "- For prod version, get `API_KEY` in dashboard page: https://orchestrator.swanchain.io\n",
    "\n",
    "If use this repository to test on your local machine, add `sys.path.insert(0, '..')` at the beginning, and run code in the root directory of this repository.\n",
    "\n",
    "To use this SDK in another enviroment set up, you need to add environment file `.env` in your local directory, including the following parameters (`PK` is private key):\n",
    "\n",
    "```\n",
    "API_KEY=\n",
    "WALLET=\n",
    "PK=\n",
    "SWAN_DEV=\n",
    "```"
   ]
  },
  {
   "cell_type": "code",
   "execution_count": 1,
   "metadata": {},
   "outputs": [
    {
     "name": "stderr",
     "output_type": "stream",
     "text": [
      "ERROR:root:Expecting value: line 1 column 1 (char 0)Traceback (most recent call last):\n",
      "  File \"c:\\Users\\GeorgeMo\\Documents\\python-swan-sdk\\.venv\\lib\\site-packages\\requests\\models.py\", line 971, in json\n",
      "    return complexjson.loads(self.text, **kwargs)\n",
      "  File \"C:\\Users\\GeorgeMo\\AppData\\Local\\Programs\\Python\\Python310\\lib\\json\\__init__.py\", line 346, in loads\n",
      "    return _default_decoder.decode(s)\n",
      "  File \"C:\\Users\\GeorgeMo\\AppData\\Local\\Programs\\Python\\Python310\\lib\\json\\decoder.py\", line 337, in decode\n",
      "    obj, end = self.raw_decode(s, idx=_w(s, 0).end())\n",
      "  File \"C:\\Users\\GeorgeMo\\AppData\\Local\\Programs\\Python\\Python310\\lib\\json\\decoder.py\", line 355, in raw_decode\n",
      "    raise JSONDecodeError(\"Expecting value\", s, err.value) from None\n",
      "json.decoder.JSONDecodeError: Expecting value: line 1 column 1 (char 0)\n",
      "\n",
      "During handling of the above exception, another exception occurred:\n",
      "\n",
      "Traceback (most recent call last):\n",
      "  File \"c:\\Users\\GeorgeMo\\Documents\\python-swan-sdk\\examples\\..\\swan\\session.py\", line 48, in api_key_login\n",
      "    result = self.api_client._request_with_params(\n",
      "  File \"c:\\Users\\GeorgeMo\\Documents\\python-swan-sdk\\examples\\..\\swan\\api_client.py\", line 52, in _request_with_params\n",
      "    return self._request(method, request_path, swan_api, params, token, files, json_body=json_body)\n",
      "  File \"c:\\Users\\GeorgeMo\\Documents\\python-swan-sdk\\examples\\..\\swan\\api_client.py\", line 46, in _request\n",
      "    return response.json()\n",
      "  File \"c:\\Users\\GeorgeMo\\Documents\\python-swan-sdk\\.venv\\lib\\site-packages\\requests\\models.py\", line 975, in json\n",
      "    raise RequestsJSONDecodeError(e.msg, e.doc, e.pos)\n",
      "requests.exceptions.JSONDecodeError: Expecting value: line 1 column 1 (char 0)\n",
      "\n"
     ]
    },
    {
     "name": "stdout",
     "output_type": "stream",
     "text": [
      "https://swanhub-cali.swanchain.io\n",
      "VHLLSZQc5Z\n",
      "VHLLSZQc5Z https://swanhub-cali.swanchain.io\n",
      "https://swanhub-cali.swanchain.io/login_by_api_key\n",
      "{'api_key': 'VHLLSZQc5Z'}\n"
     ]
    },
    {
     "ename": "ValueError",
     "evalue": "login failed, api key is incorrect",
     "output_type": "error",
     "traceback": [
      "\u001b[1;31m---------------------------------------------------------------------------\u001b[0m",
      "\u001b[1;31mValueError\u001b[0m                                Traceback (most recent call last)",
      "Cell \u001b[1;32mIn[1], line 21\u001b[0m\n\u001b[0;32m     18\u001b[0m \u001b[38;5;28mprint\u001b[39m(swan_dev_url)\n\u001b[0;32m     19\u001b[0m \u001b[38;5;28mprint\u001b[39m(api_key)\n\u001b[1;32m---> 21\u001b[0m swan_orchestrator \u001b[38;5;241m=\u001b[39m \u001b[43mswan\u001b[49m\u001b[38;5;241;43m.\u001b[39;49m\u001b[43mresource\u001b[49m\u001b[43m(\u001b[49m\u001b[43mapi_key\u001b[49m\u001b[38;5;241;43m=\u001b[39;49m\u001b[43mapi_key\u001b[49m\u001b[43m,\u001b[49m\u001b[43m \u001b[49m\u001b[43mlogin_url\u001b[49m\u001b[38;5;241;43m=\u001b[39;49m\u001b[43mswan_dev_url\u001b[49m\u001b[43m,\u001b[49m\u001b[43m \u001b[49m\u001b[43mservice_name\u001b[49m\u001b[38;5;241;43m=\u001b[39;49m\u001b[38;5;124;43m'\u001b[39;49m\u001b[38;5;124;43mOrchestrator\u001b[39;49m\u001b[38;5;124;43m'\u001b[39;49m\u001b[43m)\u001b[49m\n",
      "File \u001b[1;32mc:\\Users\\GeorgeMo\\Documents\\python-swan-sdk\\examples\\..\\swan\\__init__.py:38\u001b[0m, in \u001b[0;36mresource\u001b[1;34m(api_key, login_url, *args, **kwargs)\u001b[0m\n\u001b[0;32m     36\u001b[0m session \u001b[38;5;241m=\u001b[39m _get_default_session(api_key, login_url)\n\u001b[0;32m     37\u001b[0m \u001b[38;5;28;01mif\u001b[39;00m session \u001b[38;5;241m==\u001b[39m \u001b[38;5;28;01mNone\u001b[39;00m:\n\u001b[1;32m---> 38\u001b[0m     \u001b[38;5;28;01mraise\u001b[39;00m \u001b[38;5;167;01mValueError\u001b[39;00m(\u001b[38;5;124mf\u001b[39m\u001b[38;5;124m\"\u001b[39m\u001b[38;5;124mlogin failed, api key is incorrect\u001b[39m\u001b[38;5;124m\"\u001b[39m)\n\u001b[0;32m     39\u001b[0m \u001b[38;5;28;01mreturn\u001b[39;00m session\u001b[38;5;241m.\u001b[39mresource(\u001b[38;5;241m*\u001b[39margs, \u001b[38;5;241m*\u001b[39m\u001b[38;5;241m*\u001b[39mkwargs)\n",
      "\u001b[1;31mValueError\u001b[0m: login failed, api key is incorrect"
     ]
    }
   ],
   "source": [
    "import sys\n",
    "sys.path.insert(0, '..') \n",
    "\n",
    "import os\n",
    "import time\n",
    "import dotenv\n",
    "import json\n",
    "dotenv.load_dotenv()\n",
    "\n",
    "import swan\n",
    "\n",
    "wallet_address = os.getenv('WALLET')\n",
    "private_key = os.getenv('PK')\n",
    "api_key = os.getenv('API_KEY')\n",
    "swan_dev_url = os.getenv('SWAN_DEV')\n",
    "if swan_dev_url == None:\n",
    "    print(f\"NOTICE: If you do not set the SWAN_DEV, you will be using PROD\")\n",
    "\n",
    "swan_orchestrator = swan.resource(api_key=api_key, login_url=swan_dev_url, service_name='Orchestrator')"
   ]
  },
  {
   "cell_type": "code",
   "execution_count": 6,
   "metadata": {},
   "outputs": [
    {
     "name": "stdout",
     "output_type": "stream",
     "text": [
      "{\n",
      "  \"client_contract_address\": \"0x9c5397F804f6663326151c81bBD82bb1451059E8\",\n",
      "  \"payment_contract_address\": \"0xB48c5D1c025655BA79Ac4E10C0F19523dB97c816\",\n",
      "  \"rpc_url\": \"https://rpc-atom-internal.swanchain.io\",\n",
      "  \"swan_token_contract_address\": \"0x91B25A65b295F0405552A4bbB77879ab5e38166c\"\n",
      "}\n"
     ]
    }
   ],
   "source": [
    "r = swan_orchestrator.contract_info\n",
    "print(json.dumps(r, indent=2))"
   ]
  },
  {
   "cell_type": "markdown",
   "metadata": {},
   "source": [
    "### Show available hardware information"
   ]
  },
  {
   "cell_type": "code",
   "execution_count": 7,
   "metadata": {},
   "outputs": [
    {
     "data": {
      "text/plain": [
       "[{'id': 0,\n",
       "  'name': 'C1ae.small',\n",
       "  'description': 'CPU only · 2 vCPU · 2 GiB',\n",
       "  'type': 'CPU',\n",
       "  'region': ['Quebec-CA', 'North Carolina-US'],\n",
       "  'price': '0.0',\n",
       "  'status': 'available'},\n",
       " {'id': 1,\n",
       "  'name': 'C1ae.medium',\n",
       "  'description': 'CPU only · 4 vCPU · 4 GiB',\n",
       "  'type': 'CPU',\n",
       "  'region': ['Quebec-CA', 'North Carolina-US'],\n",
       "  'price': '1.0',\n",
       "  'status': 'available'},\n",
       " {'id': 12,\n",
       "  'name': 'G1ae.small',\n",
       "  'description': 'Nvidia 3080 · 4 vCPU · 8 GiB',\n",
       "  'type': 'GPU',\n",
       "  'region': ['Quebec-CA', 'North Carolina-US'],\n",
       "  'price': '10.0',\n",
       "  'status': 'available'},\n",
       " {'id': 13,\n",
       "  'name': 'G1ae.medium',\n",
       "  'description': 'Nvidia 3080 · 8 vCPU · 16 GiB',\n",
       "  'type': 'GPU',\n",
       "  'region': ['Quebec-CA', 'North Carolina-US'],\n",
       "  'price': '11.0',\n",
       "  'status': 'available'},\n",
       " {'id': 20,\n",
       "  'name': 'Hpc1ae.small',\n",
       "  'description': 'Nvidia 3090 · 4 vCPU · 8 GiB',\n",
       "  'type': 'GPU',\n",
       "  'region': ['Quebec-CA'],\n",
       "  'price': '14.0',\n",
       "  'status': 'available'},\n",
       " {'id': 21,\n",
       "  'name': 'Hpc1ae.medium',\n",
       "  'description': 'Nvidia 3090 · 8 vCPU · 16 GiB',\n",
       "  'type': 'GPU',\n",
       "  'region': ['Quebec-CA'],\n",
       "  'price': '16.0',\n",
       "  'status': 'available'},\n",
       " {'id': 73,\n",
       "  'name': 'R1ae.medium',\n",
       "  'description': 'Nvidia 3080 · 8 vCPU · 32 GiB',\n",
       "  'type': 'GPU',\n",
       "  'region': ['Quebec-CA', 'North Carolina-US'],\n",
       "  'price': '22.0',\n",
       "  'status': 'available'},\n",
       " {'id': 74,\n",
       "  'name': 'R1ae.large',\n",
       "  'description': 'Nvidia 3090 · 8 vCPU · 32 GiB',\n",
       "  'type': 'GPU',\n",
       "  'region': ['Quebec-CA'],\n",
       "  'price': '30.0',\n",
       "  'status': 'available'}]"
      ]
     },
     "execution_count": 7,
     "metadata": {},
     "output_type": "execute_result"
    }
   ],
   "source": [
    "hardwares_info = swan_orchestrator.get_hardware_config()\n",
    "hardwares_info\n",
    "hardware_id = 1 # 'C1ae.medium'\n",
    "region = 'North Carolina-US'"
   ]
  },
  {
   "cell_type": "markdown",
   "metadata": {},
   "source": [
    "### Set default hardware config (Optional)\n",
    "\n",
    "choose a default hardware with its hardware id and region. Set default `hardware_id` and `region` will be used in the steps to deploy task if not provided as parameters in future functions"
   ]
  },
  {
   "cell_type": "code",
   "execution_count": 8,
   "metadata": {},
   "outputs": [
    {
     "name": "stdout",
     "output_type": "stream",
     "text": [
      "Successfully set up default task configuration\n"
     ]
    }
   ],
   "source": [
    "hardware_id = 1 # 'C1ae.medium'\n",
    "region = 'North Carolina-US'\n",
    "if swan_orchestrator.set_default_task_config(hardware_id, region):\n",
    "    print(\"Successfully set up default task configuration\")"
   ]
  },
  {
   "cell_type": "markdown",
   "metadata": {},
   "source": [
    "# Creating-And-Deploying-Task"
   ]
  },
  {
   "cell_type": "markdown",
   "metadata": {},
   "source": [
    "### Estimate Payment amount (Optional)\n",
    "\n",
    "Estimate the cost of deploying the task on specified hardware for duration (in seconds)"
   ]
  },
  {
   "cell_type": "code",
   "execution_count": 9,
   "metadata": {},
   "outputs": [
    {
     "name": "stdout",
     "output_type": "stream",
     "text": [
      "1\n"
     ]
    }
   ],
   "source": [
    "duration = 1 * 3600 # 1 hour\n",
    "\n",
    "amount = swan_orchestrator.estimate_payment(\n",
    "    duration=duration, # Optional: Defaults to 3600 seconds or 1 hour\n",
    "    hardware_id=hardware_id, # Optional: Defaults to hardware_id set in set_default_task_config or 0 (free) if not set\n",
    ")\n",
    "\n",
    "print(amount)"
   ]
  },
  {
   "cell_type": "markdown",
   "metadata": {},
   "source": [
    "## Auto Pay Path"
   ]
  },
  {
   "cell_type": "markdown",
   "metadata": {},
   "source": [
    "### Create task (auto_pay)\n",
    "\n",
    "This step creates, pays and deploys task. It also gets `task_uuid`, which is useful in task info steps.\n",
    "\n",
    "`wallet_address` is mandatory. `job_source_uri` is mandatory in this demo, please check out example-demo-prebuilt-image if deploying prebuilt images with `image_name`.\n",
    "\n",
    "In this section, `private_key` is mandatory. If you do not want to use `private_key` and pay through SDK, please check out [create task with no auto_pay](#Create-task-(No-auto_pay))\n",
    "\n",
    "`job_source_uri` is repository url of code to be deployed, must contain a must contain a dockerfile or deploy.yaml file"
   ]
  },
  {
   "cell_type": "code",
   "execution_count": 10,
   "metadata": {},
   "outputs": [
    {
     "name": "stdout",
     "output_type": "stream",
     "text": [
      "{'tx_hash': '0x70e638ef63e9210b7f56901166c91f32e388107544f7a7c5e60f3868a51b5294', 'task_uuid': 'fdb91eb6-8d89-4829-8e4c-2ac2f2b18ebc'}\n",
      "{\n",
      "  \"data\": {\n",
      "    \"config_id\": 2,\n",
      "    \"created_at\": 1719595275,\n",
      "    \"duration\": 3600,\n",
      "    \"ended_at\": null,\n",
      "    \"error_code\": null,\n",
      "    \"id\": 2445,\n",
      "    \"order_type\": \"Creation\",\n",
      "    \"refund_tx_hash\": null,\n",
      "    \"region\": \"North Carolina-US\",\n",
      "    \"space_id\": null,\n",
      "    \"start_in\": 300,\n",
      "    \"started_at\": 1719595275,\n",
      "    \"status\": \"pending_payment_confirm\",\n",
      "    \"task_uuid\": \"fdb91eb6-8d89-4829-8e4c-2ac2f2b18ebc\",\n",
      "    \"tx_hash\": \"0x70e638ef63e9210b7f56901166c91f32e388107544f7a7c5e60f3868a51b5294\",\n",
      "    \"updated_at\": 1719595282,\n",
      "    \"uuid\": \"55acdaaa-5eb1-435e-be08-c67b7bff3d53\"\n",
      "  },\n",
      "  \"message\": \"Query order status success.\",\n",
      "  \"status\": \"success\",\n",
      "  \"tx_hash\": \"0x70e638ef63e9210b7f56901166c91f32e388107544f7a7c5e60f3868a51b5294\",\n",
      "  \"id\": \"fdb91eb6-8d89-4829-8e4c-2ac2f2b18ebc\"\n",
      "}\n"
     ]
    }
   ],
   "source": [
    "# job_source_uri = '<github repository url of code to be deployed>'\n",
    "\n",
    "# Demo example: uncomment to use\n",
    "job_source_uri = 'https://github.com/alphaflows/tetris-docker-image.git'\n",
    "\n",
    "result = swan_orchestrator.create_task(\n",
    "    wallet_address=wallet_address,\n",
    "    job_source_uri=job_source_uri,\n",
    "    auto_pay=True, # Optional: Defaults to false, but in this section's path, set to True\n",
    "    private_key=private_key,\n",
    "    hardware_id=hardware_id, # Optional: Defaults to hardware_id set in set_default_task_config or 0 (free) if not set\n",
    "    region='North Carolina-US', # Optional: Defaults to region set in set_default_task_config or global if not set\n",
    "    duration=duration, # Optional: Defaults to 3600 seconds\n",
    ")\n",
    "\n",
    "print(json.dumps(result, indent=2))\n",
    "\n",
    "# Store the task_uuid of created task\n",
    "task_uuid = result['id']"
   ]
  },
  {
   "cell_type": "markdown",
   "metadata": {},
   "source": [
    "### renew task (auto-pay) (optional)\n",
    "\n",
    "Extend `task_uuid` by `duration`. Using auto pay automatically makes a transaction to SWAN contract and extends the task."
   ]
  },
  {
   "cell_type": "code",
   "execution_count": 13,
   "metadata": {},
   "outputs": [
    {
     "name": "stdout",
     "output_type": "stream",
     "text": [
      "successfully renewed task\n"
     ]
    }
   ],
   "source": [
    "renew_task = swan_orchestrator.renew_task(\n",
    "    task_uuid=task_uuid, \n",
    "    duration=60, # Optional: Defaults to 3600 seconds (1 hour)\n",
    "    auto_pay=True, # Optional: Defaults to False, in this demo path set to True\n",
    "    private_key=private_key,\n",
    "    hardware_id=hardware_id # Optional: Defaults to hardware_id set in set_default_task_config or 0 (free) if not set\n",
    ")\n",
    "\n",
    "if renew_task and renew_task['status'] == 'success':\n",
    "    print(f\"successfully renewed task\")"
   ]
  },
  {
   "cell_type": "markdown",
   "metadata": {},
   "source": [
    "If completed steps above, please go to [View Deployed Task Results](#View-Deployed-Task-Results) to view results, or [terminate task](#terminate-task) for more functions related to tasks"
   ]
  },
  {
   "cell_type": "markdown",
   "metadata": {},
   "source": [
    "## No Auto Pay Path"
   ]
  },
  {
   "cell_type": "markdown",
   "metadata": {},
   "source": [
    "### Create task (No auto_pay)\n",
    "\n",
    "This creates task, but does not pay or deploy task. It gets `task_uuid`, which is useful in payment steps.\n",
    "\n",
    "`wallet_address` is mandatory. `job_source_uri` is mandatory in this demo, please check out example-demo-prebuilt-image if deploying prebuilt images.\n",
    "\n",
    "`job_source_uri` is repository url of code to be deployed, must contain a must contain a dockerfile or deploy.yaml file"
   ]
  },
  {
   "cell_type": "code",
   "execution_count": 8,
   "metadata": {},
   "outputs": [
    {
     "name": "stdout",
     "output_type": "stream",
     "text": [
      "{\n",
      "  \"data\": {\n",
      "    \"task\": {\n",
      "      \"comments\": null,\n",
      "      \"created_at\": 1719592814,\n",
      "      \"end_at\": 1719596414,\n",
      "      \"id\": 4427,\n",
      "      \"leading_job_id\": null,\n",
      "      \"refund_amount\": null,\n",
      "      \"refund_wallet\": \"0x00165Ca5Ab193c4D2709F94A5418165bA04394E6\",\n",
      "      \"source\": \"v2\",\n",
      "      \"start_at\": 1719592814,\n",
      "      \"start_in\": 300,\n",
      "      \"status\": \"initialized\",\n",
      "      \"task_detail\": {\n",
      "        \"amount\": 0.0,\n",
      "        \"bidder_limit\": 3,\n",
      "        \"created_at\": 1719592814,\n",
      "        \"duration\": 3600,\n",
      "        \"end_at\": 1719596414,\n",
      "        \"hardware\": \"C1ae.small\",\n",
      "        \"job_result_uri\": null,\n",
      "        \"job_source_uri\": \"https://plutotest.acl.swanipfs.com/ipfs/QmcgTP2tXsxGAG3eBsa5fTPiAxgMPRPW4cKUwLy2PMGWu6\",\n",
      "        \"price_per_hour\": \"0.0\",\n",
      "        \"requirements\": {\n",
      "          \"hardware\": \"None\",\n",
      "          \"hardware_type\": \"CPU\",\n",
      "          \"memory\": \"2\",\n",
      "          \"region\": \"North Carolina-US\",\n",
      "          \"vcpu\": \"2\"\n",
      "        },\n",
      "        \"start_at\": 1719592814,\n",
      "        \"status\": \"paid\",\n",
      "        \"storage_source\": \"swanhub\",\n",
      "        \"type\": \"instance\",\n",
      "        \"updated_at\": 1719592814\n",
      "      },\n",
      "      \"task_detail_cid\": null,\n",
      "      \"tx_hash\": null,\n",
      "      \"type\": null,\n",
      "      \"updated_at\": 1719592814,\n",
      "      \"user_id\": 99,\n",
      "      \"uuid\": \"b30c11fe-0714-4f46-86ae-493d23ce269f\"\n",
      "    }\n",
      "  },\n",
      "  \"message\": \"Task_uuid initialized.\",\n",
      "  \"status\": \"success\",\n",
      "  \"id\": \"b30c11fe-0714-4f46-86ae-493d23ce269f\"\n",
      "}\n"
     ]
    }
   ],
   "source": [
    "# job_source_uri = '<github repository url of code to be deployed>'\n",
    "\n",
    "# Demo example: uncomment to use\n",
    "job_source_uri = 'https://github.com/alphaflows/tetris-docker-image.git'\n",
    "\n",
    "result = swan_orchestrator.create_task(\n",
    "    wallet_address=wallet_address,\n",
    "    job_source_uri=job_source_uri,\n",
    "    hardware_id=hardware_id, # Optional: Defaults to hardware_id set in set_default_task_config or 0 (free) if not set\n",
    "    region='North Carolina-US', # Optional: Defaults to region set in set_default_task_config or global if not set\n",
    "    duration=duration, # Optional: Defaults to 3600 seconds\n",
    "    auto_pay=False, # Optional: Defaults to false\n",
    ")\n",
    "\n",
    "print(json.dumps(result, indent=2))\n",
    "\n",
    "# Store the task_uuid of created task\n",
    "task_uuid = result['id']"
   ]
  },
  {
   "cell_type": "markdown",
   "metadata": {},
   "source": [
    "### Make Payment (Optional)\n",
    "\n",
    "This step is using `task_uuid`, `private_key`,  `duration`, and `hardware_id` to submit payment and make task eligible for assigning if payment successful via swan SDK. `task_uuid`, `private_key` are mandatory.\n",
    "\n",
    "If following this section, please skip to - [View Deployed Task Results](#View-Deployed-Task-Results) next.\n",
    "If do not want to submit payment with swan SDK, and directly made payment to swan contract instead, please move onto next section."
   ]
  },
  {
   "cell_type": "code",
   "execution_count": 11,
   "metadata": {},
   "outputs": [],
   "source": [
    "if result_validation := swan_orchestrator.make_payment(\n",
    "    task_uuid=task_uuid, \n",
    "    private_key=private_key,\n",
    "    duration=duration, # Optional: Defaults to 3600 seconds (1 hour)\n",
    "    hardware_id=hardware_id # Optional: Defaults to hardware_id set in set_default_task_config or 0 (free) if not set\n",
    "):\n",
    "    print(json.dumps(result_validation, indent=2))\n",
    "else:\n",
    "    print('validation failed')"
   ]
  },
  {
   "cell_type": "markdown",
   "metadata": {},
   "source": [
    "### Validate Payment to deploy task\n",
    "\n",
    "Only use this if paid directly to contract. If used make_payment section above, ignore this section.\n",
    "\n",
    "This step will use `tx_hash` and `task_uuid` to validate the payment and then make task eligible for assigning if validation successful"
   ]
  },
  {
   "cell_type": "markdown",
   "metadata": {},
   "source": [
    "Will Delete the submit_payment code block below in final version"
   ]
  },
  {
   "cell_type": "code",
   "execution_count": 10,
   "metadata": {},
   "outputs": [],
   "source": [
    "tx_hash = swan_orchestrator.submit_payment(\n",
    "    task_uuid=task_uuid, \n",
    "    private_key=private_key\n",
    ")"
   ]
  },
  {
   "cell_type": "code",
   "execution_count": 12,
   "metadata": {},
   "outputs": [
    {
     "name": "stdout",
     "output_type": "stream",
     "text": [
      "{'tx_hash': '0x2f00af7c5e936cab22f1b51a1329fd6d86cd04c9aba62c494d2035408508cfcc', 'task_uuid': 'b30c11fe-0714-4f46-86ae-493d23ce269f'}\n",
      "{\n",
      "  \"data\": {\n",
      "    \"config_id\": 1,\n",
      "    \"created_at\": 1719592814,\n",
      "    \"duration\": 3600,\n",
      "    \"ended_at\": null,\n",
      "    \"error_code\": null,\n",
      "    \"id\": 2441,\n",
      "    \"order_type\": \"Creation\",\n",
      "    \"refund_tx_hash\": null,\n",
      "    \"region\": \"North Carolina-US\",\n",
      "    \"space_id\": null,\n",
      "    \"start_in\": 300,\n",
      "    \"started_at\": 1719592814,\n",
      "    \"status\": \"pending_payment_confirm\",\n",
      "    \"task_uuid\": \"b30c11fe-0714-4f46-86ae-493d23ce269f\",\n",
      "    \"tx_hash\": \"0x2f00af7c5e936cab22f1b51a1329fd6d86cd04c9aba62c494d2035408508cfcc\",\n",
      "    \"updated_at\": 1719592940,\n",
      "    \"uuid\": \"827848b5-5a6f-46c7-837d-03d780c4e425\"\n",
      "  },\n",
      "  \"message\": \"Query order status success.\",\n",
      "  \"status\": \"success\"\n",
      "}\n"
     ]
    }
   ],
   "source": [
    "if result_validation := swan_orchestrator.validate_payment(\n",
    "    tx_hash=tx_hash, # \"<tx_hash of payment of task_uuid to swan contract>\",\n",
    "    task_uuid=task_uuid\n",
    "):\n",
    "    print(json.dumps(result_validation, indent=2))\n",
    "else:\n",
    "    print('validation failed')"
   ]
  },
  {
   "cell_type": "markdown",
   "metadata": {},
   "source": [
    "### Renew Task (no auto-pay) (Optional)\n",
    "\n",
    "Extend `task_uuid` by `duration`. `tx_hash` of payment for extension required."
   ]
  },
  {
   "cell_type": "markdown",
   "metadata": {},
   "source": [
    "Will Delete the submit_payment code block below in final version"
   ]
  },
  {
   "cell_type": "code",
   "execution_count": 13,
   "metadata": {},
   "outputs": [],
   "source": [
    "tx_hash = swan_orchestrator.submit_payment(\n",
    "    task_uuid=task_uuid, \n",
    "    private_key=private_key,\n",
    "    duration=60, # Optional: Defaults to 3600 seconds (1 hour)\n",
    "    hardware_id=hardware_id # Optional: Defaults to hardware_id set in set_default_task_config or 0 (free) if not set\n",
    ")"
   ]
  },
  {
   "cell_type": "code",
   "execution_count": 15,
   "metadata": {},
   "outputs": [
    {
     "name": "stdout",
     "output_type": "stream",
     "text": [
      "successfully renewed task\n"
     ]
    }
   ],
   "source": [
    "renew_task = swan_orchestrator.renew_task(\n",
    "    task_uuid=task_uuid, \n",
    "    duration=60, # Optional: Defaults to 3600 seconds (1 hour)\n",
    "    tx_hash=tx_hash, # tx_hash of payment to swan contract for this task\n",
    "    hardware_id=hardware_id # Optional: Defaults to hardware_id set in set_default_task_config or 0 (free) if not set\n",
    ")\n",
    "\n",
    "if renew_task and renew_task['status'] == 'success':\n",
    "    print(f\"successfully renewed {task_uuid}\")\n",
    "else:\n",
    "    print(f\"Unable to renew {task_uuid}\")"
   ]
  },
  {
   "cell_type": "markdown",
   "metadata": {},
   "source": [
    "### terminate task (Optional)\n",
    "\n",
    "Terminate the task `task_uuid` and get a refund for remaining time"
   ]
  },
  {
   "cell_type": "code",
   "execution_count": 16,
   "metadata": {},
   "outputs": [
    {
     "name": "stdout",
     "output_type": "stream",
     "text": [
      "Terminated fdb91eb6-8d89-4829-8e4c-2ac2f2b18ebc successfully\n"
     ]
    }
   ],
   "source": [
    "terminate_status = swan_orchestrator.terminate_task(task_uuid)\n",
    "if terminate_status['status'] == 'success':\n",
    "    print(f\"Terminated {task_uuid} successfully\")\n",
    "else:\n",
    "    print(f\"Failed to terminate {task_uuid}\")"
   ]
  },
  {
   "cell_type": "markdown",
   "metadata": {},
   "source": [
    "### claim review (Optional)\n",
    "\n",
    "Review if `task_uui` uptime is above 90% and give refund if below 90%"
   ]
  },
  {
   "cell_type": "code",
   "execution_count": null,
   "metadata": {},
   "outputs": [],
   "source": [
    "claim_review = swan_orchestrator.claim_review(task_uuid)\n",
    "if claim_review['status'] == 'success':\n",
    "    print('Succesfully refunded')\n",
    "else:\n",
    "    print('Not eligible')"
   ]
  },
  {
   "cell_type": "markdown",
   "metadata": {},
   "source": [
    "## View Deployed Task Results"
   ]
  },
  {
   "cell_type": "markdown",
   "metadata": {},
   "source": [
    "### follow up task status (optional)\n",
    "The following step is optional, shows information when waiting for task being deployed."
   ]
  },
  {
   "cell_type": "code",
   "execution_count": 14,
   "metadata": {},
   "outputs": [
    {
     "name": "stdout",
     "output_type": "stream",
     "text": [
      "{\n",
      "  \"data\": {\n",
      "    \"computing_providers\": [\n",
      "      {\n",
      "        \"beneficiary\": \"0x1AE8665873565C9089753920A0866C49Bd35DCC9\",\n",
      "        \"cp_account_address\": \"0xd63853b23Af4cc3b37377368dd33F09b8567aCea\",\n",
      "        \"created_at\": 1718386123,\n",
      "        \"id\": 71,\n",
      "        \"lat\": 35.8639,\n",
      "        \"lon\": -78.535,\n",
      "        \"multi_address\": [\n",
      "          \"/ip4/provider.cp.filezoo.com.cn/tcp/9087\"\n",
      "        ],\n",
      "        \"node_id\": \"0475e6cb8909e125db8b233e9d2c8237e28e8d852fb4dcf1d5f9b5eead94931d8ed84c5f08e4e88a53b24d80bb3bb3b181389fcddf0114ac93f2866d769cc8ff18\",\n",
      "        \"online\": 1,\n",
      "        \"owner_address\": \"0x1AE8665873565C9089753920A0866C49Bd35DCC9\",\n",
      "        \"region\": \"North Carolina-US\",\n",
      "        \"task_types\": \"[3]\",\n",
      "        \"updated_at\": 1719595332,\n",
      "        \"version\": \"2.0\",\n",
      "        \"worker_address\": \"0x1AE8665873565C9089753920A0866C49Bd35DCC9\"\n",
      "      }\n",
      "    ],\n",
      "    \"jobs\": [\n",
      "      {\n",
      "        \"build_log\": \"wss://log.cp.filezoo.com.cn:9087/api/v1/computing/lagrange/spaces/log?space_id=QmX3vmyvZderquSmCw2bPhaSM8FR7zi8CPXiCHMt8BLKXn&type=build\",\n",
      "        \"comments\": \"Running(deployToK8s). downloadSource: updated job_result_uri.. : no job_result_uri from api.. no status from api.\",\n",
      "        \"container_log\": \"wss://log.cp.filezoo.com.cn:9087/api/v1/computing/lagrange/spaces/log?space_id=QmX3vmyvZderquSmCw2bPhaSM8FR7zi8CPXiCHMt8BLKXn&type=container\",\n",
      "        \"cp_account_address\": \"0xd63853b23Af4cc3b37377368dd33F09b8567aCea\",\n",
      "        \"created_at\": 1719595288,\n",
      "        \"duration\": 3660,\n",
      "        \"ended_at\": null,\n",
      "        \"hardware\": \"C1ae.medium\",\n",
      "        \"id\": 4517,\n",
      "        \"job_real_uri\": \"https://oglcahx0ee.cp.filezoo.com.cn\",\n",
      "        \"job_result_uri\": \"https://42f6d9f62851.acl.swanipfs.com/ipfs/QmYfB5Ui9S3TgcgumhniP6S5H4fPUsPNQpnkZf5KD5ekv5\",\n",
      "        \"job_source_uri\": \"https://plutotest.acl.swanipfs.com/ipfs/QmX3vmyvZderquSmCw2bPhaSM8FR7zi8CPXiCHMt8BLKXn\",\n",
      "        \"name\": \"Job-13c83f42-300a-435a-ad62-775ce524bcd3\",\n",
      "        \"node_id\": \"0475e6cb8909e125db8b233e9d2c8237e28e8d852fb4dcf1d5f9b5eead94931d8ed84c5f08e4e88a53b24d80bb3bb3b181389fcddf0114ac93f2866d769cc8ff18\",\n",
      "        \"start_at\": 1719595289,\n",
      "        \"status\": \"Running\",\n",
      "        \"storage_source\": \"swanhub\",\n",
      "        \"task_uuid\": \"fdb91eb6-8d89-4829-8e4c-2ac2f2b18ebc\",\n",
      "        \"type\": null,\n",
      "        \"updated_at\": 1719595332,\n",
      "        \"uuid\": \"13c83f42-300a-435a-ad62-775ce524bcd3\"\n",
      "      }\n",
      "    ],\n",
      "    \"task\": {\n",
      "      \"comments\": null,\n",
      "      \"created_at\": 1719595275,\n",
      "      \"end_at\": 1719598935,\n",
      "      \"id\": 4429,\n",
      "      \"leading_job_id\": \"13c83f42-300a-435a-ad62-775ce524bcd3\",\n",
      "      \"refund_amount\": null,\n",
      "      \"refund_wallet\": \"0x00165Ca5Ab193c4D2709F94A5418165bA04394E6\",\n",
      "      \"source\": \"v2\",\n",
      "      \"start_at\": 1719595275,\n",
      "      \"start_in\": 300,\n",
      "      \"status\": \"completed\",\n",
      "      \"task_detail\": {\n",
      "        \"amount\": 1.0,\n",
      "        \"bidder_limit\": 3,\n",
      "        \"created_at\": 1719595275,\n",
      "        \"duration\": 3600,\n",
      "        \"end_at\": 1719598875,\n",
      "        \"hardware\": \"C1ae.medium\",\n",
      "        \"job_result_uri\": null,\n",
      "        \"job_source_uri\": \"https://plutotest.acl.swanipfs.com/ipfs/QmX3vmyvZderquSmCw2bPhaSM8FR7zi8CPXiCHMt8BLKXn\",\n",
      "        \"price_per_hour\": \"1.0\",\n",
      "        \"requirements\": {\n",
      "          \"hardware\": \"None\",\n",
      "          \"hardware_type\": \"CPU\",\n",
      "          \"memory\": \"4\",\n",
      "          \"region\": \"North Carolina-US\",\n",
      "          \"vcpu\": \"4\"\n",
      "        },\n",
      "        \"start_at\": 1719595275,\n",
      "        \"status\": \"paid\",\n",
      "        \"storage_source\": \"swanhub\",\n",
      "        \"type\": \"instance\",\n",
      "        \"updated_at\": 1719595275\n",
      "      },\n",
      "      \"task_detail_cid\": \"https://plutotest.acl.swanipfs.com/ipfs/QmXjhgUftBTLdj1b19Kji6Zss3VfqU8aH3o9SWGJhgQFf5\",\n",
      "      \"tx_hash\": null,\n",
      "      \"type\": null,\n",
      "      \"updated_at\": 1719595301,\n",
      "      \"user_id\": 99,\n",
      "      \"uuid\": \"fdb91eb6-8d89-4829-8e4c-2ac2f2b18ebc\"\n",
      "    }\n",
      "  },\n",
      "  \"message\": \"fetch task info for task_uuid='fdb91eb6-8d89-4829-8e4c-2ac2f2b18ebc' successfully\",\n",
      "  \"status\": \"success\"\n",
      "}\n"
     ]
    }
   ],
   "source": [
    "# Check task info\n",
    "info = swan_orchestrator.get_deployment_info(task_uuid=task_uuid)\n",
    "print(json.dumps(info, indent=2))"
   ]
  },
  {
   "cell_type": "markdown",
   "metadata": {},
   "source": [
    "### Show result\n",
    "\n",
    "`job_real_uri` is for show the result of application you deployed.  \n",
    "You can put it into the web browser to view application."
   ]
  },
  {
   "cell_type": "code",
   "execution_count": 15,
   "metadata": {},
   "outputs": [
    {
     "name": "stdout",
     "output_type": "stream",
     "text": [
      "['https://oglcahx0ee.cp.filezoo.com.cn']\n"
     ]
    }
   ],
   "source": [
    "result_url = swan_orchestrator.get_real_url(task_uuid)\n",
    "print(result_url)"
   ]
  },
  {
   "cell_type": "markdown",
   "metadata": {},
   "source": [
    "Check the response codes of the result_url"
   ]
  },
  {
   "cell_type": "code",
   "execution_count": 19,
   "metadata": {},
   "outputs": [
    {
     "name": "stdout",
     "output_type": "stream",
     "text": [
      "Expecting value: line 1 column 1 (char 0)\n",
      "<Response [200]>\n"
     ]
    }
   ],
   "source": [
    "import requests\n",
    "import json\n",
    "\n",
    "headers = {\n",
    "    'Content-Type': 'application/json',\n",
    "}\n",
    "\n",
    "for url in result_url:\n",
    "    response = requests.get(url, headers=headers)\n",
    "\n",
    "    try:\n",
    "        print(json.dumps(response.json(), indent=4))\n",
    "    except Exception as e:\n",
    "        print(e)\n",
    "        print(response)\n"
   ]
  }
 ],
 "metadata": {
  "kernelspec": {
   "display_name": "swanchain",
   "language": "python",
   "name": "python3"
  },
  "language_info": {
   "codemirror_mode": {
    "name": "ipython",
    "version": 3
   },
   "file_extension": ".py",
   "mimetype": "text/x-python",
   "name": "python",
   "nbconvert_exporter": "python",
   "pygments_lexer": "ipython3",
   "version": "3.10.0"
  }
 },
 "nbformat": 4,
 "nbformat_minor": 2
}
