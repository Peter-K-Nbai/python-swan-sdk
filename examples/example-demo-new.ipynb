{
 "cells": [
  {
   "cell_type": "markdown",
   "metadata": {},
   "source": [
    "## Demo for SDK\n",
    "\n",
    "This example shows how to use SDK to deploy a task. The demo notebook includes the following steps:\n",
    "\n",
    "- [Getting Started](#Getting-Started)\n",
    "    - [initialization](#initialization)\n",
    "    - [show available hardware info list](#show-available-hardware-information)\n",
    "    - [choose hardware config](#Set-default-hardware-config-(Optional))\n",
    "- [Creating And Deploying Task](#Creating-And-Deploying-Task)\n",
    "    - [estimate payment amount](#estimate-payment-amount-optional)\n",
    "    - [Auto Pay Path](#Auto-Pay-Path)\n",
    "        - [create task with auto_pay](#Create-task-(auto_pay))\n",
    "        - [renew task with auto-pay](#renew-task-auto-pay-optional)\n",
    "    - [No Auto Pay Path](#No-Auto-Pay-Path)\n",
    "        - [create task with no auto_pay to get `task_uuid`](#Create-task-(No-auto_pay))\n",
    "        - [make payment](#make-payment-(Optional))\n",
    "        - [validate payment](#validate-payment-to-deploy-task)\n",
    "        - [renew task](#renew-task-(no-auto-pay)-optional)\n",
    "    - [terminate task](#terminate-task-optional)\n",
    "    - [claim review](#claim-review-optional)\n",
    "- [View Deployed Task Results](#View-Deployed-Task-Results)\n",
    "    - [follow up task status](#follow-up-task-status-optional)\n",
    "    - [show result](#show-result)\n"
   ]
  },
  {
   "cell_type": "markdown",
   "metadata": {},
   "source": [
    "# Getting Started"
   ]
  },
  {
   "cell_type": "markdown",
   "metadata": {},
   "source": [
    "\n",
    "### Initialization\n",
    "\n",
    "#### get an `API_KEY`\n",
    "\n",
    "- For test version, get `API_KEY` in dashboard page: https://orchestrator-test.swanchain.io\n",
    "- For prod version, get `API_KEY` in dashboard page: https://orchestrator.swanchain.io\n",
    "\n",
    "If use this repository to test on your local machine, add `sys.path.insert(0, '..')` at the beginning, and run code in the root directory of this repository.\n",
    "\n",
    "To use this SDK, you need to add environment file `.env` in your local directory, including the following parameters (`PK` is private key):\n",
    "\n",
    "```\n",
    "API_KEY=\n",
    "WALLET=\n",
    "PK=\n",
    "```"
   ]
  },
  {
   "cell_type": "code",
   "execution_count": null,
   "metadata": {},
   "outputs": [],
   "source": [
    "import sys\n",
    "sys.path.insert(0, '..') \n",
    "\n",
    "import os\n",
    "import time\n",
    "import dotenv\n",
    "import json\n",
    "dotenv.load_dotenv()\n",
    "\n",
    "import swan\n",
    "\n",
    "wallet_address = os.getenv('WALLET')\n",
    "private_key = os.getenv('PK')\n",
    "api_key = os.getenv('API_KEY')\n",
    "swan_orchestrator = swan.resource(api_key=api_key, service_name='Orchestrator')"
   ]
  },
  {
   "cell_type": "code",
   "execution_count": null,
   "metadata": {},
   "outputs": [],
   "source": [
    "r = swan_orchestrator.contract_info\n",
    "print(json.dumps(r, indent=2))"
   ]
  },
  {
   "cell_type": "markdown",
   "metadata": {},
   "source": [
    "### Show available hardware information"
   ]
  },
  {
   "cell_type": "code",
   "execution_count": null,
   "metadata": {},
   "outputs": [],
   "source": [
    "hardwares_info = swan_orchestrator.get_hardware_config()\n",
    "print(hardwares_info)\n",
    "hardware_id = 0 # 'C1ae.medium'\n",
    "region = 'global'"
   ]
  },
  {
   "cell_type": "markdown",
   "metadata": {},
   "source": [
    "### Set default hardware config (Optional)\n",
    "\n",
    "choose a default hardware with its hardware id and region. Set default `hardware_id` and `region` will be used in the steps to deploy task if not provided as parameters in future functions"
   ]
  },
  {
   "cell_type": "code",
   "execution_count": null,
   "metadata": {},
   "outputs": [],
   "source": [
    "hardware_id = 0 # 'C1ae.medium'\n",
    "region = 'global'\n",
    "if swan_orchestrator.set_default_task_config(hardware_id, region):\n",
    "    print(\"Successfully set up default task configuration\")"
   ]
  },
  {
   "cell_type": "markdown",
   "metadata": {},
   "source": [
    "# Creating And Deploying Task"
   ]
  },
  {
   "cell_type": "markdown",
   "metadata": {},
   "source": [
    "### Estimate Payment amount (Optional)\n",
    "\n",
    "Estimate the cost of deploying the task on specified hardware for duration (in seconds)"
   ]
  },
  {
   "cell_type": "code",
   "execution_count": null,
   "metadata": {},
   "outputs": [],
   "source": [
    "duration = 1 * 3600 # 1 hour\n",
    "\n",
    "amount = swan_orchestrator.estimate_payment(\n",
    "    duration=duration, # Optional: Defaults to 3600 seconds or 1 hour\n",
    "    hardware_id=hardware_id, # Optional: Defaults to hardware_id set in set_default_task_config or 0 (free) if not set\n",
    ")\n",
    "\n",
    "print(amount)"
   ]
  },
  {
   "cell_type": "markdown",
   "metadata": {},
   "source": [
    "## Auto Pay Path"
   ]
  },
  {
   "cell_type": "markdown",
   "metadata": {},
   "source": [
    "### Create task (auto_pay)\n",
    "\n",
    "This step creates, pays and deploys task. It also gets `task_uuid`, which is useful in task info steps.\n",
    "\n",
    "`wallet_address` is mandatory. `job_source_uri` is mandatory in this demo, please check out example-demo-prebuilt-image if deploying prebuilt images with `image_name`.\n",
    "\n",
    "In this section, `private_key` is mandatory. If you do not want to use `private_key` and pay through SDK, please check out [create task with no auto_pay](#Create-task-(No-auto_pay))\n",
    "\n",
    "`job_source_uri` is repository url of code to be deployed, must contain a must contain a dockerfile or deploy.yaml file"
   ]
  },
  {
   "cell_type": "code",
   "execution_count": null,
   "metadata": {},
   "outputs": [],
   "source": [
    "swan_orchestrator.token"
   ]
  },
  {
   "cell_type": "code",
   "execution_count": null,
   "metadata": {},
   "outputs": [],
   "source": [
    "# job_source_uri = '<github repository url of code to be deployed>'\n",
    "\n",
    "# Demo example: uncomment to use\n",
    "job_source_uri = 'https://github.com/alphaflows/tetris-docker-image.git'\n",
    "\n",
    "result = swan_orchestrator.create_task(\n",
    "    wallet_address=wallet_address,\n",
    "    job_source_uri=job_source_uri,\n",
    "    auto_pay=True, # Optional: Defaults to false, but in this section's path, set to True\n",
    "    private_key=private_key,\n",
    "    hardware_id=0, # Optional: Defaults to hardware_id set in set_default_task_config or 0 (free) if not set\n",
    "    region='global', # Optional: Defaults to region set in set_default_task_config or global if not set\n",
    "    duration=duration, # Optional: Defaults to 3600 seconds\n",
    ")\n",
    "\n",
    "print(json.dumps(result, indent=2))\n",
    "\n",
    "# Store the task_uuid of created task\n",
    "task_uuid = result['id']"
   ]
  },
  {
   "cell_type": "code",
   "execution_count": null,
   "metadata": {},
   "outputs": [],
   "source": [
    "the parameters before submit is 435426ef-2303-45d1-94f2-f5517f38a97d, 72041890f7b66e02b4906c6a59fc25f2a828acfbbc175997902b9a0190352b25, 3600, 0\n",
    "{'tx_hash': '0x1089ceeee176b23711029c3dac25d61d071d3ccda8f91be7be1492c94f887750', 'task_uuid': 'c1736411-430c-4dba-afab-6b9588ca4ec6'}\n",
    "print(json.dumps(result, indent=2))"
   ]
  },
  {
   "cell_type": "markdown",
   "metadata": {},
   "source": [
    "### renew task (auto-pay) (optional)\n",
    "\n",
    "Extend `task_uuid` by `duration`. Using auto pay automatically makes a transaction to SWAN contract and extends the task."
   ]
  },
  {
   "cell_type": "code",
   "execution_count": null,
   "metadata": {},
   "outputs": [],
   "source": [
    "renew_task = swan_orchestrator.renew_task(\n",
    "    task_uuid=task_uuid, \n",
    "    duration=60, # Optional: Defaults to 3600 seconds (1 hour)\n",
    "    auto_pay=True, # Optional: Defaults to False, in this demo path set to True\n",
    "    private_key=private_key,\n",
    "    hardware_id=hardware_id # Optional: Defaults to hardware_id set in set_default_task_config or 0 (free) if not set\n",
    ")\n",
    "\n",
    "if renew_task and renew_task['status'] == 'success':\n",
    "    print(f\"successfully renewed task\")"
   ]
  },
  {
   "cell_type": "markdown",
   "metadata": {},
   "source": [
    "If completed steps above, please go to [View Deployed Task Results](#View-Deployed-Task-Results) to view results, or [terminate task](#terminate-task) for more functions related to tasks"
   ]
  },
  {
   "cell_type": "markdown",
   "metadata": {},
   "source": [
    "## No Auto Pay Path"
   ]
  },
  {
   "cell_type": "markdown",
   "metadata": {},
   "source": [
    "### Create task (No auto_pay)\n",
    "\n",
    "This creates task, but does not pay or deploy task. It gets `task_uuid`, which is useful in payment steps.\n",
    "\n",
    "`wallet_address` is mandatory. `job_source_uri` is mandatory in this demo, please check out example-demo-prebuilt-image if deploying prebuilt images.\n",
    "\n",
    "`job_source_uri` is repository url of code to be deployed, must contain a must contain a dockerfile or deploy.yaml file"
   ]
  },
  {
   "cell_type": "code",
   "execution_count": null,
   "metadata": {},
   "outputs": [],
   "source": [
    "# job_source_uri = '<github repository url of code to be deployed>'\n",
    "\n",
    "# Demo example: uncomment to use\n",
    "job_source_uri = 'https://github.com/alphaflows/tetris-docker-image.git'\n",
    "\n",
    "result = swan_orchestrator.create_task(\n",
    "    wallet_address=wallet_address,\n",
    "    job_source_uri=job_source_uri,\n",
    "    hardware_id=hardware_id, # Optional: Defaults to hardware_id set in set_default_task_config or 0 (free) if not set\n",
    "    region='global', # Optional: Defaults to region set in set_default_task_config or global if not set\n",
    "    duration=duration, # Optional: Defaults to 3600 seconds\n",
    "    auto_pay=False, # Optional: Defaults to false\n",
    ")\n",
    "\n",
    "print(json.dumps(result, indent=2))\n",
    "\n",
    "# Store the task_uuid of created task\n",
    "task_uuid = result['id']"
   ]
  },
  {
   "cell_type": "markdown",
   "metadata": {},
   "source": [
    "### Make Payment (Optional)\n",
    "\n",
    "This step is using `task_uuid`, `private_key`,  `duration`, and `hardware_id` to submit payment and make task eligible for assigning if payment successful via swan SDK. `task_uuid`, `private_key` are mandatory.\n",
    "\n",
    "If following this section, please skip to - [View Deployed Task Results](#View-Deployed-Task-Results) next.\n",
    "If do not want to submit payment with swan SDK, and directly made payment to swan contract instead, please move onto next section."
   ]
  },
  {
   "cell_type": "code",
   "execution_count": null,
   "metadata": {},
   "outputs": [],
   "source": [
    "if result_validation := swan_orchestrator.make_payment(\n",
    "    task_uuid='435426ef-2303-45d1-94f2-f5517f38a97d', \n",
    "    private_key=private_key,\n",
    "    duration=3600, # Optional: Defaults to 3600 seconds (1 hour)\n",
    "    hardware_id=0 # Optional: Defaults to hardware_id set in set_default_task_config or 0 (free) if not set\n",
    "):\n",
    "    print(json.dumps(result_validation, indent=2))\n",
    "else:\n",
    "    print('validation failed')"
   ]
  },
  {
   "cell_type": "markdown",
   "metadata": {},
   "source": [
    "### Validate Payment to deploy task\n",
    "\n",
    "Only use this if paid directly to contract. If used make_payment section above, ignore this section.\n",
    "\n",
    "This step will use `tx_hash` and `task_uuid` to validate the payment and then make task eligible for assigning if validation successful"
   ]
  },
  {
   "cell_type": "markdown",
   "metadata": {},
   "source": [
    "Will Delete the submit_payment code block below in final version"
   ]
  },
  {
   "cell_type": "code",
   "execution_count": null,
   "metadata": {},
   "outputs": [],
   "source": [
    "tx_hash = swan_orchestrator.submit_payment(\n",
    "    task_uuid=task_uuid, \n",
    "    private_key=private_key\n",
    ")"
   ]
  },
  {
   "cell_type": "code",
   "execution_count": null,
   "metadata": {},
   "outputs": [],
   "source": [
    "if result_validation := swan_orchestrator.validate_payment(\n",
    "    tx_hash='0x1089ceeee176b23711029c3dac25d61d071d3ccda8f91be7be1492c94f887750', # \"<tx_hash of payment of task_uuid to swan contract>\",\n",
    "    task_uuid='c1736411-430c-4dba-afab-6b9588ca4ec6'\n",
    "):\n",
    "    print(json.dumps(result_validation, indent=2))\n",
    "else:\n",
    "    print('validation failed')"
   ]
  },
  {
   "cell_type": "markdown",
   "metadata": {},
   "source": [
    "### Renew Task (no auto-pay) (Optional)\n",
    "\n",
    "Extend `task_uuid` by `duration`. `tx_hash` of payment for extension required."
   ]
  },
  {
   "cell_type": "markdown",
   "metadata": {},
   "source": [
    "Will Delete the submit_payment code block below in final version"
   ]
  },
  {
   "cell_type": "code",
   "execution_count": null,
   "metadata": {},
   "outputs": [],
   "source": [
    "tx_hash = swan_orchestrator.submit_payment(\n",
    "    task_uuid=task_uuid, \n",
    "    private_key=private_key,\n",
    "    duration=60, # Optional: Defaults to 3600 seconds (1 hour)\n",
    "    hardware_id=hardware_id # Optional: Defaults to hardware_id set in set_default_task_config or 0 (free) if not set\n",
    ")"
   ]
  },
  {
   "cell_type": "code",
   "execution_count": null,
   "metadata": {},
   "outputs": [],
   "source": [
    "renew_task = swan_orchestrator.renew_task(\n",
    "    task_uuid=task_uuid, \n",
    "    duration=60, # Optional: Defaults to 3600 seconds (1 hour)\n",
    "    tx_hash=tx_hash, # tx_hash of payment to swan contract for this task\n",
    "    hardware_id=hardware_id # Optional: Defaults to hardware_id set in set_default_task_config or 0 (free) if not set\n",
    ")\n",
    "\n",
    "if renew_task and renew_task['status'] == 'success':\n",
    "    print(f\"successfully renewed {task_uuid}\")\n",
    "else:\n",
    "    print(f\"Unable to renew {task_uuid}\")"
   ]
  },
  {
   "cell_type": "markdown",
   "metadata": {},
   "source": [
    "### terminate task (Optional)\n",
    "\n",
    "Terminate the task `task_uuid` and get a refund for remaining time"
   ]
  },
  {
   "cell_type": "code",
   "execution_count": null,
   "metadata": {},
   "outputs": [],
   "source": [
    "terminate_status = swan_orchestrator.terminate_task(task_uuid)\n",
    "if terminate_status['status'] == 'success':\n",
    "    print(f\"Terminated {task_uuid} successfully\")\n",
    "else:\n",
    "    print(f\"Failed to terminate {task_uuid}\")"
   ]
  },
  {
   "cell_type": "markdown",
   "metadata": {},
   "source": [
    "### claim review (Optional)\n",
    "\n",
    "Review if `task_uui` uptime is above 90% and give refund if below 90%"
   ]
  },
  {
   "cell_type": "code",
   "execution_count": null,
   "metadata": {},
   "outputs": [],
   "source": [
    "claim_review = swan_orchestrator.claim_review(task_uuid)\n",
    "print(claim_review)"
   ]
  },
  {
   "cell_type": "markdown",
   "metadata": {},
   "source": [
    "## View Deployed Task Results"
   ]
  },
  {
   "cell_type": "markdown",
   "metadata": {},
   "source": [
    "### follow up task status (optional)\n",
    "The following step is optional, shows information when waiting for task being deployed."
   ]
  },
  {
   "cell_type": "code",
   "execution_count": null,
   "metadata": {},
   "outputs": [],
   "source": [
    "task_uuid"
   ]
  },
  {
   "cell_type": "code",
   "execution_count": null,
   "metadata": {},
   "outputs": [],
   "source": [
    "# Check task info\n",
    "info = swan_orchestrator.get_deployment_info(task_uuid=task_uuid)\n",
    "print(json.dumps(info, indent=2))"
   ]
  },
  {
   "cell_type": "markdown",
   "metadata": {},
   "source": [
    "### Show result\n",
    "\n",
    "`job_real_uri` is for show the result of application you deployed.  \n",
    "You can put it into the web browser to view application."
   ]
  },
  {
   "cell_type": "code",
   "execution_count": null,
   "metadata": {},
   "outputs": [],
   "source": [
    "task_uuid='c1736411-430c-4dba-afab-6b9588ca4ec6'"
   ]
  },
  {
   "cell_type": "code",
   "execution_count": null,
   "metadata": {},
   "outputs": [],
   "source": [
    "result_url = swan_orchestrator.get_real_url(task_uuid)\n",
    "print(result_url)"
   ]
  },
  {
   "cell_type": "markdown",
   "metadata": {},
   "source": [
    "Check the response codes of the result_url"
   ]
  },
  {
   "cell_type": "code",
   "execution_count": null,
   "metadata": {},
   "outputs": [],
   "source": [
    "import requests\n",
    "import json\n",
    "\n",
    "headers = {\n",
    "    'Content-Type': 'application/json',\n",
    "}\n",
    "\n",
    "for url in result_url:\n",
    "    response = requests.get(url, headers=headers)\n",
    "\n",
    "    try:\n",
    "        print(json.dumps(response.json(), indent=4))\n",
    "    except Exception as e:\n",
    "        print(e)\n",
    "        print(response)\n"
   ]
  }
 ],
 "metadata": {
  "kernelspec": {
   "display_name": "swanchain",
   "language": "python",
   "name": "python3"
  },
  "language_info": {
   "codemirror_mode": {
    "name": "ipython",
    "version": 3
   },
   "file_extension": ".py",
   "mimetype": "text/x-python",
   "name": "python",
   "nbconvert_exporter": "python",
   "pygments_lexer": "ipython3",
   "version": "3.10.0"
  }
 },
 "nbformat": 4,
 "nbformat_minor": 2
}
