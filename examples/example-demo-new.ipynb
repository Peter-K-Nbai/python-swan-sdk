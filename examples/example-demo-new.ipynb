{
 "cells": [
  {
   "cell_type": "markdown",
   "metadata": {},
   "source": [
    "## Demo for SDK\n",
    "\n",
    "This example shows how to use SDK to deploy a task. The demo notebook includes the following steps:\n",
    "\n",
    "- [Getting Started](#Getting-Started)\n",
    "    - [initialization](#initialization)\n",
    "    - [show available hardware info list](#show-available-hardware-information)\n",
    "    - [choose hardware config](#Set-default-hardware-config-(Optional))\n",
    "- [Creating And Deploying Task](#Creating-And-Deploying-Task)\n",
    "    - [estimate payment amount](#estimate-payment-amount-optional)\n",
    "    - [Auto Pay Path](#Auto-Pay-Path)\n",
    "        - [create task with auto_pay](#Create-task-(auto_pay))\n",
    "        - [renew task with auto-pay](#renew-task-auto-pay-optional)\n",
    "    - [No Auto Pay Path](#No-Auto-Pay-Path)\n",
    "        - [create task with no auto_pay to get `task_uuid`](#Create-task-(No-auto_pay))\n",
    "        - [make payment](#make-payment-(Optional))\n",
    "        - [validate payment](#validate-payment-to-deploy-task)\n",
    "        - [renew task](#renew-task-(no-auto-pay)-optional)\n",
    "    - [terminate task](#terminate-task-optional)\n",
    "    - [claim review](#claim-review-optional)\n",
    "- [View Deployed Task Results](#View-Deployed-Task-Results)\n",
    "    - [follow up task status](#follow-up-task-status-optional)\n",
    "    - [show result](#show-result)\n"
   ]
  },
  {
   "cell_type": "markdown",
   "metadata": {},
   "source": [
    "# Getting Started"
   ]
  },
  {
   "cell_type": "markdown",
   "metadata": {},
   "source": [
    "\n",
    "### Initialization\n",
    "\n",
    "#### get an `API_KEY`\n",
    "\n",
    "- For test version, get `API_KEY` in dashboard page: https://orchestrator-test.swanchain.io\n",
    "- For prod version, get `API_KEY` in dashboard page: https://orchestrator.swanchain.io\n",
    "\n",
    "If use this repository to test on your local machine, add `sys.path.insert(0, '..')` at the beginning, and run code in the root directory of this repository.\n",
    "\n",
    "To use this SDK, you need to add environment file `.env` in your local directory, including the following parameters (`PK` is private key):\n",
    "\n",
    "```\n",
    "API_KEY=\n",
    "WALLET=\n",
    "PK=\n",
    "```"
   ]
  },
  {
   "cell_type": "code",
   "execution_count": 1,
   "metadata": {},
   "outputs": [
    {
     "name": "stdout",
     "output_type": "stream",
     "text": [
      "https://orchestrator-api.swanchain.io/login_by_api_key\n",
      "https://orchestrator-api.swanchain.io/contract_info\n",
      "https://orchestrator-api.swanchain.io/cp/machines\n"
     ]
    }
   ],
   "source": [
    "import sys\n",
    "sys.path.insert(0, '..') \n",
    "\n",
    "import os\n",
    "import time\n",
    "import dotenv\n",
    "import json\n",
    "dotenv.load_dotenv()\n",
    "\n",
    "import swan\n",
    "\n",
    "wallet_address = os.getenv('WALLET')\n",
    "private_key = os.getenv('PK')\n",
    "api_key = os.getenv('API_KEY')\n",
    "swan_orchestrator = swan.resource(api_key=api_key, service_name='Orchestrator')"
   ]
  },
  {
   "cell_type": "code",
   "execution_count": 2,
   "metadata": {},
   "outputs": [
    {
     "name": "stdout",
     "output_type": "stream",
     "text": [
      "{\n",
      "  \"client_contract_address\": \"0x20a67c6Bea000fAf0BE862BB254F092abF0E5b98\",\n",
      "  \"payment_contract_address\": \"0x5094A609Af5184d076Be2DF741820732126b4Fd2\",\n",
      "  \"rpc_url\": \"https://rpc-atom-internal.swanchain.io\",\n",
      "  \"swan_token_contract_address\": \"0x91B25A65b295F0405552A4bbB77879ab5e38166c\"\n",
      "}\n"
     ]
    }
   ],
   "source": [
    "r = swan_orchestrator.contract_info\n",
    "print(json.dumps(r, indent=2))"
   ]
  },
  {
   "cell_type": "markdown",
   "metadata": {},
   "source": [
    "### Show available hardware information"
   ]
  },
  {
   "cell_type": "code",
   "execution_count": 3,
   "metadata": {},
   "outputs": [
    {
     "name": "stdout",
     "output_type": "stream",
     "text": [
      "https://orchestrator-api.swanchain.io/cp/machines\n",
      "[{'id': 0, 'name': 'C1ae.small', 'description': 'CPU only · 2 vCPU · 2 GiB', 'type': 'CPU', 'region': ['Virginia-US', 'Quebec-CA', 'Kwai Tsing-HK', 'Guangdong-CN', 'Utah-US', 'North Holland-NL', 'Washington-US', 'Bavaria-DE', 'North West-SG', 'Kowloon-HK', 'Ōsaka-JP', 'Texas-US', 'Tokyo-JP', 'Sichuan-CN', 'Missouri-US', 'Central Singapore-SG', 'Saxony-DE', 'Central and Western-HK', 'Bashkortostan Republic-RU', 'Kowloon City-HK', 'North Rhine-Westphalia-DE', 'Jakarta-ID', 'North Carolina-US', 'Metro Manila-PH', 'Kuala Lumpur-MY', 'Bangkok-TH', 'Seoul-KR'], 'price': '0.0', 'status': 'available'}, {'id': 1, 'name': 'C1ae.medium', 'description': 'CPU only · 4 vCPU · 4 GiB', 'type': 'CPU', 'region': ['Virginia-US', 'Quebec-CA', 'Kwai Tsing-HK', 'Guangdong-CN', 'North Holland-NL', 'North West-SG', 'Kowloon-HK', 'Ōsaka-JP', 'Texas-US', 'Washington-US', 'Tokyo-JP', 'Sichuan-CN', 'Missouri-US', 'Central Singapore-SG', 'Saxony-DE', 'Central and Western-HK', 'Bashkortostan Republic-RU', 'Kowloon City-HK', 'North Rhine-Westphalia-DE', 'Jakarta-ID', 'North Carolina-US', 'Seoul-KR'], 'price': '1.0', 'status': 'available'}, {'id': 6, 'name': 'M1ae.2xlarge', 'description': 'Nvidia 2080 Ti · 4 vCPU · 8 GiB', 'type': 'GPU', 'region': ['Virginia-US', 'Kowloon-HK'], 'price': '6.0', 'status': 'available'}, {'id': 7, 'name': 'M1ae.3xlarge', 'description': 'Nvidia 2080 Ti · 8 vCPU · 16 GiB', 'type': 'GPU', 'region': ['Virginia-US', 'Kowloon-HK'], 'price': '6.5', 'status': 'available'}, {'id': 12, 'name': 'G1ae.small', 'description': 'Nvidia 3080 · 4 vCPU · 8 GiB', 'type': 'GPU', 'region': ['Quebec-CA', 'Guangdong-CN', 'Virginia-US', 'Kowloon-HK', 'Texas-US', 'Tokyo-JP', 'Sichuan-CN', 'Kowloon City-HK'], 'price': '10.0', 'status': 'available'}, {'id': 13, 'name': 'G1ae.medium', 'description': 'Nvidia 3080 · 8 vCPU · 16 GiB', 'type': 'GPU', 'region': ['Quebec-CA', 'Guangdong-CN', 'Virginia-US', 'Kowloon-HK', 'Texas-US', 'Tokyo-JP', 'Sichuan-CN', 'Kowloon City-HK'], 'price': '11.0', 'status': 'available'}, {'id': 20, 'name': 'Hpc1ae.small', 'description': 'Nvidia 3090 · 4 vCPU · 8 GiB', 'type': 'GPU', 'region': ['Virginia-US', 'North West-SG', 'Kowloon-HK'], 'price': '14.0', 'status': 'available'}, {'id': 21, 'name': 'Hpc1ae.medium', 'description': 'Nvidia 3090 · 8 vCPU · 16 GiB', 'type': 'GPU', 'region': ['Virginia-US', 'North West-SG', 'Kowloon-HK'], 'price': '16.0', 'status': 'available'}, {'id': 24, 'name': 'Hpc1ae.2xlarge', 'description': 'NVIDIA A4000 · 4 vCPU · 8 GiB', 'type': 'AI GPU', 'region': ['Virginia-US'], 'price': '21.0', 'status': 'available'}, {'id': 25, 'name': 'Hpc1ae.3xlarge', 'description': 'NVIDIA A4000 · 8 vCPU · 16 GiB', 'type': 'AI GPU', 'region': ['Virginia-US'], 'price': '21.0', 'status': 'available'}, {'id': 27, 'name': 'T1ae.medium', 'description': 'Nvidia 2080 Ti · 12 vCPU · 64 GiB', 'type': 'GPU', 'region': ['Virginia-US', 'Kowloon-HK'], 'price': '36.0', 'status': 'available'}, {'id': 32, 'name': 'Hpc2ae.small', 'description': 'Nvidia 4090 · 4 vCPU · 8 GiB', 'type': 'AI GPU', 'region': ['Bashkortostan Republic-RU', 'Jakarta-ID'], 'price': '22.0', 'status': 'available'}, {'id': 33, 'name': 'Hpc2ae.medium', 'description': 'Nvidia 4090 · 8 vCPU · 16 GiB', 'type': 'AI GPU', 'region': ['Bashkortostan Republic-RU', 'Jakarta-ID'], 'price': '24.0', 'status': 'available'}, {'id': 42, 'name': 'T1az.2xlarge', 'description': 'Nvidia 4090 · 8 vCPU · 64 GiB', 'type': 'AI GPU', 'region': ['Bashkortostan Republic-RU', 'Jakarta-ID'], 'price': '60.0', 'status': 'available'}, {'id': 44, 'name': 'T1az.4xlarge', 'description': 'Nvidia A4000 · 8 vCPU · 64 GiB', 'type': 'AI GPU', 'region': ['Virginia-US'], 'price': '65.0', 'status': 'available'}, {'id': 47, 'name': 'T1az.7xlarge', 'description': 'Nvidia L40s · 8 vCPU · 64 GiB', 'type': 'AI GPU', 'region': ['North Carolina-US'], 'price': '72.0', 'status': 'available'}, {'id': 55, 'name': 'T2az.4xlarge', 'description': 'Nvidia A4000 · 12 vCPU · 128 GiB', 'type': 'AI GPU', 'region': ['Virginia-US'], 'price': '75.0', 'status': 'available'}, {'id': 58, 'name': 'T2az.7xlarge', 'description': 'Nvidia L40s · 12 vCPU · 128 GiB', 'type': 'AI GPU', 'region': ['North Carolina-US'], 'price': '82.0', 'status': 'available'}, {'id': 72, 'name': 'R1ae.small', 'description': 'Nvidia 2080 TI · 8 vCPU · 32 GiB', 'type': 'GPU', 'region': ['Virginia-US', 'Kowloon-HK'], 'price': '12.0', 'status': 'available'}, {'id': 73, 'name': 'R1ae.medium', 'description': 'Nvidia 3080 · 8 vCPU · 32 GiB', 'type': 'GPU', 'region': ['Quebec-CA', 'Guangdong-CN', 'Virginia-US', 'Texas-US', 'Tokyo-JP', 'Sichuan-CN', 'Kowloon City-HK'], 'price': '22.0', 'status': 'available'}, {'id': 74, 'name': 'R1ae.large', 'description': 'Nvidia 3090 · 8 vCPU · 32 GiB', 'type': 'GPU', 'region': ['Virginia-US', 'North West-SG', 'Kowloon-HK'], 'price': '30.0', 'status': 'available'}, {'id': 77, 'name': 'R2ae.large', 'description': 'Nvidia 4090 · 8 vCPU · 32 GiB', 'type': 'AI GPU', 'region': ['Bashkortostan Republic-RU', 'Jakarta-ID'], 'price': '50.0', 'status': 'available'}, {'id': 78, 'name': 'R2ae.xlarge', 'description': 'Nvidia A4000 · 8 vCPU · 32 GiB', 'type': 'AI GPU', 'region': ['Virginia-US'], 'price': '52.0', 'status': 'available'}]\n"
     ]
    }
   ],
   "source": [
    "hardwares_info = swan_orchestrator.get_hardware_config()\n",
    "print(hardwares_info)\n",
    "hardware_id = 1 # 'C1ae.medium'\n",
    "region = 'Quebec-CA'"
   ]
  },
  {
   "cell_type": "markdown",
   "metadata": {},
   "source": [
    "### Set default hardware config (Optional)\n",
    "\n",
    "choose a default hardware with its hardware id and region. Set default `hardware_id` and `region` will be used in the steps to deploy task if not provided as parameters in future functions"
   ]
  },
  {
   "cell_type": "code",
   "execution_count": 22,
   "metadata": {},
   "outputs": [
    {
     "name": "stdout",
     "output_type": "stream",
     "text": [
      "Successfully set up default task configuration\n"
     ]
    }
   ],
   "source": [
    "hardware_id = 1 # 'C1ae.medium'\n",
    "region = 'Quebec-CA'\n",
    "if swan_orchestrator.set_default_task_config(hardware_id, region):\n",
    "    print(\"Successfully set up default task configuration\")"
   ]
  },
  {
   "cell_type": "markdown",
   "metadata": {},
   "source": [
    "# Creating And Deploying Task"
   ]
  },
  {
   "cell_type": "markdown",
   "metadata": {},
   "source": [
    "### Estimate Payment amount (Optional)\n",
    "\n",
    "Estimate the cost of deploying the task on specified hardware for duration (in seconds)"
   ]
  },
  {
   "cell_type": "code",
   "execution_count": 23,
   "metadata": {},
   "outputs": [
    {
     "name": "stdout",
     "output_type": "stream",
     "text": [
      "1\n"
     ]
    }
   ],
   "source": [
    "duration = 1 * 3600 # 1 hour\n",
    "\n",
    "amount = swan_orchestrator.estimate_payment(\n",
    "    duration=duration, # Optional: Defaults to 3600 seconds or 1 hour\n",
    "    hardware_id=hardware_id, # Optional: Defaults to hardware_id set in set_default_task_config or 0 (free) if not set\n",
    ")\n",
    "\n",
    "print(amount)"
   ]
  },
  {
   "cell_type": "markdown",
   "metadata": {},
   "source": [
    "## Auto Pay Path"
   ]
  },
  {
   "cell_type": "markdown",
   "metadata": {},
   "source": [
    "### Create task (auto_pay)\n",
    "\n",
    "This step creates, pays and deploys task. It also gets `task_uuid`, which is useful in task info steps.\n",
    "\n",
    "`wallet_address` is mandatory. `job_source_uri` is mandatory in this demo, please check out example-demo-prebuilt-image if deploying prebuilt images with `image_name`.\n",
    "\n",
    "In this section, `private_key` is mandatory. If you do not want to use `private_key` and pay through SDK, please check out [create task with no auto_pay](#Create-task-(No-auto_pay))\n",
    "\n",
    "`job_source_uri` is repository url of code to be deployed, must contain a must contain a dockerfile or deploy.yaml file"
   ]
  },
  {
   "cell_type": "code",
   "execution_count": 6,
   "metadata": {},
   "outputs": [
    {
     "name": "stderr",
     "output_type": "stream",
     "text": [
      "ERROR:root:Expecting value: line 1 column 1 (char 0)Traceback (most recent call last):\n",
      "  File \"c:\\Users\\GeorgeMo\\Documents\\python-swan-sdk\\.venv\\lib\\site-packages\\requests\\models.py\", line 971, in json\n",
      "    return complexjson.loads(self.text, **kwargs)\n",
      "  File \"C:\\Users\\GeorgeMo\\AppData\\Local\\Programs\\Python\\Python310\\lib\\json\\__init__.py\", line 346, in loads\n",
      "    return _default_decoder.decode(s)\n",
      "  File \"C:\\Users\\GeorgeMo\\AppData\\Local\\Programs\\Python\\Python310\\lib\\json\\decoder.py\", line 337, in decode\n",
      "    obj, end = self.raw_decode(s, idx=_w(s, 0).end())\n",
      "  File \"C:\\Users\\GeorgeMo\\AppData\\Local\\Programs\\Python\\Python310\\lib\\json\\decoder.py\", line 355, in raw_decode\n",
      "    raise JSONDecodeError(\"Expecting value\", s, err.value) from None\n",
      "json.decoder.JSONDecodeError: Expecting value: line 1 column 1 (char 0)\n",
      "\n",
      "During handling of the above exception, another exception occurred:\n",
      "\n",
      "Traceback (most recent call last):\n",
      "  File \"c:\\Users\\GeorgeMo\\Documents\\python-swan-sdk\\examples\\..\\swan\\api\\swan_api.py\", line 481, in validate_payment\n",
      "    result = self._request_with_params(\n",
      "  File \"c:\\Users\\GeorgeMo\\Documents\\python-swan-sdk\\examples\\..\\swan\\api_client.py\", line 50, in _request_with_params\n",
      "    return self._request(method, request_path, swan_api, params, token, files, json_body=json_body)\n",
      "  File \"c:\\Users\\GeorgeMo\\Documents\\python-swan-sdk\\examples\\..\\swan\\api_client.py\", line 44, in _request\n",
      "    return response.json()\n",
      "  File \"c:\\Users\\GeorgeMo\\Documents\\python-swan-sdk\\.venv\\lib\\site-packages\\requests\\models.py\", line 975, in json\n",
      "    raise RequestsJSONDecodeError(e.msg, e.doc, e.pos)\n",
      "requests.exceptions.JSONDecodeError: Expecting value: line 1 column 1 (char 0)\n",
      "\n",
      "ERROR:root:'NoneType' object does not support item assignmentTraceback (most recent call last):\n",
      "  File \"c:\\Users\\GeorgeMo\\Documents\\python-swan-sdk\\examples\\..\\swan\\api\\swan_api.py\", line 522, in make_payment\n",
      "    res['tx_hash'] = tx_hash\n",
      "TypeError: 'NoneType' object does not support item assignment\n",
      "\n",
      "ERROR:root:'NoneType' object does not support item assignmentTraceback (most recent call last):\n",
      "  File \"c:\\Users\\GeorgeMo\\Documents\\python-swan-sdk\\examples\\..\\swan\\api\\swan_api.py\", line 391, in create_task\n",
      "    result['id'] = task_uuid\n",
      "TypeError: 'NoneType' object does not support item assignment\n",
      "\n"
     ]
    },
    {
     "name": "stdout",
     "output_type": "stream",
     "text": [
      "null\n"
     ]
    },
    {
     "ename": "TypeError",
     "evalue": "'NoneType' object is not subscriptable",
     "output_type": "error",
     "traceback": [
      "\u001b[1;31m---------------------------------------------------------------------------\u001b[0m",
      "\u001b[1;31mTypeError\u001b[0m                                 Traceback (most recent call last)",
      "Cell \u001b[1;32mIn[6], line 19\u001b[0m\n\u001b[0;32m     16\u001b[0m \u001b[38;5;28mprint\u001b[39m(json\u001b[38;5;241m.\u001b[39mdumps(result, indent\u001b[38;5;241m=\u001b[39m\u001b[38;5;241m2\u001b[39m))\n\u001b[0;32m     18\u001b[0m \u001b[38;5;66;03m# Store the task_uuid of created task\u001b[39;00m\n\u001b[1;32m---> 19\u001b[0m task_uuid \u001b[38;5;241m=\u001b[39m \u001b[43mresult\u001b[49m\u001b[43m[\u001b[49m\u001b[38;5;124;43m'\u001b[39;49m\u001b[38;5;124;43mid\u001b[39;49m\u001b[38;5;124;43m'\u001b[39;49m\u001b[43m]\u001b[49m\n",
      "\u001b[1;31mTypeError\u001b[0m: 'NoneType' object is not subscriptable"
     ]
    }
   ],
   "source": [
    "# job_source_uri = '<github repository url of code to be deployed>'\n",
    "\n",
    "# Demo example: uncomment to use\n",
    "job_source_uri = 'https://github.com/alphaflows/tetris-docker-image.git'\n",
    "\n",
    "result = swan_orchestrator.create_task(\n",
    "    wallet_address=wallet_address,\n",
    "    job_source_uri=job_source_uri,\n",
    "    auto_pay=True, # Optional: Defaults to false, but in this section's path, set to True\n",
    "    private_key=private_key,\n",
    "    hardware_id=hardware_id, # Optional: Defaults to hardware_id set in set_default_task_config or 0 (free) if not set\n",
    "    region='North Carolina-US', # Optional: Defaults to region set in set_default_task_config or global if not set\n",
    "    duration=duration, # Optional: Defaults to 3600 seconds\n",
    ")\n",
    "\n",
    "print(json.dumps(result, indent=2))\n",
    "\n",
    "# Store the task_uuid of created task\n",
    "task_uuid = result['id']"
   ]
  },
  {
   "cell_type": "code",
   "execution_count": 8,
   "metadata": {},
   "outputs": [
    {
     "name": "stdout",
     "output_type": "stream",
     "text": [
      "null\n"
     ]
    }
   ],
   "source": [
    "print(json.dumps(result, indent=2))"
   ]
  },
  {
   "cell_type": "markdown",
   "metadata": {},
   "source": [
    "### renew task (auto-pay) (optional)\n",
    "\n",
    "Extend `task_uuid` by `duration`. Using auto pay automatically makes a transaction to SWAN contract and extends the task."
   ]
  },
  {
   "cell_type": "code",
   "execution_count": 32,
   "metadata": {},
   "outputs": [
    {
     "name": "stdout",
     "output_type": "stream",
     "text": [
      "successfully renewed task\n"
     ]
    }
   ],
   "source": [
    "renew_task = swan_orchestrator.renew_task(\n",
    "    task_uuid=task_uuid, \n",
    "    duration=60, # Optional: Defaults to 3600 seconds (1 hour)\n",
    "    auto_pay=True, # Optional: Defaults to False, in this demo path set to True\n",
    "    private_key=private_key,\n",
    "    hardware_id=hardware_id # Optional: Defaults to hardware_id set in set_default_task_config or 0 (free) if not set\n",
    ")\n",
    "\n",
    "if renew_task and renew_task['status'] == 'success':\n",
    "    print(f\"successfully renewed task\")"
   ]
  },
  {
   "cell_type": "markdown",
   "metadata": {},
   "source": [
    "If completed steps above, please go to [View Deployed Task Results](#View-Deployed-Task-Results) to view results, or [terminate task](#terminate-task) for more functions related to tasks"
   ]
  },
  {
   "cell_type": "markdown",
   "metadata": {},
   "source": [
    "## No Auto Pay Path"
   ]
  },
  {
   "cell_type": "markdown",
   "metadata": {},
   "source": [
    "### Create task (No auto_pay)\n",
    "\n",
    "This creates task, but does not pay or deploy task. It gets `task_uuid`, which is useful in payment steps.\n",
    "\n",
    "`wallet_address` is mandatory. `job_source_uri` is mandatory in this demo, please check out example-demo-prebuilt-image if deploying prebuilt images.\n",
    "\n",
    "`job_source_uri` is repository url of code to be deployed, must contain a must contain a dockerfile or deploy.yaml file"
   ]
  },
  {
   "cell_type": "code",
   "execution_count": 24,
   "metadata": {},
   "outputs": [
    {
     "name": "stdout",
     "output_type": "stream",
     "text": [
      "{\n",
      "  \"data\": {\n",
      "    \"task\": {\n",
      "      \"comments\": null,\n",
      "      \"created_at\": 1719598966,\n",
      "      \"end_at\": 1719602566,\n",
      "      \"id\": 26615,\n",
      "      \"leading_job_id\": null,\n",
      "      \"refund_amount\": null,\n",
      "      \"refund_wallet\": \"0x00165Ca5Ab193c4D2709F94A5418165bA04394E6\",\n",
      "      \"source\": \"v2\",\n",
      "      \"start_at\": 1719598966,\n",
      "      \"start_in\": 300,\n",
      "      \"status\": \"initialized\",\n",
      "      \"task_detail\": {\n",
      "        \"amount\": 1.0,\n",
      "        \"bidder_limit\": 3,\n",
      "        \"created_at\": 1719598966,\n",
      "        \"duration\": 3600,\n",
      "        \"end_at\": 1719602566,\n",
      "        \"hardware\": \"C1ae.medium\",\n",
      "        \"job_result_uri\": null,\n",
      "        \"job_source_uri\": \"https://data.mcs.lagrangedao.org/ipfs/QmR1MpG8RPT32RyutkZc5w9PSjXgYE5CynfNaxDh8taCGs\",\n",
      "        \"price_per_hour\": \"1.0\",\n",
      "        \"requirements\": {\n",
      "          \"hardware\": \"None\",\n",
      "          \"hardware_type\": \"CPU\",\n",
      "          \"memory\": \"4\",\n",
      "          \"region\": \"North Carolina-US\",\n",
      "          \"vcpu\": \"4\"\n",
      "        },\n",
      "        \"start_at\": 1719598966,\n",
      "        \"status\": \"paid\",\n",
      "        \"storage_source\": \"swanhub\",\n",
      "        \"type\": \"instance\",\n",
      "        \"updated_at\": 1719598966\n",
      "      },\n",
      "      \"task_detail_cid\": null,\n",
      "      \"tx_hash\": null,\n",
      "      \"type\": null,\n",
      "      \"updated_at\": 1719598966,\n",
      "      \"user_id\": 1986,\n",
      "      \"uuid\": \"c0f7cce4-a88a-427a-a445-cfb033651064\"\n",
      "    }\n",
      "  },\n",
      "  \"message\": \"Task_uuid initialized.\",\n",
      "  \"status\": \"success\",\n",
      "  \"id\": \"c0f7cce4-a88a-427a-a445-cfb033651064\"\n",
      "}\n"
     ]
    }
   ],
   "source": [
    "# job_source_uri = '<github repository url of code to be deployed>'\n",
    "\n",
    "# Demo example: uncomment to use\n",
    "job_source_uri = 'https://github.com/alphaflows/tetris-docker-image.git'\n",
    "\n",
    "result = swan_orchestrator.create_task(\n",
    "    wallet_address=wallet_address,\n",
    "    job_source_uri=job_source_uri,\n",
    "    hardware_id=hardware_id, # Optional: Defaults to hardware_id set in set_default_task_config or 0 (free) if not set\n",
    "    region='North Carolina-US', # Optional: Defaults to region set in set_default_task_config or global if not set\n",
    "    duration=duration, # Optional: Defaults to 3600 seconds\n",
    "    auto_pay=False, # Optional: Defaults to false\n",
    ")\n",
    "\n",
    "print(json.dumps(result, indent=2))\n",
    "\n",
    "# Store the task_uuid of created task\n",
    "task_uuid = result['id']"
   ]
  },
  {
   "cell_type": "markdown",
   "metadata": {},
   "source": [
    "### Make Payment (Optional)\n",
    "\n",
    "This step is using `task_uuid`, `private_key`,  `duration`, and `hardware_id` to submit payment and make task eligible for assigning if payment successful via swan SDK. `task_uuid`, `private_key` are mandatory.\n",
    "\n",
    "If following this section, please skip to - [View Deployed Task Results](#View-Deployed-Task-Results) next.\n",
    "If do not want to submit payment with swan SDK, and directly made payment to swan contract instead, please move onto next section."
   ]
  },
  {
   "cell_type": "code",
   "execution_count": 25,
   "metadata": {},
   "outputs": [
    {
     "name": "stdout",
     "output_type": "stream",
     "text": [
      "{\n",
      "  \"data\": {\n",
      "    \"task\": {\n",
      "      \"comments\": null,\n",
      "      \"created_at\": 1719598966,\n",
      "      \"end_at\": 1719602566,\n",
      "      \"id\": 26615,\n",
      "      \"leading_job_id\": null,\n",
      "      \"refund_amount\": null,\n",
      "      \"refund_wallet\": \"0x00165Ca5Ab193c4D2709F94A5418165bA04394E6\",\n",
      "      \"source\": \"v2\",\n",
      "      \"start_at\": 1719598966,\n",
      "      \"start_in\": 300,\n",
      "      \"status\": \"created\",\n",
      "      \"task_detail\": {\n",
      "        \"amount\": 1.0,\n",
      "        \"bidder_limit\": 3,\n",
      "        \"created_at\": 1719598966,\n",
      "        \"duration\": 3600,\n",
      "        \"end_at\": 1719602566,\n",
      "        \"hardware\": \"C1ae.medium\",\n",
      "        \"job_result_uri\": null,\n",
      "        \"job_source_uri\": \"https://data.mcs.lagrangedao.org/ipfs/QmR1MpG8RPT32RyutkZc5w9PSjXgYE5CynfNaxDh8taCGs\",\n",
      "        \"price_per_hour\": \"1.0\",\n",
      "        \"requirements\": {\n",
      "          \"hardware\": \"None\",\n",
      "          \"hardware_type\": \"CPU\",\n",
      "          \"memory\": \"4\",\n",
      "          \"region\": \"North Carolina-US\",\n",
      "          \"vcpu\": \"4\"\n",
      "        },\n",
      "        \"start_at\": 1719598966,\n",
      "        \"status\": \"paid\",\n",
      "        \"storage_source\": \"swanhub\",\n",
      "        \"type\": \"instance\",\n",
      "        \"updated_at\": 1719598966\n",
      "      },\n",
      "      \"task_detail_cid\": \"https://data.mcs.lagrangedao.org/ipfs/QmaETbPcSE1T1wDBQkt1BSM2etSJFpwLZWg3x4GryTR3EJ\",\n",
      "      \"tx_hash\": null,\n",
      "      \"type\": null,\n",
      "      \"updated_at\": 1719598992,\n",
      "      \"user_id\": 1986,\n",
      "      \"uuid\": \"c0f7cce4-a88a-427a-a445-cfb033651064\"\n",
      "    }\n",
      "  },\n",
      "  \"message\": \"Task payment validated successfully.\",\n",
      "  \"status\": \"success\",\n",
      "  \"tx_hash\": \"0x19facf266bcebcff41d1a26e846868b938746115542d23e1996aaa5b41fc88ab\"\n",
      "}\n"
     ]
    }
   ],
   "source": [
    "if result_validation := swan_orchestrator.make_payment(\n",
    "    task_uuid=task_uuid, \n",
    "    private_key=private_key,\n",
    "    duration=duration, # Optional: Defaults to 3600 seconds (1 hour)\n",
    "    hardware_id=hardware_id # Optional: Defaults to hardware_id set in set_default_task_config or 0 (free) if not set\n",
    "):\n",
    "    print(json.dumps(result_validation, indent=2))\n",
    "else:\n",
    "    print('validation failed')"
   ]
  },
  {
   "cell_type": "markdown",
   "metadata": {},
   "source": [
    "### Validate Payment to deploy task\n",
    "\n",
    "Only use this if paid directly to contract. If used make_payment section above, ignore this section.\n",
    "\n",
    "This step will use `tx_hash` and `task_uuid` to validate the payment and then make task eligible for assigning if validation successful"
   ]
  },
  {
   "cell_type": "markdown",
   "metadata": {},
   "source": [
    "Will Delete the submit_payment code block below in final version"
   ]
  },
  {
   "cell_type": "code",
   "execution_count": 10,
   "metadata": {},
   "outputs": [],
   "source": [
    "tx_hash = swan_orchestrator.submit_payment(\n",
    "    task_uuid=task_uuid, \n",
    "    private_key=private_key\n",
    ")"
   ]
  },
  {
   "cell_type": "code",
   "execution_count": 12,
   "metadata": {},
   "outputs": [
    {
     "name": "stdout",
     "output_type": "stream",
     "text": [
      "{'tx_hash': '0x2f00af7c5e936cab22f1b51a1329fd6d86cd04c9aba62c494d2035408508cfcc', 'task_uuid': 'b30c11fe-0714-4f46-86ae-493d23ce269f'}\n",
      "{\n",
      "  \"data\": {\n",
      "    \"config_id\": 1,\n",
      "    \"created_at\": 1719592814,\n",
      "    \"duration\": 3600,\n",
      "    \"ended_at\": null,\n",
      "    \"error_code\": null,\n",
      "    \"id\": 2441,\n",
      "    \"order_type\": \"Creation\",\n",
      "    \"refund_tx_hash\": null,\n",
      "    \"region\": \"North Carolina-US\",\n",
      "    \"space_id\": null,\n",
      "    \"start_in\": 300,\n",
      "    \"started_at\": 1719592814,\n",
      "    \"status\": \"pending_payment_confirm\",\n",
      "    \"task_uuid\": \"b30c11fe-0714-4f46-86ae-493d23ce269f\",\n",
      "    \"tx_hash\": \"0x2f00af7c5e936cab22f1b51a1329fd6d86cd04c9aba62c494d2035408508cfcc\",\n",
      "    \"updated_at\": 1719592940,\n",
      "    \"uuid\": \"827848b5-5a6f-46c7-837d-03d780c4e425\"\n",
      "  },\n",
      "  \"message\": \"Query order status success.\",\n",
      "  \"status\": \"success\"\n",
      "}\n"
     ]
    }
   ],
   "source": [
    "if result_validation := swan_orchestrator.validate_payment(\n",
    "    tx_hash=tx_hash, # \"<tx_hash of payment of task_uuid to swan contract>\",\n",
    "    task_uuid=task_uuid\n",
    "):\n",
    "    print(json.dumps(result_validation, indent=2))\n",
    "else:\n",
    "    print('validation failed')"
   ]
  },
  {
   "cell_type": "markdown",
   "metadata": {},
   "source": [
    "### Renew Task (no auto-pay) (Optional)\n",
    "\n",
    "Extend `task_uuid` by `duration`. `tx_hash` of payment for extension required."
   ]
  },
  {
   "cell_type": "markdown",
   "metadata": {},
   "source": [
    "Will Delete the submit_payment code block below in final version"
   ]
  },
  {
   "cell_type": "code",
   "execution_count": 13,
   "metadata": {},
   "outputs": [],
   "source": [
    "tx_hash = swan_orchestrator.submit_payment(\n",
    "    task_uuid=task_uuid, \n",
    "    private_key=private_key,\n",
    "    duration=60, # Optional: Defaults to 3600 seconds (1 hour)\n",
    "    hardware_id=hardware_id # Optional: Defaults to hardware_id set in set_default_task_config or 0 (free) if not set\n",
    ")"
   ]
  },
  {
   "cell_type": "code",
   "execution_count": 15,
   "metadata": {},
   "outputs": [
    {
     "name": "stdout",
     "output_type": "stream",
     "text": [
      "successfully renewed task\n"
     ]
    }
   ],
   "source": [
    "renew_task = swan_orchestrator.renew_task(\n",
    "    task_uuid=task_uuid, \n",
    "    duration=60, # Optional: Defaults to 3600 seconds (1 hour)\n",
    "    tx_hash=tx_hash, # tx_hash of payment to swan contract for this task\n",
    "    hardware_id=hardware_id # Optional: Defaults to hardware_id set in set_default_task_config or 0 (free) if not set\n",
    ")\n",
    "\n",
    "if renew_task and renew_task['status'] == 'success':\n",
    "    print(f\"successfully renewed {task_uuid}\")\n",
    "else:\n",
    "    print(f\"Unable to renew {task_uuid}\")"
   ]
  },
  {
   "cell_type": "markdown",
   "metadata": {},
   "source": [
    "### terminate task (Optional)\n",
    "\n",
    "Terminate the task `task_uuid` and get a refund for remaining time"
   ]
  },
  {
   "cell_type": "code",
   "execution_count": 36,
   "metadata": {},
   "outputs": [
    {
     "name": "stdout",
     "output_type": "stream",
     "text": [
      "Terminated a64452cf-fb1c-49bd-bfbe-bfe2b0b09f51 successfully\n"
     ]
    }
   ],
   "source": [
    "terminate_status = swan_orchestrator.terminate_task(task_uuid)\n",
    "if terminate_status['status'] == 'success':\n",
    "    print(f\"Terminated {task_uuid} successfully\")\n",
    "else:\n",
    "    print(f\"Failed to terminate {task_uuid}\")"
   ]
  },
  {
   "cell_type": "markdown",
   "metadata": {},
   "source": [
    "### claim review (Optional)\n",
    "\n",
    "Review if `task_uui` uptime is above 90% and give refund if below 90%"
   ]
  },
  {
   "cell_type": "code",
   "execution_count": null,
   "metadata": {},
   "outputs": [],
   "source": [
    "claim_review = swan_orchestrator.claim_review(task_uuid)\n",
    "print(claim_review)"
   ]
  },
  {
   "cell_type": "markdown",
   "metadata": {},
   "source": [
    "## View Deployed Task Results"
   ]
  },
  {
   "cell_type": "markdown",
   "metadata": {},
   "source": [
    "### follow up task status (optional)\n",
    "The following step is optional, shows information when waiting for task being deployed."
   ]
  },
  {
   "cell_type": "code",
   "execution_count": 31,
   "metadata": {},
   "outputs": [
    {
     "data": {
      "text/plain": [
       "'c0f7cce4-a88a-427a-a445-cfb033651064'"
      ]
     },
     "execution_count": 31,
     "metadata": {},
     "output_type": "execute_result"
    }
   ],
   "source": [
    "task_uuid"
   ]
  },
  {
   "cell_type": "code",
   "execution_count": 30,
   "metadata": {},
   "outputs": [
    {
     "name": "stdout",
     "output_type": "stream",
     "text": [
      "{\n",
      "  \"data\": {\n",
      "    \"computing_providers\": [],\n",
      "    \"jobs\": [],\n",
      "    \"task\": {\n",
      "      \"comments\": \"selected bidders empty\",\n",
      "      \"created_at\": 1719598966,\n",
      "      \"end_at\": 1719602566,\n",
      "      \"id\": 26615,\n",
      "      \"leading_job_id\": null,\n",
      "      \"refund_amount\": null,\n",
      "      \"refund_wallet\": \"0x00165Ca5Ab193c4D2709F94A5418165bA04394E6\",\n",
      "      \"source\": \"v2\",\n",
      "      \"start_at\": 1719598966,\n",
      "      \"start_in\": 300,\n",
      "      \"status\": \"failed\",\n",
      "      \"task_detail\": {\n",
      "        \"amount\": 1.0,\n",
      "        \"bidder_limit\": 3,\n",
      "        \"created_at\": 1719598966,\n",
      "        \"duration\": 3600,\n",
      "        \"end_at\": 1719602566,\n",
      "        \"hardware\": \"C1ae.medium\",\n",
      "        \"job_result_uri\": null,\n",
      "        \"job_source_uri\": \"https://data.mcs.lagrangedao.org/ipfs/QmR1MpG8RPT32RyutkZc5w9PSjXgYE5CynfNaxDh8taCGs\",\n",
      "        \"price_per_hour\": \"1.0\",\n",
      "        \"requirements\": {\n",
      "          \"hardware\": \"None\",\n",
      "          \"hardware_type\": \"CPU\",\n",
      "          \"memory\": \"4\",\n",
      "          \"region\": \"North Carolina-US\",\n",
      "          \"vcpu\": \"4\"\n",
      "        },\n",
      "        \"start_at\": 1719598966,\n",
      "        \"status\": \"paid\",\n",
      "        \"storage_source\": \"swanhub\",\n",
      "        \"type\": \"instance\",\n",
      "        \"updated_at\": 1719598966\n",
      "      },\n",
      "      \"task_detail_cid\": \"https://data.mcs.lagrangedao.org/ipfs/QmaETbPcSE1T1wDBQkt1BSM2etSJFpwLZWg3x4GryTR3EJ\",\n",
      "      \"tx_hash\": null,\n",
      "      \"type\": null,\n",
      "      \"updated_at\": 1719598997,\n",
      "      \"user_id\": 1986,\n",
      "      \"uuid\": \"c0f7cce4-a88a-427a-a445-cfb033651064\"\n",
      "    }\n",
      "  },\n",
      "  \"message\": \"fetch task info for task_uuid='c0f7cce4-a88a-427a-a445-cfb033651064' successfully\",\n",
      "  \"status\": \"success\"\n",
      "}\n"
     ]
    }
   ],
   "source": [
    "# Check task info\n",
    "info = swan_orchestrator.get_deployment_info(task_uuid=task_uuid)\n",
    "print(json.dumps(info, indent=2))"
   ]
  },
  {
   "cell_type": "markdown",
   "metadata": {},
   "source": [
    "### Show result\n",
    "\n",
    "`job_real_uri` is for show the result of application you deployed.  \n",
    "You can put it into the web browser to view application."
   ]
  },
  {
   "cell_type": "code",
   "execution_count": 27,
   "metadata": {},
   "outputs": [
    {
     "name": "stdout",
     "output_type": "stream",
     "text": [
      "[]\n"
     ]
    }
   ],
   "source": [
    "result_url = swan_orchestrator.get_real_url(task_uuid)\n",
    "print(result_url)"
   ]
  },
  {
   "cell_type": "markdown",
   "metadata": {},
   "source": [
    "Check the response codes of the result_url"
   ]
  },
  {
   "cell_type": "code",
   "execution_count": 19,
   "metadata": {},
   "outputs": [
    {
     "name": "stdout",
     "output_type": "stream",
     "text": [
      "Expecting value: line 1 column 1 (char 0)\n",
      "<Response [200]>\n"
     ]
    }
   ],
   "source": [
    "import requests\n",
    "import json\n",
    "\n",
    "headers = {\n",
    "    'Content-Type': 'application/json',\n",
    "}\n",
    "\n",
    "for url in result_url:\n",
    "    response = requests.get(url, headers=headers)\n",
    "\n",
    "    try:\n",
    "        print(json.dumps(response.json(), indent=4))\n",
    "    except Exception as e:\n",
    "        print(e)\n",
    "        print(response)\n"
   ]
  }
 ],
 "metadata": {
  "kernelspec": {
   "display_name": "swanchain",
   "language": "python",
   "name": "python3"
  },
  "language_info": {
   "codemirror_mode": {
    "name": "ipython",
    "version": 3
   },
   "file_extension": ".py",
   "mimetype": "text/x-python",
   "name": "python",
   "nbconvert_exporter": "python",
   "pygments_lexer": "ipython3",
   "version": "3.10.0"
  }
 },
 "nbformat": 4,
 "nbformat_minor": 2
}
