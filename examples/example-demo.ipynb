{
 "cells": [
  {
   "cell_type": "markdown",
   "metadata": {},
   "source": [
    "## Demo for SDK\n",
    "\n",
    "This example shows how to use SDK to deploy a task. The demo notebook includes the following steps:\n",
    "- [initialization](#initialization)\n",
    "- [show available hardware info list](#show-available-hardware-information)\n",
    "- [choose hardware config](#choose-hardware-config)\n",
    "- [get `job_source_uri`](#get-job_source_uri)\n",
    "- [estimate payment amount](#estimate-payment-amount)\n",
    "- [create task to get `task_uuid`](#create-task)\n",
    "- [submit payment](#submit-payment)\n",
    "- [validate payment](#validate-payment-to-deploy-task)\n",
    "- [follow up task status](#follow-up-task-status-optional)\n",
    "- [show result](#show-result)\n"
   ]
  },
  {
   "cell_type": "markdown",
   "metadata": {},
   "source": [
    "\n",
    "### Initialization\n",
    "\n",
    "#### get an `API_KEY`\n",
    "\n",
    "- For test version, get `API_KEY` in dashboard page: https://orchestrator-test.swanchain.io\n",
    "- For prod version, get `API_KEY` in dashboard page: https://orchestrator.swanchain.io\n",
    "\n",
    "If use this repository to test on your local machine, add `sys.path.insert(0, '..')` at the beginning, and run code in the root directory of this repository.\n",
    "\n",
    "To use this SDK, you need to add environment file `.env` in your local directory, including the following parameters (`PK` is private key):\n",
    "\n",
    "```\n",
    "API_KEY=\n",
    "WALLET=\n",
    "PK=\n",
    "```"
   ]
  },
  {
   "cell_type": "code",
   "execution_count": 15,
   "metadata": {},
   "outputs": [],
   "source": [
    "import sys\n",
    "sys.path.insert(0, '..') \n",
    "\n",
    "import os\n",
    "import time\n",
    "import dotenv\n",
    "import json\n",
    "dotenv.load_dotenv()\n",
    "from swan import SwanAPI\n",
    "\n",
    "# dev_url = \"https://swanhub-cali.swanchain.io\"\n",
    "# dev_url = \"http://127.0.0.1:5008\"\n",
    "\n",
    "# Initialize the Swan Service\n",
    "# dev\n",
    "# swan_api = SwanAPI(api_key=os.getenv(\"API_KEY\"), environment=dev_url)\n",
    "# prod\n",
    "swan_api = SwanAPI(api_key=os.getenv(\"API_KEY\"))\n",
    "\n",
    "from swan.contract.swan_contract import SwanContract\n",
    "\n",
    "contract = SwanContract(os.getenv('PK'), swan_api.contract_info)"
   ]
  },
  {
   "cell_type": "code",
   "execution_count": 16,
   "metadata": {},
   "outputs": [
    {
     "name": "stdout",
     "output_type": "stream",
     "text": [
      "{\n",
      "  \"client_contract_address\": \"0x20a67c6Bea000fAf0BE862BB254F092abF0E5b98\",\n",
      "  \"payment_contract_address\": \"0x5094A609Af5184d076Be2DF741820732126b4Fd2\",\n",
      "  \"rpc_url\": \"https://rpc-atom-internal.swanchain.io\",\n",
      "  \"swan_token_contract_address\": \"0x91B25A65b295F0405552A4bbB77879ab5e38166c\"\n",
      "}\n"
     ]
    }
   ],
   "source": [
    "r = swan_api.contract_info\n",
    "print(json.dumps(r, indent=2))"
   ]
  },
  {
   "cell_type": "markdown",
   "metadata": {},
   "source": [
    "### Show available hardware information"
   ]
  },
  {
   "cell_type": "code",
   "execution_count": 17,
   "metadata": {},
   "outputs": [
    {
     "data": {
      "text/plain": [
       "[{'id': 0,\n",
       "  'name': 'C1ae.small',\n",
       "  'description': 'CPU only · 2 vCPU · 2 GiB',\n",
       "  'type': 'CPU',\n",
       "  'reigion': ['North Carolina-US',\n",
       "   'Bashkortostan Republic-RU',\n",
       "   'Kyiv City-UA',\n",
       "   'Kowloon City-HK',\n",
       "   'Tokyo-JP',\n",
       "   'California-US',\n",
       "   'Central and Western District-HK',\n",
       "   'Quebec-CA',\n",
       "   'North West-SG',\n",
       "   'Kwai Tsing-HK',\n",
       "   'Bavaria-DE',\n",
       "   'Saxony-DE',\n",
       "   'Guangdong-CN',\n",
       "   'Kowloon-HK',\n",
       "   'North Rhine-Westphalia-DE'],\n",
       "  'price': '0.0',\n",
       "  'status': 'available'},\n",
       " {'id': 1,\n",
       "  'name': 'C1ae.medium',\n",
       "  'description': 'CPU only · 4 vCPU · 4 GiB',\n",
       "  'type': 'CPU',\n",
       "  'reigion': ['North Carolina-US',\n",
       "   'Bashkortostan Republic-RU',\n",
       "   'Kyiv City-UA',\n",
       "   'Kowloon City-HK',\n",
       "   'Tokyo-JP',\n",
       "   'California-US',\n",
       "   'Central and Western District-HK',\n",
       "   'Quebec-CA',\n",
       "   'North West-SG',\n",
       "   'Kwai Tsing-HK',\n",
       "   'Bavaria-DE',\n",
       "   'Guangdong-CN',\n",
       "   'Kowloon-HK',\n",
       "   'North Rhine-Westphalia-DE'],\n",
       "  'price': '1.0',\n",
       "  'status': 'available'},\n",
       " {'id': 4,\n",
       "  'name': 'M1ae.large',\n",
       "  'description': 'Nvidia 3060 · 8 vCPU · 8 GiB',\n",
       "  'type': 'GPU',\n",
       "  'reigion': ['Kyiv City-UA'],\n",
       "  'price': '4.0',\n",
       "  'status': 'available'},\n",
       " {'id': 6,\n",
       "  'name': 'M1ae.2xlarge',\n",
       "  'description': 'Nvidia 2080 Ti · 4 vCPU · 8 GiB',\n",
       "  'type': 'GPU',\n",
       "  'reigion': ['North Carolina-US'],\n",
       "  'price': '6.0',\n",
       "  'status': 'available'},\n",
       " {'id': 7,\n",
       "  'name': 'M1ae.3xlarge',\n",
       "  'description': 'Nvidia 2080 Ti · 8 vCPU · 16 GiB',\n",
       "  'type': 'GPU',\n",
       "  'reigion': ['North Carolina-US'],\n",
       "  'price': '6.5',\n",
       "  'status': 'available'},\n",
       " {'id': 12,\n",
       "  'name': 'G1ae.small',\n",
       "  'description': 'Nvidia 3080 · 4 vCPU · 8 GiB',\n",
       "  'type': 'GPU',\n",
       "  'reigion': ['North Carolina-US',\n",
       "   'Kowloon City-HK',\n",
       "   'Tokyo-JP',\n",
       "   'California-US',\n",
       "   'Quebec-CA',\n",
       "   'Kwai Tsing-HK'],\n",
       "  'price': '10.0',\n",
       "  'status': 'available'},\n",
       " {'id': 13,\n",
       "  'name': 'G1ae.medium',\n",
       "  'description': 'Nvidia 3080 · 8 vCPU · 16 GiB',\n",
       "  'type': 'GPU',\n",
       "  'reigion': ['North Carolina-US',\n",
       "   'Kowloon City-HK',\n",
       "   'Tokyo-JP',\n",
       "   'California-US',\n",
       "   'Quebec-CA',\n",
       "   'Kwai Tsing-HK'],\n",
       "  'price': '11.0',\n",
       "  'status': 'available'},\n",
       " {'id': 20,\n",
       "  'name': 'Hpc1ae.small',\n",
       "  'description': 'Nvidia 3090 · 4 vCPU · 8 GiB',\n",
       "  'type': 'GPU',\n",
       "  'reigion': ['North Carolina-US',\n",
       "   'California-US',\n",
       "   'Quebec-CA',\n",
       "   'Guangdong-CN',\n",
       "   'Kowloon-HK'],\n",
       "  'price': '14.0',\n",
       "  'status': 'available'},\n",
       " {'id': 21,\n",
       "  'name': 'Hpc1ae.medium',\n",
       "  'description': 'Nvidia 3090 · 8 vCPU · 16 GiB',\n",
       "  'type': 'GPU',\n",
       "  'reigion': ['North Carolina-US',\n",
       "   'California-US',\n",
       "   'Quebec-CA',\n",
       "   'Guangdong-CN',\n",
       "   'Kowloon-HK'],\n",
       "  'price': '16.0',\n",
       "  'status': 'available'},\n",
       " {'id': 24,\n",
       "  'name': 'Hpc1ae.2xlarge',\n",
       "  'description': 'NVIDIA A4000 · 4 vCPU · 8 GiB',\n",
       "  'type': 'AI GPU',\n",
       "  'reigion': ['North Carolina-US'],\n",
       "  'price': '21.0',\n",
       "  'status': 'available'},\n",
       " {'id': 25,\n",
       "  'name': 'Hpc1ae.3xlarge',\n",
       "  'description': 'NVIDIA A4000 · 8 vCPU · 16 GiB',\n",
       "  'type': 'AI GPU',\n",
       "  'reigion': ['North Carolina-US'],\n",
       "  'price': '21.0',\n",
       "  'status': 'available'},\n",
       " {'id': 27,\n",
       "  'name': 'T1ae.medium',\n",
       "  'description': 'Nvidia 2080 Ti · 12 vCPU · 64 GiB',\n",
       "  'type': 'GPU',\n",
       "  'reigion': ['North Carolina-US'],\n",
       "  'price': '36.0',\n",
       "  'status': 'available'},\n",
       " {'id': 32,\n",
       "  'name': 'Hpc2ae.small',\n",
       "  'description': 'Nvidia 4090 · 4 vCPU · 8 GiB',\n",
       "  'type': 'AI GPU',\n",
       "  'reigion': ['Bavaria-DE', 'Tokyo-JP', 'Bashkortostan Republic-RU'],\n",
       "  'price': '22.0',\n",
       "  'status': 'available'},\n",
       " {'id': 33,\n",
       "  'name': 'Hpc2ae.medium',\n",
       "  'description': 'Nvidia 4090 · 8 vCPU · 16 GiB',\n",
       "  'type': 'AI GPU',\n",
       "  'reigion': ['Bavaria-DE', 'Tokyo-JP', 'Bashkortostan Republic-RU'],\n",
       "  'price': '24.0',\n",
       "  'status': 'available'},\n",
       " {'id': 42,\n",
       "  'name': 'T1az.2xlarge',\n",
       "  'description': 'Nvidia 4090 · 8 vCPU · 64 GiB',\n",
       "  'type': 'AI GPU',\n",
       "  'reigion': ['Bavaria-DE', 'Tokyo-JP', 'Bashkortostan Republic-RU'],\n",
       "  'price': '60.0',\n",
       "  'status': 'available'},\n",
       " {'id': 44,\n",
       "  'name': 'T1az.4xlarge',\n",
       "  'description': 'Nvidia A4000 · 8 vCPU · 64 GiB',\n",
       "  'type': 'AI GPU',\n",
       "  'reigion': ['North Carolina-US'],\n",
       "  'price': '65.0',\n",
       "  'status': 'available'},\n",
       " {'id': 53,\n",
       "  'name': 'T2az.2xlarge',\n",
       "  'description': 'Nvidia 4090 · 12 vCPU · 128 GiB',\n",
       "  'type': 'AI GPU',\n",
       "  'reigion': ['Bavaria-DE', 'Tokyo-JP'],\n",
       "  'price': '70.0',\n",
       "  'status': 'available'},\n",
       " {'id': 55,\n",
       "  'name': 'T2az.4xlarge',\n",
       "  'description': 'Nvidia A4000 · 12 vCPU · 128 GiB',\n",
       "  'type': 'AI GPU',\n",
       "  'reigion': ['North Carolina-US'],\n",
       "  'price': '75.0',\n",
       "  'status': 'available'},\n",
       " {'id': 63,\n",
       "  'name': 'Hpc2ad.medium',\n",
       "  'description': 'Nvidia 4070 · 4 vCPU · 8 GiB',\n",
       "  'type': 'AI GPU',\n",
       "  'reigion': ['North Rhine-Westphalia-DE'],\n",
       "  'price': '18.0',\n",
       "  'status': 'available'},\n",
       " {'id': 68,\n",
       "  'name': 'Hpc2az.medium',\n",
       "  'description': 'Nvidia 4070 · 8 vCPU · 16 GiB',\n",
       "  'type': 'AI GPU',\n",
       "  'reigion': ['North Rhine-Westphalia-DE'],\n",
       "  'price': '23.0',\n",
       "  'status': 'available'},\n",
       " {'id': 72,\n",
       "  'name': 'R1ae.small',\n",
       "  'description': 'Nvidia 2080 TI · 8 vCPU · 32 GiB',\n",
       "  'type': 'GPU',\n",
       "  'reigion': ['North Carolina-US'],\n",
       "  'price': '12.0',\n",
       "  'status': 'available'},\n",
       " {'id': 73,\n",
       "  'name': 'R1ae.medium',\n",
       "  'description': 'Nvidia 3080 · 8 vCPU · 32 GiB',\n",
       "  'type': 'GPU',\n",
       "  'reigion': ['North Carolina-US',\n",
       "   'Kowloon City-HK',\n",
       "   'Tokyo-JP',\n",
       "   'California-US',\n",
       "   'Quebec-CA',\n",
       "   'Kwai Tsing-HK'],\n",
       "  'price': '22.0',\n",
       "  'status': 'available'},\n",
       " {'id': 74,\n",
       "  'name': 'R1ae.large',\n",
       "  'description': 'Nvidia 3090 · 8 vCPU · 32 GiB',\n",
       "  'type': 'GPU',\n",
       "  'reigion': ['North Carolina-US',\n",
       "   'California-US',\n",
       "   'Quebec-CA',\n",
       "   'Guangdong-CN',\n",
       "   'Kowloon-HK'],\n",
       "  'price': '30.0',\n",
       "  'status': 'available'},\n",
       " {'id': 77,\n",
       "  'name': 'R2ae.large',\n",
       "  'description': 'Nvidia 4090 · 8 vCPU · 32 GiB',\n",
       "  'type': 'AI GPU',\n",
       "  'reigion': ['Bavaria-DE', 'Tokyo-JP', 'Bashkortostan Republic-RU'],\n",
       "  'price': '50.0',\n",
       "  'status': 'available'},\n",
       " {'id': 78,\n",
       "  'name': 'R2ae.xlarge',\n",
       "  'description': 'Nvidia A4000 · 8 vCPU · 32 GiB',\n",
       "  'type': 'AI GPU',\n",
       "  'reigion': ['North Carolina-US'],\n",
       "  'price': '52.0',\n",
       "  'status': 'available'}]"
      ]
     },
     "execution_count": 17,
     "metadata": {},
     "output_type": "execute_result"
    }
   ],
   "source": [
    "hardwares = swan_api.get_hardware_config()\n",
    "hardwares_info = [hardware.to_dict() for hardware in hardwares if hardware.status == \"available\"] \n",
    "hardwares_info"
   ]
  },
  {
   "cell_type": "markdown",
   "metadata": {},
   "source": [
    "### Choose hardware config\n",
    "\n",
    "choose the hardware with its config name or hardware id\n",
    "\n",
    "in hardware config, `cfg_name` and `hardware_id` will be used in the steps to deploy task (create task and submit payment)"
   ]
  },
  {
   "cell_type": "code",
   "execution_count": 18,
   "metadata": {},
   "outputs": [
    {
     "name": "stdout",
     "output_type": "stream",
     "text": [
      "hardware.name='C1ae.small', hardware.id=0, ['North Carolina-US', 'Bashkortostan Republic-RU', 'Kyiv City-UA', 'Kowloon City-HK', 'Tokyo-JP', 'California-US', 'Central and Western District-HK', 'Quebec-CA', 'North West-SG', 'Kwai Tsing-HK', 'Bavaria-DE', 'Saxony-DE', 'Guangdong-CN', 'Kowloon-HK', 'North Rhine-Westphalia-DE']\n",
      "The chosen hardware_id=0\n"
     ]
    }
   ],
   "source": [
    "cfg_name = 'C1ae.small' #\"G1ae.medium\"\n",
    "hardware = [hardware for hardware in hardwares if hardware.name == cfg_name][0]\n",
    "print(f\"{hardware.name=}, {hardware.id=}, {hardware.region}\")\n",
    "\n",
    "hardware_id = hardware.id\n",
    "print(f\"The chosen {hardware_id=}\")"
   ]
  },
  {
   "cell_type": "code",
   "execution_count": 19,
   "metadata": {},
   "outputs": [
    {
     "data": {
      "text/plain": [
       "0"
      ]
     },
     "execution_count": 19,
     "metadata": {},
     "output_type": "execute_result"
    }
   ],
   "source": [
    "hardware_id"
   ]
  },
  {
   "cell_type": "markdown",
   "metadata": {},
   "source": [
    "### Get `job_source_uri`\n",
    "\n",
    "We can use the `get_source_uri` interface to get a `job_source_uri` for creating task."
   ]
  },
  {
   "cell_type": "code",
   "execution_count": 20,
   "metadata": {},
   "outputs": [],
   "source": [
    "\n",
    "job_source_uri = swan_api.get_source_uri(\n",
    "    repo_uri='https://github.com/alphaflows/tetris-docker-image.git',\n",
    "    hardware_id=hardware_id,\n",
    "    wallet_address=os.getenv('WALLET')\n",
    ")"
   ]
  },
  {
   "cell_type": "code",
   "execution_count": 21,
   "metadata": {},
   "outputs": [],
   "source": [
    "if job_source_uri and job_source_uri.get('data'):\n",
    "    job_source_uri = job_source_uri['data']['job_source_uri']"
   ]
  },
  {
   "cell_type": "code",
   "execution_count": 22,
   "metadata": {},
   "outputs": [
    {
     "data": {
      "text/plain": [
       "'https://data.mcs.lagrangedao.org/ipfs/QmWPaTd91qMm9qoAaXahe3r5Q18D8BTeHK27KUZHZwRcUp'"
      ]
     },
     "execution_count": 22,
     "metadata": {},
     "output_type": "execute_result"
    }
   ],
   "source": [
    "job_source_uri"
   ]
  },
  {
   "cell_type": "markdown",
   "metadata": {},
   "source": [
    "### Estimate Payment amount"
   ]
  },
  {
   "cell_type": "code",
   "execution_count": 23,
   "metadata": {},
   "outputs": [
    {
     "name": "stdout",
     "output_type": "stream",
     "text": [
      "0\n"
     ]
    }
   ],
   "source": [
    "duration_hour = 1 # hour\n",
    "amount = contract.estimate_payment(hardware_id, duration_hour)\n",
    "print(amount)"
   ]
  },
  {
   "cell_type": "markdown",
   "metadata": {},
   "source": [
    "### Create task\n",
    "\n",
    "This step uses above information to create task, and get `task_uuid`, which is useful in submit payment step."
   ]
  },
  {
   "cell_type": "code",
   "execution_count": 24,
   "metadata": {},
   "outputs": [
    {
     "name": "stdout",
     "output_type": "stream",
     "text": [
      "{\n",
      "  \"data\": {\n",
      "    \"task\": {\n",
      "      \"created_at\": \"1714767107\",\n",
      "      \"end_at\": \"1714770698\",\n",
      "      \"leading_job_id\": null,\n",
      "      \"refund_amount\": null,\n",
      "      \"status\": \"initialized\",\n",
      "      \"task_detail_cid\": \"https://data.mcs.lagrangedao.org/ipfs/QmPexyCMmdB2Yvbh5eLAvC8vho6B9TLttbSbr6xLQGNRoG\",\n",
      "      \"tx_hash\": null,\n",
      "      \"updated_at\": \"1714767107\",\n",
      "      \"uuid\": \"0caaf1b1-06b0-448e-a2c8-7f61fa5754fc\"\n",
      "    }\n",
      "  },\n",
      "  \"message\": \"Task_uuid initialized.\",\n",
      "  \"status\": \"success\"\n",
      "}\n"
     ]
    }
   ],
   "source": [
    "duration=3600*duration_hour\n",
    "\n",
    "result = swan_api.create_task(\n",
    "    cfg_name=cfg_name, \n",
    "    region='North Carolina-US', \n",
    "    start_in=300, \n",
    "    duration=duration, \n",
    "    job_source_uri=job_source_uri,\n",
    "    paid=contract._wei_to_swan(amount),\n",
    "    wallet_address=os.getenv('WALLET'),\n",
    ")\n",
    "print(json.dumps(result, indent=2))\n",
    "task_uuid = result['data']['task']['uuid']"
   ]
  },
  {
   "cell_type": "markdown",
   "metadata": {},
   "source": [
    "### Submit Payment\n",
    "\n",
    "This step is using `task_uuid`, `hardware_id` and `duration` to submit payment via **ClientPayment** contract."
   ]
  },
  {
   "cell_type": "code",
   "execution_count": 25,
   "metadata": {},
   "outputs": [
    {
     "name": "stdout",
     "output_type": "stream",
     "text": [
      "0xbd4dde0778d4c11e7f68fac8a58b71609a4633c299c657793d7e5e56eb302085\n"
     ]
    }
   ],
   "source": [
    "tx_hash = contract.submit_payment(task_uuid, hardware_id, duration)\n",
    "print(tx_hash)"
   ]
  },
  {
   "cell_type": "markdown",
   "metadata": {},
   "source": [
    "### Validate Payment to deploy task\n",
    "\n",
    "This step will validate the payment and then make task eligible for assigning if validation successful"
   ]
  },
  {
   "cell_type": "code",
   "execution_count": 26,
   "metadata": {},
   "outputs": [
    {
     "name": "stdout",
     "output_type": "stream",
     "text": [
      "{'tx_hash': '0xbd4dde0778d4c11e7f68fac8a58b71609a4633c299c657793d7e5e56eb302085', 'task_uuid': '0caaf1b1-06b0-448e-a2c8-7f61fa5754fc'}\n",
      "{\n",
      "  \"data\": {\n",
      "    \"task\": {\n",
      "      \"created_at\": \"1714767107\",\n",
      "      \"end_at\": \"1714770698\",\n",
      "      \"leading_job_id\": null,\n",
      "      \"refund_amount\": null,\n",
      "      \"status\": \"created\",\n",
      "      \"task_detail_cid\": \"https://data.mcs.lagrangedao.org/ipfs/QmPexyCMmdB2Yvbh5eLAvC8vho6B9TLttbSbr6xLQGNRoG\",\n",
      "      \"tx_hash\": null,\n",
      "      \"updated_at\": \"1714767127\",\n",
      "      \"uuid\": \"0caaf1b1-06b0-448e-a2c8-7f61fa5754fc\"\n",
      "    }\n",
      "  },\n",
      "  \"message\": \"Task payment validated successfully.\",\n",
      "  \"status\": \"success\"\n",
      "}\n"
     ]
    }
   ],
   "source": [
    "if result_validation := swan_api.validate_payment(\n",
    "    tx_hash=tx_hash,\n",
    "    task_uuid=task_uuid\n",
    "):\n",
    "    print(json.dumps(result_validation, indent=2))\n",
    "else:\n",
    "    print('validation failed')"
   ]
  },
  {
   "cell_type": "markdown",
   "metadata": {},
   "source": [
    "### follow up task status (optional)\n",
    "The following step is optional, shows information when waiting for task being deployed."
   ]
  },
  {
   "cell_type": "code",
   "execution_count": 28,
   "metadata": {},
   "outputs": [
    {
     "name": "stdout",
     "output_type": "stream",
     "text": [
      "{\n",
      "  \"data\": {\n",
      "    \"computing_providers\": [],\n",
      "    \"jobs\": [],\n",
      "    \"task\": {\n",
      "      \"created_at\": \"1714767107\",\n",
      "      \"end_at\": \"1714770698\",\n",
      "      \"leading_job_id\": null,\n",
      "      \"refund_amount\": null,\n",
      "      \"status\": \"accepting_bids\",\n",
      "      \"task_detail_cid\": \"https://data.mcs.lagrangedao.org/ipfs/QmPexyCMmdB2Yvbh5eLAvC8vho6B9TLttbSbr6xLQGNRoG\",\n",
      "      \"tx_hash\": null,\n",
      "      \"updated_at\": \"1714767131\",\n",
      "      \"uuid\": \"0caaf1b1-06b0-448e-a2c8-7f61fa5754fc\"\n",
      "    }\n",
      "  },\n",
      "  \"message\": \"fetch task info for task_uuid='0caaf1b1-06b0-448e-a2c8-7f61fa5754fc' successfully\",\n",
      "  \"status\": \"success\"\n",
      "}\n"
     ]
    }
   ],
   "source": [
    "# Check task info\n",
    "info = swan_api.get_deployment_info(task_uuid=task_uuid)\n",
    "print(json.dumps(info, indent=2))"
   ]
  },
  {
   "cell_type": "markdown",
   "metadata": {},
   "source": [
    "### Show result\n",
    "\n",
    "`job_real_uri` is for show the result of application you deployed.  \n",
    "You can put it into the web browser to view application."
   ]
  },
  {
   "cell_type": "code",
   "execution_count": null,
   "metadata": {},
   "outputs": [
    {
     "name": "stdout",
     "output_type": "stream",
     "text": [
      "['https://077dupt8wa.cp.filezoo.com.cn']\n"
     ]
    }
   ],
   "source": [
    "r = swan_api.get_real_url(task_uuid)\n",
    "print(r)"
   ]
  },
  {
   "cell_type": "code",
   "execution_count": null,
   "metadata": {},
   "outputs": [],
   "source": [
    "import requests\n",
    "import json\n",
    "\n",
    "headers = {\n",
    "    'Content-Type': 'application/json',\n",
    "}\n",
    "\n",
    "response = requests.get(r[0], headers=headers)\n",
    "\n",
    "try:\n",
    "    print(json.dumps(response.json(), indent=4))\n",
    "except Exception as e:\n",
    "    print(e)\n",
    "    print(response)\n"
   ]
  }
 ],
 "metadata": {
  "kernelspec": {
   "display_name": "swanchain",
   "language": "python",
   "name": "python3"
  },
  "language_info": {
   "codemirror_mode": {
    "name": "ipython",
    "version": 3
   },
   "file_extension": ".py",
   "mimetype": "text/x-python",
   "name": "python",
   "nbconvert_exporter": "python",
   "pygments_lexer": "ipython3",
   "version": "3.10.14"
  }
 },
 "nbformat": 4,
 "nbformat_minor": 2
}
